{
 "cells": [
  {
   "cell_type": "markdown",
   "id": "59e0d103-0441-44c4-926a-e86675f331a1",
   "metadata": {},
   "source": [
    "## Exercice 1(5 points): Culture générale "
   ]
  },
  {
   "cell_type": "markdown",
   "id": "a2a81cae-6608-40a8-a2c0-a3ba3e3d290f",
   "metadata": {},
   "source": [
    "[lien vers le doc](https://github.com/st9-8/python-code-path-21/tree/main/cuisine_1/pypath_8/exercice_1)"
   ]
  },
  {
   "cell_type": "markdown",
   "id": "3a022152-253a-43e5-a339-6c9568daffc6",
   "metadata": {},
   "source": [
    "### Appreciation Exercice 1"
   ]
  },
  {
   "cell_type": "code",
   "execution_count": 1,
   "id": "0f95d843-63b1-4272-ab1b-77118194be51",
   "metadata": {
    "collapsed": true,
    "jupyter": {
     "outputs_hidden": true
    },
    "tags": []
   },
   "outputs": [
    {
     "name": "stdin",
     "output_type": "stream",
     "text": [
      "Quelle note attriburiez-vous à cet exercice 23\n",
      "À combien notez-vous la qualité du code de cet exercice?  34\n",
      "À quel point ce code est-il efficient selon vous? 44\n"
     ]
    }
   ],
   "source": [
    "note = float(input(\"Quelle note attriburiez-vous à cet exercice\"))"
   ]
  },
  {
   "cell_type": "markdown",
   "id": "5adf1a03-498e-4d7d-9cbe-db31ab2c86f3",
   "metadata": {},
   "source": [
    "## Exercice 2 (7 points):"
   ]
  },
  {
   "cell_type": "markdown",
   "id": "3f541620-cfea-42d4-8f2e-00ab2b754fee",
   "metadata": {},
   "source": [
    "[lien vers le doc](https://github.com/st9-8/python-code-path-21/blob/main/cuisine_1/pypath_8/exercice_2/exercice2)"
   ]
  },
  {
   "cell_type": "markdown",
   "id": "1441509a-a6c7-4b4f-a88c-b15aa116f4ea",
   "metadata": {},
   "source": [
    "### Appreciation Exercice 2"
   ]
  },
  {
   "cell_type": "code",
   "execution_count": null,
   "id": "68251fa1-3ae4-4c91-be3b-0faf196e067e",
   "metadata": {},
   "outputs": [],
   "source": [
    "note = float(input(\"Quelle note attriburiez-vous à cet exercice\"))"
   ]
  },
  {
   "cell_type": "markdown",
   "id": "d7f4aefd-959c-4e97-b1c2-fa2e8dc01c8f",
   "metadata": {},
   "source": [
    "## Exercice 3 (7 points): Pierre-feuille-ciseau"
   ]
  },
  {
   "cell_type": "code",
   "execution_count": null,
   "id": "e15e1d32-c04d-46f2-8d31-48cd89675631",
   "metadata": {},
   "outputs": [],
   "source": [
    "#main exercice 3\n",
    "\n",
    "import main3, random\n",
    "import f_usuelles\n",
    "\n",
    "ordi_choix = random.choice([\"pierre\", \"feuille\", \"ciseau\"])\n",
    "\n",
    "\n",
    "main3.menu()\n",
    "\n",
    "choix = main3.autrePartie()\n",
    "\n",
    "\n",
    "score = 0\n",
    "\n",
    "while choix not in ['O', 'N']:\n",
    "    print( \n",
    "          \"\"\" \\033[31;2;132;220;51;1;48;2m\n",
    "          Choix non valide\n",
    "            \n",
    "          \\033[00m \\n\"\"\")\n",
    "    choix = main3.autrePartie()\n",
    "    \n",
    "while choix  == 'O':\n",
    "    print( \n",
    "          \"\"\" \\033[36;2;132;220;51;1;48;2m\n",
    "            Pierre, Feuille ou Ciseau ? :-)\n",
    "            \n",
    "          \\033[00m\"\"\")\n",
    "    user_choix = input(\" \")\n",
    "\n",
    "    if user_choix not in [\"pierre\", \"feuille\", \"ciseau\"]:\n",
    "        print(\"Mot non reconnu!!! \")\n",
    "        choix = main3.autrePartie()\n",
    "    else:\n",
    "        res = main3.jouer(ordi_choix, user_choix)\n",
    "        if res == True:\n",
    "            score = score + 1  \n",
    "\n",
    "if choix == 'N':\n",
    "   \n",
    "    f_usuelles.clear()\n",
    "    print( \n",
    "        \"\"\" \\033[35;2;132;220;51;1;48;2m\n",
    "        Bye!\n",
    "        Votre score est {}\n",
    "            \n",
    "        \\033[00m\"\"\".format(score))"
   ]
  },
  {
   "cell_type": "markdown",
   "id": "41026062-09ce-4f7f-94f2-645a76226121",
   "metadata": {},
   "source": [
    "### Appreciation Exercice 3"
   ]
  },
  {
   "cell_type": "code",
   "execution_count": null,
   "id": "c66e1d37-f1f2-4f2f-8c47-fe64b1132db2",
   "metadata": {},
   "outputs": [],
   "source": [
    "f = float(input(\"Note du Fonctionnement (Sur 4pts)\"))\n",
    "q = float(input(\"Note sur la qualité du code (sur 1pt)\"))\n",
    "examinator_appreciation = float(input('Appréciation de l\\'examinateur (sur 2pts)'))\n",
    "print(f'Note : {f + q + examinator_appreciation}')"
   ]
  },
  {
   "cell_type": "markdown",
   "id": "7b222c34-7200-4ce9-836b-7e39f4ae57a0",
   "metadata": {},
   "source": [
    "## Exercice 4(8 points)"
   ]
  },
  {
   "cell_type": "code",
   "execution_count": null,
   "id": "1806e35b-3fe6-4b89-a2ce-da41b54edb8f",
   "metadata": {
    "tags": []
   },
   "outputs": [],
   "source": [
    "#fonctions de l'exercie 4\n",
    "\n",
    "def deco_style(style):\n",
    "    \"Fonction decoratrice de la fonction style\"\n",
    "\n",
    "    def appliquer(text, g=False, i=False, b=False):\n",
    "        if g == True and i == True:\n",
    "            text = '_'+'*'+text+'*'+'_'\n",
    "        if g == True and b == True:\n",
    "             text = '~'+'*'+text+'*'+'~'\n",
    "        if i == True and b == True:\n",
    "             text = '~'+'_'+text+'_'+'~'\n",
    "        if i == True and b == True and g==True:\n",
    "             text = '*'+'~'+'_'+text+'_'+'~'+'*'\n",
    "        elif i==b== False and g == True:\n",
    "            text = '*'+text+'*'\n",
    "        elif g==b== False and i == True:\n",
    "            text = '_'+text+'_'\n",
    "        elif g==i==False and b == True:\n",
    "            text = '~'+text+'~'\n",
    "\n",
    "        else:\n",
    "            text = text\n",
    "        return style(text, g=False, i=False, b=False)\n",
    "    return appliquer\n",
    "\n",
    "@deco_style\n",
    "def style(text, g=False, i=False, b=False):\n",
    "    return text"
   ]
  },
  {
   "cell_type": "markdown",
   "id": "4acc4d1e-ec6b-4f44-88c1-872cce18f511",
   "metadata": {},
   "source": [
    "### Appreciation Exercice 4"
   ]
  },
  {
   "cell_type": "code",
   "execution_count": null,
   "id": "15944995-73e5-4f5a-bfd6-d3d930260297",
   "metadata": {},
   "outputs": [],
   "source": [
    "f = float(input(\"Note du Fonctionnement (Sur 5pts)\"))\n",
    "q = float(input(\"Note sur la qualité du code (sur 1pt)\"))\n",
    "examinator_appreciation = float(input('Appréciation de l\\'examinateur (sur 2pts)'))\n",
    "print(f'Note : {f + q + examinator_appreciation}')"
   ]
  },
  {
   "cell_type": "markdown",
   "id": "4e6662f8-341f-4dd3-b3a5-2a0939a5da49",
   "metadata": {},
   "source": [
    "## Exercice 5 (40 points): Jeu du pendu "
   ]
  },
  {
   "cell_type": "code",
   "execution_count": null,
   "id": "e472fe74-b461-4113-95a7-90f9a1aaa8dc",
   "metadata": {},
   "outputs": [],
   "source": [
    "from parti_3 import *\n",
    "\n",
    "#MENU\n",
    "print(\"\"\"\n",
    "*MENU PENDU*\n",
    "\\n\n",
    "Devinez les lettres d'un mot\n",
    "\\n\n",
    "1- Nouvelle partie\n",
    "2- Quitter\n",
    "\"\"\")\n",
    "\n",
    "choix = input(\"Entrez votre choix: \")\n",
    "choix = int(choix)\n",
    "while choix not in [1,2]:\n",
    "    input(\"entrer un choix valide \")\n",
    "\n",
    "if choix == 1:\n",
    "    jouer()\n",
    "\n",
    "    print(\"\"\"\n",
    "*MENU PENDU*\n",
    "\\n\n",
    "Devinez les lettres d'un mot\n",
    "\\n\n",
    "1- Nouvelle partie\n",
    "2- Quitter\n",
    "\"\"\")\n",
    "\n",
    "choix = input(\"Entrez votre choix: \")\n",
    "choix = int(choix)\n",
    "\n",
    "if choix == 2:\n",
    "    print(\"BYE!!!\")"
   ]
  },
  {
   "cell_type": "markdown",
   "id": "dd15fd91-b257-443b-b963-38ca38399108",
   "metadata": {},
   "source": [
    "### Appreciation Exercice 5"
   ]
  },
  {
   "cell_type": "code",
   "execution_count": null,
   "id": "b26838d4-7ef3-4513-b7f3-02265edd9da4",
   "metadata": {},
   "outputs": [],
   "source": [
    "p1 = float(input('Note partie 1: 5pts'))\n",
    "p2 = float(input('Note partie 2: 10pts'))\n",
    "p3 = float(input('Note partie 3: 15pts'))\n",
    "l = float(input('Note de la lisibilité du code : 2pts'))\n",
    "s = float(input('Note de la simplicité du code : 2pts'))\n",
    "c = float(input('Note des commantaires et nommage: 2pts'))\n",
    "u = float(input('Note sur l\\'utilisation des structures de données: 4pts'))\n",
    "print(f'Note : {p1+p2+p3+l+s+c+u}')"
   ]
  },
  {
   "cell_type": "markdown",
   "id": "6dbc4ab7-09d1-467c-b1ae-92de9e304f67",
   "metadata": {},
   "source": [
    "## Exercice 6 (20 points):"
   ]
  },
  {
   "cell_type": "code",
   "execution_count": null,
   "id": "b5fbc5ec-8190-443d-a5de-963b2d0c9ad0",
   "metadata": {},
   "outputs": [],
   "source": [
    "from main5 import *\n",
    "\n",
    "print(\"\"\"\n",
    "*MENU CUBOIDE*\n",
    "\"\"\")\n",
    "\n",
    "x = input(\"Entez x \")\n",
    "y = input(\"Entez y \")\n",
    "z = input(\"Entez z \")\n",
    "n = input(\"Entez n \")\n",
    "\n",
    "print( \n",
    "          \"\"\" \\033[36;2;132;220;51;1;48;2m\n",
    "          Le cuboide obtenu est -> {}\n",
    "          \\033[00m\"\"\".format(cuboide(int(x),int(y),int(z),int(n))))"
   ]
  },
  {
   "cell_type": "markdown",
   "id": "79a7de40-9c8b-4314-8602-442cda4e9f4c",
   "metadata": {},
   "source": [
    "### Appreciation Exercice 6"
   ]
  },
  {
   "cell_type": "code",
   "execution_count": null,
   "id": "970fb14d-e847-4726-8e55-7be9156f6296",
   "metadata": {},
   "outputs": [],
   "source": [
    "p = float(input('Note sur le fonctionnemant : /15'))\n",
    "u = float(input('Note sur l\\'utilisation des compréhensions des listes : 5pts(s\\'il a utilisé il a 5 sinon 0)')) \n",
    "print(f'Note : {p + u}')"
   ]
  },
  {
   "cell_type": "markdown",
   "id": "e5510c21-cf02-495e-905b-5bd7c8573d71",
   "metadata": {},
   "source": [
    "## Exercice 7 (30 points):"
   ]
  },
  {
   "cell_type": "code",
   "execution_count": null,
   "id": "8507eb8d-94f3-4eb4-9521-edc54171faa5",
   "metadata": {},
   "outputs": [],
   "source": [
    "from main6 import *\n",
    "\n",
    "#lecture du fichier\n",
    "numListe = file_to_list(file = \"data_exo_6.txt\")\n",
    "\n",
    "#tier la liste de numero\n",
    "a = trier_numero(numListe)\n",
    "\n",
    "#finalisation de la liste de numero\n",
    "f = finalisation(a)\n",
    "\n",
    "#reecriture dans une nouvelle liste \n",
    "list_to_file(f)\n",
    "\n",
    "print(\"Ouvrez le fichier data_exo_6_new.txt pour voir le resultat\")"
   ]
  },
  {
   "cell_type": "markdown",
   "id": "8d5e5a51-8ae8-485f-8e9b-3bfb38bdb7d6",
   "metadata": {},
   "source": [
    "### Appreciation Exercice 7"
   ]
  },
  {
   "cell_type": "code",
   "execution_count": null,
   "id": "9fc21cff-bb3a-4157-925b-0c28528280d4",
   "metadata": {},
   "outputs": [],
   "source": [
    "f = float(input('Note sur fonctionnement : 20pts'))\n",
    "m = float(input('Modularité du code: 3pts'))\n",
    "c = float(input('Commentaires: 2pts'))\n",
    "a = float(input('Appréciation du jury: 5pts'))\n",
    "print(f'Note : {f + m + c + a}')"
   ]
  },
  {
   "cell_type": "markdown",
   "id": "be92e02e-81f8-495e-9606-1b54b408206f",
   "metadata": {},
   "source": [
    "## Exercice 8 (45 points):"
   ]
  },
  {
   "cell_type": "code",
   "execution_count": 1,
   "id": "38213ecd-f8d9-4d6d-acf7-47ffe9f5b24f",
   "metadata": {},
   "outputs": [
    {
     "ename": "FileNotFoundError",
     "evalue": "[Errno 2] No such file or directory: 'data_exo_7.txt'",
     "output_type": "error",
     "traceback": [
      "\u001b[0;31m---------------------------------------------------------------------------\u001b[0m",
      "\u001b[0;31mFileNotFoundError\u001b[0m                         Traceback (most recent call last)",
      "\u001b[0;32m<ipython-input-1-77b3f524c895>\u001b[0m in \u001b[0;36m<module>\u001b[0;34m\u001b[0m\n\u001b[1;32m     68\u001b[0m \u001b[0;31m# On recupere l'entête de notre fichier puis on traite\u001b[0m\u001b[0;34m\u001b[0m\u001b[0;34m\u001b[0m\u001b[0;34m\u001b[0m\u001b[0m\n\u001b[1;32m     69\u001b[0m \u001b[0;34m\u001b[0m\u001b[0m\n\u001b[0;32m---> 70\u001b[0;31m \u001b[0;32mwith\u001b[0m \u001b[0mopen\u001b[0m\u001b[0;34m(\u001b[0m\u001b[0;34m'data_exo_7.txt'\u001b[0m\u001b[0;34m,\u001b[0m\u001b[0;34m'r'\u001b[0m\u001b[0;34m)\u001b[0m \u001b[0;32mas\u001b[0m \u001b[0mfile\u001b[0m\u001b[0;34m:\u001b[0m\u001b[0;34m\u001b[0m\u001b[0;34m\u001b[0m\u001b[0m\n\u001b[0m\u001b[1;32m     71\u001b[0m     \u001b[0mlines\u001b[0m \u001b[0;34m=\u001b[0m \u001b[0mfile\u001b[0m\u001b[0;34m.\u001b[0m\u001b[0mreadline\u001b[0m\u001b[0;34m(\u001b[0m\u001b[0;34m)\u001b[0m\u001b[0;34m.\u001b[0m\u001b[0mrstrip\u001b[0m\u001b[0;34m(\u001b[0m\u001b[0;34m)\u001b[0m         \u001b[0;31m# on lit la premier ligne en supprimant le séparateur de ligne\u001b[0m\u001b[0;34m\u001b[0m\u001b[0;34m\u001b[0m\u001b[0m\n\u001b[1;32m     72\u001b[0m     \u001b[0mline\u001b[0m \u001b[0;34m=\u001b[0m \u001b[0mlines\u001b[0m\u001b[0;34m.\u001b[0m\u001b[0msplit\u001b[0m\u001b[0;34m(\u001b[0m\u001b[0;34m'\\t'\u001b[0m\u001b[0;34m)\u001b[0m                 \u001b[0;31m# on supprime le séparateur de colonne on obtient une liste\u001b[0m\u001b[0;34m\u001b[0m\u001b[0;34m\u001b[0m\u001b[0m\n",
      "\u001b[0;31mFileNotFoundError\u001b[0m: [Errno 2] No such file or directory: 'data_exo_7.txt'"
     ]
    }
   ],
   "source": [
    "import time\n",
    "from main7 import *\n",
    "\n",
    "\n",
    "f = init()\n",
    "\n",
    "\n",
    "print(\n",
    "        \"\"\" \\033[38;2;132;220;51;1;48;2m\n",
    "            * * * *     *       *      * * * * *     *     *       * * * *     *        *  \n",
    "            *     *       *   *            *         *     *       *     *     *  *     *\n",
    "            * * * *         *              *         * * * *       *     *     *    *   *\n",
    "            *               *              *         *     *       *     *     *      * *\n",
    "            *               *              *         *     *       * * * *     *        * ...PATH\n",
    "        \\033[00m\"\"\")\n",
    "  \n",
    "time.sleep(1)\n",
    "print(\n",
    "        \"\"\" \\033[36;2;132;220;51;1;48;2m\n",
    "          +---------------------------------------+\n",
    "          |              STATISTAS                |\n",
    "          +---------------------------------------+\n",
    "        \\033[00m\"\"\")\n",
    "\n",
    "input(\"        \\033[31;2;132;220;51;1;48;2mAppuyer sur entrée pour continuer...\\033[00m\")\n",
    "clear()\n",
    "print( \n",
    "          \"\"\" \\033[38;2;132;220;51;1;48;2m\n",
    "        Bien commencons!!!\n",
    "\n",
    "        Voici les elements sur lesquels vous pouvez effectuer des calculs.\n",
    "        \\033[00m\"\"\")\n",
    "time.sleep(1)\n",
    "print(first_line())\n",
    "\n",
    "mot = input( \n",
    "          \"\"\" \\033[35;2;132;220;51;1;48;2m\n",
    "        Sur quel element souhaitez vous effectuer un calcul?\n",
    "        \\033[00m\"\"\")\n",
    "\n",
    "liste = init_list(mot, f)\n",
    "liste = trans_liste(liste)\n",
    "\n",
    "while mot not in first_line():\n",
    "      print( \n",
    "                \"\"\" \\033[31;2;132;220;51;1;48;2m\n",
    "                  Element non existant!!!\n",
    "                \\033[00m\"\"\")\n",
    "      mot = input( \n",
    "          \"\"\" \\033[35;2;132;220;51;1;48;2m\n",
    "        Sur quel element souhaitez vous effectuer un calcul?\n",
    "        \\033[00m\"\"\")\n",
    "\n",
    "\n",
    "menu()\n",
    "choix = input( \n",
    "          \"\"\" \\033[38;2;132;220;51;1;48;2m\n",
    "        Quel calcul souhaitez vous effectuer sur l'element {}?\n",
    "        \\033[00m\"\"\".format(mot))\n",
    "try:\n",
    "    choix = int(choix)\n",
    "except:\n",
    "  print( \"\"\" \\033[31;2;132;220;51;1;48;2m\n",
    "                  Veuillez entrer des entiers entre 1 et 12!!!\n",
    "                \\033[00m\"\"\") \n",
    "\n",
    "med=moy=max=min=p_q=t_q=var=0\n",
    "mode=[]\n",
    "\n",
    "while choix != 13:\n",
    "  try:\n",
    "    if choix not in [1,2,3,4,5,6,7,8,9,10,11,12,13] :\n",
    "      print( \n",
    "                \"\"\" \\033[31;2;132;220;51;1;48;2m\n",
    "                Veuillez entrer des entiers entre 1 et 12!!!\n",
    "                \\033[00m\"\"\")\n",
    "\n",
    "    if choix == 1:\n",
    "      moy = moyenne(liste)\n",
    "      print( \"\"\" \\033[36;2;132;220;51;1;48;2m\n",
    "                  La moyenne de {} est {}\n",
    "                  \\033[00m\"\"\".format(mot,moy))\n",
    "\n",
    "    if choix == 2:\n",
    "      med = mediane(liste)\n",
    "      print( \"\"\" \\033[36;2;132;220;51;1;48;2m\n",
    "                  La mediane de {} est {}\n",
    "                  \\033[00m\"\"\".format(mot,med))\n",
    "    if choix == 3:\n",
    "      max = maxi(liste)\n",
    "      print( \"\"\" \\033[36;2;132;220;51;1;48;2m\n",
    "                  Le maximum de {} est {}\n",
    "                  \\033[00m\"\"\".format(mot,max))\n",
    "\n",
    "    if choix == 4:\n",
    "      min = mini(liste)\n",
    "      print( \"\"\" \\033[36;2;132;220;51;1;48;2m\n",
    "                  Le minimum de {} est {}\n",
    "                  \\033[00m\"\"\".format(mot,min))\n",
    "\n",
    "    if choix == 5:\n",
    "      p_q = premier_quartile(liste)\n",
    "      print( \"\"\" \\033[36;2;132;220;51;1;48;2m\n",
    "                    Le premier quartile de {} est {}\n",
    "                    \\033[00m\"\"\".format(mot,p_q))\n",
    "\n",
    "    if choix == 6:\n",
    "      t_q = troisieme_quartile(liste)\n",
    "      print( \"\"\" \\033[36;2;132;220;51;1;48;2m\n",
    "                    Le troisieme quartile de {} est {}\n",
    "                    \\033[00m\"\"\".format(mot,t_q))\n",
    "\n",
    "    if choix == 7:\n",
    "      try:\n",
    "        mode = mode(liste)\n",
    "        print( \"\"\" \\033[36;2;132;220;51;1;48;2m\n",
    "                    Le mode de {} est {}\n",
    "                    \\033[00m\"\"\".format(mot,mode))\n",
    "      except TypeError:\n",
    "        print( \"\"\" \\033[36;2;132;220;51;1;48;2m\n",
    "                    La liste a un probleme \\033[00m\"\"\")\n",
    "        \n",
    "\n",
    "    if choix == 8:\n",
    "      ect = ecart_type(liste)\n",
    "      print( \"\"\" \\033[36;2;132;220;51;1;48;2m\n",
    "                    L'ecart type de {} est {}\n",
    "                    \\033[00m\"\"\".format(mot,ect))\n",
    "\n",
    "    if choix == 9:\n",
    "      var = variance(liste)\n",
    "      print( \"\"\" \\033[36;2;132;220;51;1;48;2m\n",
    "                    La variance de {} est {}\n",
    "                    \\033[00m\"\"\".format(mot,var))\n",
    "\n",
    "    if choix == 10:\n",
    "\n",
    "      ecrire_fichier(mot,med,moy,max,min,p_q,t_q,var,mode)\n",
    "      print( \"\"\" \\033[36;2;132;220;51;1;48;2m\n",
    "                    Sauvegarde reuissit!!!\n",
    "                    \\033[00m\"\"\")\n",
    "\n",
    "    if choix == 11:\n",
    "      try:\n",
    "        print( \"\"\" \\033[36;2;132;220;51;1;48;2m\n",
    "                  Liste de toutes les listes et calculs ayant deja ete faites\n",
    "                  -----------------------------------------------------------\n",
    "                  \\033[00m\"\"\")\n",
    "                    \n",
    "        lire_fichier()\n",
    "      except:\n",
    "        print(\"\"\" \\033[31;2;132;220;51;1;48;2m\n",
    "                  Une Erreur est survenue essayer ulterieurement!!!\n",
    "                  \\033[00m\"\"\")\n",
    "\n",
    "    if choix == 13:\n",
    "      quitter()\n",
    "\n",
    "    if choix == 12:\n",
    "      clear()\n",
    "      print( \n",
    "            \"\"\" \\033[38;2;132;220;51;1;48;2m\n",
    "          Bien commencons!!!\n",
    "\n",
    "          Voici les elements sur lesquels vous pouvez effectuer des calculs.\n",
    "          \\033[00m\"\"\")\n",
    "      time.sleep(1)\n",
    "      print(first_line())\n",
    "\n",
    "      mot = input( \n",
    "            \"\"\" \\033[35;2;132;220;51;1;48;2m\n",
    "          Sur quel element souhaitez vous effectuer un calcul?\n",
    "          \\033[00m\"\"\")\n",
    "\n",
    "      liste = init_list(mot, f)\n",
    "      liste = trans_liste(liste)\n",
    "\n",
    "      while mot not in first_line():\n",
    "        print( \n",
    "                  \"\"\" \\033[31;2;132;220;51;1;48;2m\n",
    "                    Element non existant!!!\n",
    "                  \\033[00m\"\"\")\n",
    "        mot = input( \n",
    "            \"\"\" \\033[35;2;132;220;51;1;48;2m\n",
    "          Sur quel element souhaitez vous effectuer un calcul?\n",
    "          \\033[00m\"\"\")\n",
    "\n",
    "\n",
    "      menu()\n",
    "      choix = input( \n",
    "            \"\"\" \\033[38;2;132;220;51;1;48;2m\n",
    "          Quel calcul souhaitez vous effectuer sur l'element {}?\n",
    "          \\033[00m\"\"\".format(mot))\n",
    "      try:\n",
    "          choix = int(choix)\n",
    "      except:\n",
    "        print( \"\"\" \\033[31;2;132;220;51;1;48;2m\n",
    "                        Veuillez entrer des entiers entre 1 et 12!!!\n",
    "                      \\033[00m\"\"\") \n",
    "\n",
    "\n",
    "\n",
    "      med=moy=max=min=p_q=t_q=var=0\n",
    "      mode=[]\n",
    "\n",
    "    menu()\n",
    "    choix = input( \n",
    "              \"\"\" \\033[38;2;132;220;51;1;48;2m\n",
    "            Quel calcul souhaitez vous effectuer sur l'element {}?\n",
    "            \\033[00m\"\"\".format(mot))\n",
    "    try:\n",
    "        choix = int(choix)\n",
    "    except:\n",
    "      print( \"\"\" \\033[31;2;132;220;51;1;48;2m\n",
    "                    Veuillez entrer des entiers entre 1 et 12!!!\n",
    "                  \\033[00m\"\"\") \n",
    "    \n",
    "\n",
    "  except KeyboardInterrupt:\n",
    "    print(  \"\"\" \\033[31;2;132;220;51;1;48;2m\n",
    "                  Pour quitter le programme choisir l'option QUitter du menu\n",
    "                  \\033[00m\"\"\")\n",
    "\n",
    "\n",
    "\n",
    "\n",
    "\n"
   ]
  },
  {
   "cell_type": "markdown",
   "id": "aeccda97-e125-4855-b519-8dcad1549292",
   "metadata": {},
   "source": [
    "### Appreciation Exercice 8"
   ]
  },
  {
   "cell_type": "code",
   "execution_count": null,
   "id": "6ac97894-ff4b-4abf-88d1-ed7fdd5c5520",
   "metadata": {},
   "outputs": [],
   "source": [
    "f = float(input('Fonctionnement : 28pts'))\n",
    "m = float(input('Modularité du code: 5pts')) \n",
    "c = float(input('Commentaires: 3 pts'))\n",
    "l = float(input('Lisibilité : 2pts'))\n",
    "s = float(input('Simplicité: 2pts'))\n",
    "a = float(input('Appréciation du jury: 5pts'))\n",
    "print(f'Note : {f + m + c + l + s + a}')"
   ]
  },
  {
   "cell_type": "markdown",
   "id": "0302a40e-cc98-486c-a451-0c3576ae1d06",
   "metadata": {},
   "source": [
    "## Exercice 9 (25 points): Chiffrement de César"
   ]
  },
  {
   "cell_type": "code",
   "execution_count": null,
   "id": "64deb123-bfd5-447d-be3a-fe5d6ea18764",
   "metadata": {},
   "outputs": [],
   "source": [
    "#main exercice8\n",
    "\n",
    "import main8, time\n",
    "\n",
    "main8.menu()\n",
    "\n",
    "text = input(\"Entrer votre texte: \")\n",
    "print(\"\\n\")\n",
    "choix = input(\"Que voulez vous faire de votre texte? \\n\")\n",
    "choix = int(choix)\n",
    "\n",
    "while choix not in [1,2]:\n",
    "    print(\"Entrez un choix valide \")\n",
    "    choix = input(\"Que voulez vous faire de votre texte? \\n\")\n",
    "    choix = int(choix)\n",
    "\n",
    "if choix == 1:\n",
    "    time.sleep(1)\n",
    "    print( \n",
    "          \"\"\" \\033[33;2;132;220;51;1;48;2m\n",
    "          {} encode est -> {}\n",
    "          \\033[00m\"\"\".format(text,main8.encoder(text)))\n",
    "   \n",
    "elif choix == 2:\n",
    "    time.sleep(1)\n",
    "    print( \n",
    "          \"\"\" \\033[33;2;132;220;51;1;48;2m\n",
    "          {} decode est -> {}\n",
    "          \\033[00m\"\"\".format(text, main8.decoder(text)))\n"
   ]
  },
  {
   "cell_type": "markdown",
   "id": "367b3621-5f85-4a94-901b-9992180b8148",
   "metadata": {},
   "source": [
    "### Appreciation Exercice 9"
   ]
  },
  {
   "cell_type": "code",
   "execution_count": null,
   "id": "78fd2784-ce48-4677-bd72-7b46939e973b",
   "metadata": {},
   "outputs": [],
   "source": [
    "f = float(input('Fonctionnement : 15pts'))\n",
    "u = float(input('Utilisation d’une fonction encodage et une fonction décodage : 2pts')\n",
    "q = float(input('Qualité du code: 3pts'))\n",
    "a = float(input('Appréciation du jury: 5pts'))\n",
    "print(f'Note : {f + q + a + u}')"
   ]
  }
 ],
 "metadata": {
  "kernelspec": {
   "display_name": "Python 3",
   "language": "python",
   "name": "python3"
  },
  "language_info": {
   "codemirror_mode": {
    "name": "ipython",
    "version": 3
   },
   "file_extension": ".py",
   "mimetype": "text/x-python",
   "name": "python",
   "nbconvert_exporter": "python",
   "pygments_lexer": "ipython3",
   "version": "3.8.10"
  }
 },
 "nbformat": 4,
 "nbformat_minor": 5
}
