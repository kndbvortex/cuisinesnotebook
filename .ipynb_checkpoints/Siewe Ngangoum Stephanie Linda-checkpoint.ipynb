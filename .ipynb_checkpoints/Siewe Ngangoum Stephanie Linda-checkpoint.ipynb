{
 "cells": [
  {
   "cell_type": "markdown",
   "id": "59e0d103-0441-44c4-926a-e86675f331a1",
   "metadata": {},
   "source": [
    "## Exercice 1(5 points): Culture générale "
   ]
  },
  {
   "cell_type": "markdown",
   "id": "ee6fcc14-f1a0-4044-8d1e-368539535bae",
   "metadata": {},
   "source": [
    "[Lien vers le doc](https://github.com/st9-8/python-code-path-21/blob/main/cuisine_1/pypath_6/Exercice_1/exercice_1.docx)"
   ]
  },
  {
   "cell_type": "markdown",
   "id": "3a022152-253a-43e5-a339-6c9568daffc6",
   "metadata": {},
   "source": [
    "### Appreciation Exercice 1"
   ]
  },
  {
   "cell_type": "code",
   "execution_count": 1,
   "id": "0f95d843-63b1-4272-ab1b-77118194be51",
   "metadata": {
    "collapsed": true,
    "jupyter": {
     "outputs_hidden": true
    },
    "tags": []
   },
   "outputs": [
    {
     "name": "stdin",
     "output_type": "stream",
     "text": [
      "Quelle note attriburiez-vous à cet exercice 23\n",
      "À combien notez-vous la qualité du code de cet exercice?  34\n",
      "À quel point ce code est-il efficient selon vous? 44\n"
     ]
    }
   ],
   "source": [
    "note = float(input(\"Quelle note attriburiez-vous à cet exercice\"))\n",
    "qualite = float((input(\"À combien notez-vous la qualité du code de cet exercice? \")))\n",
    "efficience = float(input(\"À quel point ce code est-il efficient selon vous?\")) "
   ]
  },
  {
   "cell_type": "markdown",
   "id": "5adf1a03-498e-4d7d-9cbe-db31ab2c86f3",
   "metadata": {},
   "source": [
    "## Exercice 2 (7 points):"
   ]
  },
  {
   "cell_type": "markdown",
   "id": "3f541620-cfea-42d4-8f2e-00ab2b754fee",
   "metadata": {},
   "source": [
    "[lien vers le doc](https://github.com/st9-8/python-code-path-21/blob/main/cuisine_1/pypath_6/Exercice_2/exercice_2.docx)"
   ]
  },
  {
   "cell_type": "markdown",
   "id": "1441509a-a6c7-4b4f-a88c-b15aa116f4ea",
   "metadata": {},
   "source": [
    "### Appreciation Exercice 2"
   ]
  },
  {
   "cell_type": "code",
   "execution_count": null,
   "id": "68251fa1-3ae4-4c91-be3b-0faf196e067e",
   "metadata": {},
   "outputs": [],
   "source": [
    "note = float(input(\"Quelle note attriburiez-vous à cet exercice\"))\n",
    "qualite = float((input(\"À combien notez-vous la qualité du code de cet exercice? \")))\n",
    "efficience = float(input(\"À quel point ce code est-il efficient selon vous?\")) "
   ]
  },
  {
   "cell_type": "markdown",
   "id": "d7f4aefd-959c-4e97-b1c2-fa2e8dc01c8f",
   "metadata": {},
   "source": [
    "## Exercice 3 (7 points): Pierre-feuille-ciseau"
   ]
  },
  {
   "cell_type": "code",
   "execution_count": null,
   "id": "e15e1d32-c04d-46f2-8d31-48cd89675631",
   "metadata": {
    "collapsed": true,
    "jupyter": {
     "outputs_hidden": true
    },
    "tags": []
   },
   "outputs": [
    {
     "name": "stdout",
     "output_type": "stream",
     "text": [
      "Jeu: Pierre-Feuille-Ciseau\n",
      "\n",
      "1-pierre\n",
      "2-feuille\n",
      "3-ciseau\n",
      "\n"
     ]
    }
   ],
   "source": [
    "import random\n",
    "\n",
    "def ch_aleatoire(list):###fonction qui choisit aleatoirement un element dans une liste\n",
    "    return random.choice(list)\n",
    "\n",
    "ans = [\"pierre\",\"feuille\",\"ciseau\"]\n",
    "\n",
    "def Menu():\n",
    "    print(\"1-pierre\\n\"\n",
    "          \"2-feuille\\n\"\n",
    "          \"3-ciseau\\n\")\n",
    "    choix = input(\"faites votre choix\")\n",
    "    try:##gestion des erreurs: si choix n'est pas un chiffre du menu\n",
    "        choix = int(choix)\n",
    "        if choix not in range(1,4):\n",
    "            print(\"ERREUR , la valeur n'est pas dans l'intervalle 1 a 3\")\n",
    "        else:\n",
    "          return choix\n",
    "    except:\n",
    "        while choix not in \"123\":\n",
    "            print(\"la vie ce n'est pas le piege\")\n",
    "            choix = input(\"veillez entrer un chiffre compris entre 1 et 3\\t\")\n",
    "        choix = int(choix)\n",
    "        return choix\n",
    "\n",
    "point = [0,0]###liste des points position 0 point du joueur ,position 1 point de l'ordi\n",
    "\n",
    "def quit(b,n):##fonction quitter\n",
    "    if b == True:\n",
    "       if point[0] > point[1]:\n",
    "           print(\"\\nvous avez gagne en {} coups\".format(n))\n",
    "       elif point[0] < point[1]:\n",
    "            print(\"\\nj'ai gagne en {} coups\".format(n))\n",
    "       else:\n",
    "           print(\"egalite en {} coups\".format(n))\n",
    "    if b == False:\n",
    "        pass\n",
    "############main############\n",
    "\n",
    "print(\"Jeu: Pierre-Feuille-Ciseau\\n\")\n",
    "num_essai = 0\n",
    "quitter = False\n",
    "\n",
    "while quitter == False:\n",
    "        num_essai += 1 #nombre d'essai\n",
    "\n",
    "        ch = Menu()\n",
    "        os = ch_aleatoire(ans)\n",
    "        if (ch == 1 and os == \"ciseau\") or ( ch == 2 and os == \"pierre\") or (ch == 3 and os == \"feuille\"):\n",
    "            point[0] += 1\n",
    "            print(\"Mon choix etait\", os)\n",
    "        elif (os == \"pierre\" and ch == 3) or (os == \"feuille\" and ch == 1) or (os == \"ciseau\" and ch == 2):\n",
    "            point[1] += 1\n",
    "            print(\"Mon choix etait\", os)\n",
    "        elif (os == \"pierre\" and ch == 1) or (os == \"feuille\" and ch == 2)or (os == \"ciseau\" and ch == 3):\n",
    "            print(\"Mon choix etait\", os)\n",
    "            print(\"egaux , refaisons un essai\")\n",
    "        else:\n",
    "            pass\n",
    "        print(\"joueur1 a {} points et l'ordi {} points\".format(point[0], point[1]))\n",
    "\n",
    "        b=input(\"voulez-vous quitter\\n,1-oui \\t 2-non\")\n",
    "        while b != \"1\" and b != \"2\":#test si la personne entre bien 1 ou 2\n",
    "            b=input (\"Entrer 1 ou 2\")\n",
    "        b=int(b)\n",
    "        if b == 1:\n",
    "            quitter = True\n",
    "        quit(quitter,num_essai)"
   ]
  },
  {
   "cell_type": "markdown",
   "id": "41026062-09ce-4f7f-94f2-645a76226121",
   "metadata": {
    "tags": []
   },
   "source": [
    "### Appreciation Exercice 3"
   ]
  },
  {
   "cell_type": "code",
   "execution_count": null,
   "id": "c66e1d37-f1f2-4f2f-8c47-fe64b1132db2",
   "metadata": {},
   "outputs": [],
   "source": [
    "note = float(input(\"Quelle note attriburiez-vous à cet exercice\"))\n",
    "qualite = float((input(\"À combien notez-vous la qualité du code de cet exercice? \")))\n",
    "efficience = float(input(\"À quel point ce code est-il efficient selon vous?\")) "
   ]
  },
  {
   "cell_type": "markdown",
   "id": "7b222c34-7200-4ce9-836b-7e39f4ae57a0",
   "metadata": {},
   "source": [
    "## Exercice 4(8 points)"
   ]
  },
  {
   "cell_type": "code",
   "execution_count": null,
   "id": "1806e35b-3fe6-4b89-a2ce-da41b54edb8f",
   "metadata": {},
   "outputs": [],
   "source": [
    "def trait_text(func):##DECORATEUR\n",
    "    def ego(text,g=False,i=False,b=False):\n",
    "        if g==False and i==False and b==False:\n",
    "            return func(text,g=False,i=False,b=False)\n",
    "        if g== True :\n",
    "            text= \"*\"+text+\"*\"\n",
    "\n",
    "        if i==True:\n",
    "            text=\"_\"+text+\"_\"\n",
    "\n",
    "        if b==True:\n",
    "            text=\"~\"+text+\"~\"\n",
    "\n",
    "        return func(text,g=False,i=False,b=False)\n",
    "    return ego\n",
    "\n",
    "\n",
    "@trait_text\n",
    "def style (text ,g=False,i=False,b=False):\n",
    "    return text\n",
    "\n",
    "print(style(\"bonjour\",g=True,i=True,b=True))"
   ]
  },
  {
   "cell_type": "markdown",
   "id": "4acc4d1e-ec6b-4f44-88c1-872cce18f511",
   "metadata": {},
   "source": [
    "### Appreciation Exercice 4"
   ]
  },
  {
   "cell_type": "code",
   "execution_count": null,
   "id": "15944995-73e5-4f5a-bfd6-d3d930260297",
   "metadata": {},
   "outputs": [],
   "source": [
    "note = float(input(\"Quelle note attriburiez-vous à cet exercice\"))\n",
    "qualite = float((input(\"À combien notez-vous la qualité du code de cet exercice? \")))\n",
    "efficience = float(input(\"À quel point ce code est-il efficient selon vous?\")) "
   ]
  },
  {
   "cell_type": "markdown",
   "id": "4e6662f8-341f-4dd3-b3a5-2a0939a5da49",
   "metadata": {},
   "source": [
    "## Exercice 5 (40 points): Jeu du pendu "
   ]
  },
  {
   "cell_type": "code",
   "execution_count": null,
   "id": "e472fe74-b461-4113-95a7-90f9a1aaa8dc",
   "metadata": {},
   "outputs": [],
   "source": [
    "import random\n",
    "\n",
    "\n",
    "def lecture():\n",
    "    fichier= open('sowpods.txt','r')\n",
    "    dico= fichier.readlines()\n",
    "    liste_mot=[]\n",
    "    for mot in dico:\n",
    "        liste_mot.append(mot)\n",
    "    choix_machine= random.choice(liste_mot)\n",
    "    return choix_machine\n",
    "\n",
    "\n",
    "    # fonction qui remplace dans le cod ela lettre trouvee\n",
    "def Deviner(lettre,mot,affichage):\n",
    "    mot_1=list (mot)\n",
    "    affichage=list(affichage)\n",
    "    for i in range(len(mot_1)):\n",
    "        if mot_1[i]==lettre:\n",
    "            affichage[i]=lettre\n",
    "    affiche=\"\".join(affichage)       \n",
    "    return affiche        \n",
    "\n",
    "def pendu():\n",
    "    print(\"*********************BIENVENU SUR LE JEU DU PENDU IL EST QUESTION DE DEVINER UN MOT LETTRE PAR LETTRE  JUSQU'A TROUVER LE MOT A DEVINER*********************\")\n",
    "    print(\"\\n \\n \\n \\n \")\n",
    "    k=1\n",
    "    while k==1:    \n",
    "        solution=lecture()\n",
    "        solution =solution.lower()\n",
    "        solution=solution.strip()\n",
    "        solution=list(solution)\n",
    "        affichage=\"\"\n",
    "        for i in solution:\n",
    "            affichage= affichage + \"_ \"\n",
    "        print(\"essaye de deviner le mot si tu peux \")\n",
    "        print(affichage)\n",
    "    \n",
    "        essai=6\n",
    "        lettres_trouvees=\"\"\n",
    "        \n",
    "        while essai != 0:\n",
    "            k=0\n",
    "            choix=\"\"\n",
    "            while k==0:\n",
    "                choix= input(\"entrez une lettre   \")\n",
    "                choix=choix.lower()\n",
    "                if type(choix)==str:\n",
    "                    k=-1\n",
    "                elif len(choix)!=1:\n",
    "                    print(\"veillez entrer un seul charactère \\n\")\n",
    "                else:\n",
    "                    print(\"veillez entrer un caractere de l'alphabet \\n\")\n",
    "            if choix in lettres_trouvees:\n",
    "                print(\"vous avez deja deviné cette lettre\")\n",
    "                print(affichage)\n",
    "            elif choix in solution:\n",
    "                lettres_trouvees = lettres_trouvees + choix\n",
    "                print(\"cool trouvé\")\n",
    "                affichage = Deviner(choix,solution,affichage)\n",
    "                print(affichage)\n",
    "                        \n",
    "                if \"_\" not in affichage:\n",
    "                      print(affichage,\"\\n\")\n",
    "                      print(\" \\n felicitation vous avez gagnez \\n\")\n",
    "                      essai=0\n",
    "                \n",
    "                else:\n",
    "                    print(affichage)\n",
    "            else:\n",
    "                print(affichage)\n",
    "                print(\"desole incorrect\") \n",
    "                essai= essai -1\n",
    "                print(\"il vous reste\",essai,\"tentatives\")\n",
    "               \n",
    "        print(\"voulez vous refaire une partie ? \")   \n",
    "        print(\"1.oui  pourquoi pas\")\n",
    "        print(\"2.non merci\")\n",
    "        choix=int(input(\" entrer votre choix \"))\n",
    "        if choix==1:\n",
    "            k=1\n",
    "            \n",
    "        else:\n",
    "            print(\"merci d'avoir joué\") \n",
    "            k=-1\n",
    "              \n",
    "            \n",
    "\n",
    "pendu()"
   ]
  },
  {
   "cell_type": "markdown",
   "id": "dd15fd91-b257-443b-b963-38ca38399108",
   "metadata": {},
   "source": [
    "### Appreciation Exercice 5"
   ]
  },
  {
   "cell_type": "code",
   "execution_count": null,
   "id": "b26838d4-7ef3-4513-b7f3-02265edd9da4",
   "metadata": {},
   "outputs": [],
   "source": [
    "note = float(input(\"Quelle note attriburiez-vous à cet exercice\"))\n",
    "qualite = float((input(\"À combien notez-vous la qualité du code de cet exercice? \")))\n",
    "efficience = float(input(\"À quel point ce code est-il efficient selon vous?\")) "
   ]
  },
  {
   "cell_type": "markdown",
   "id": "6dbc4ab7-09d1-467c-b1ae-92de9e304f67",
   "metadata": {},
   "source": [
    "## Exercice 6 (20 points):"
   ]
  },
  {
   "cell_type": "code",
   "execution_count": null,
   "id": "b5fbc5ec-8190-443d-a5de-963b2d0c9ad0",
   "metadata": {},
   "outputs": [],
   "source": [
    "def cuboide(x,y,z,n):\n",
    "    return [[i,j,k] for i in range(x+1) for j in range(y+1) for k in range(z+1) if i+j+k != n]\n",
    "\n",
    "print(cuboide(2,4,5,8))"
   ]
  },
  {
   "cell_type": "markdown",
   "id": "79a7de40-9c8b-4314-8602-442cda4e9f4c",
   "metadata": {},
   "source": [
    "### Appreciation Exercice 6"
   ]
  },
  {
   "cell_type": "code",
   "execution_count": null,
   "id": "970fb14d-e847-4726-8e55-7be9156f6296",
   "metadata": {},
   "outputs": [],
   "source": [
    "note = float(input(\"Quelle note attriburiez-vous à cet exercice\"))\n",
    "qualite = float((input(\"À combien notez-vous la qualité du code de cet exercice? \")))\n",
    "efficience = float(input(\"À quel point ce code est-il efficient selon vous?\")) "
   ]
  },
  {
   "cell_type": "markdown",
   "id": "e5510c21-cf02-495e-905b-5bd7c8573d71",
   "metadata": {},
   "source": [
    "## Exercice 7 (30 points):"
   ]
  },
  {
   "cell_type": "code",
   "execution_count": null,
   "id": "8507eb8d-94f3-4eb4-9521-edc54171faa5",
   "metadata": {},
   "outputs": [],
   "source": [
    "# cette foonction permet de retirer les elements avant les numeros afin de les comparer\n",
    "def clean_numero():\n",
    "    fichier=open('data_exo_6.txt','r')\n",
    "    numero_brut =fichier.readlines()\n",
    "    contact=[num.strip() for num in numero_brut]\n",
    "    numero=[]\n",
    "    for i in contact:\n",
    "        if len(i)==13:\n",
    "            num=\"\".join(list(i)[5:])\n",
    "            numero.append(num)\n",
    "        if len(i)==12:\n",
    "            num=\"\".join(list(i)[4:])\n",
    "            numero.append(num)\n",
    "        if len(i)==9:\n",
    "            num=\"\".join(list(i)[1:])\n",
    "            numero.append(num)  \n",
    "        if len(i)==8:\n",
    "            num=\"\".join(list(i)[0:])\n",
    "            numero.append(num)\n",
    "    return numero\n",
    "# affecter le resultat du nettoyage des numero a une variable \n",
    "contacts=clean_numero()\n",
    "#decorateur pour ajouter +237\n",
    "def deco(order_contact):\n",
    "    def inner(contacts):\n",
    "        # recuperer le resultat de la fonction order_contact car c'est ce resultat qu'on veux decorer\n",
    "        numero=order_contact(contacts)\n",
    "        liste_contact=[]\n",
    "        for i in numero:\n",
    "            standarise=\"+237 6\"+i\n",
    "            liste_contact.append(standarise)\n",
    "        return liste_contact \n",
    "    return inner    \n",
    "        \n",
    "@ deco\n",
    "def order_contact(contacts):\n",
    "    contacts.sort()\n",
    "    return contacts       \n",
    "            \n",
    "num_decorer=order_contact(contacts) # recuperer les numeros decore\n",
    "# ecriture des numeros dans un fichier\n",
    "for i in num_decorer:\n",
    "    f=open('contact.txt','a')\n",
    "    f.write(i)\n",
    "    f.write(\"\\n\")\n",
    "f.close()"
   ]
  },
  {
   "cell_type": "markdown",
   "id": "8d5e5a51-8ae8-485f-8e9b-3bfb38bdb7d6",
   "metadata": {},
   "source": [
    "### Appreciation Exercice 7"
   ]
  },
  {
   "cell_type": "code",
   "execution_count": null,
   "id": "9fc21cff-bb3a-4157-925b-0c28528280d4",
   "metadata": {},
   "outputs": [],
   "source": [
    "note = float(input(\"Quelle note attriburiez-vous à cet exercice\"))\n",
    "qualite = float((input(\"À combien notez-vous la qualité du code de cet exercice? \")))\n",
    "efficience = float(input(\"À quel point ce code est-il efficient selon vous?\")) "
   ]
  },
  {
   "cell_type": "markdown",
   "id": "be92e02e-81f8-495e-9606-1b54b408206f",
   "metadata": {},
   "source": [
    "## Exercice 8 (45 points):"
   ]
  },
  {
   "cell_type": "code",
   "execution_count": 1,
   "id": "38213ecd-f8d9-4d6d-acf7-47ffe9f5b24f",
   "metadata": {},
   "outputs": [
    {
     "ename": "FileNotFoundError",
     "evalue": "[Errno 2] No such file or directory: 'data_exo_7.txt'",
     "output_type": "error",
     "traceback": [
      "\u001b[0;31m---------------------------------------------------------------------------\u001b[0m",
      "\u001b[0;31mFileNotFoundError\u001b[0m                         Traceback (most recent call last)",
      "\u001b[0;32m<ipython-input-1-77b3f524c895>\u001b[0m in \u001b[0;36m<module>\u001b[0;34m\u001b[0m\n\u001b[1;32m     68\u001b[0m \u001b[0;31m# On recupere l'entête de notre fichier puis on traite\u001b[0m\u001b[0;34m\u001b[0m\u001b[0;34m\u001b[0m\u001b[0;34m\u001b[0m\u001b[0m\n\u001b[1;32m     69\u001b[0m \u001b[0;34m\u001b[0m\u001b[0m\n\u001b[0;32m---> 70\u001b[0;31m \u001b[0;32mwith\u001b[0m \u001b[0mopen\u001b[0m\u001b[0;34m(\u001b[0m\u001b[0;34m'data_exo_7.txt'\u001b[0m\u001b[0;34m,\u001b[0m\u001b[0;34m'r'\u001b[0m\u001b[0;34m)\u001b[0m \u001b[0;32mas\u001b[0m \u001b[0mfile\u001b[0m\u001b[0;34m:\u001b[0m\u001b[0;34m\u001b[0m\u001b[0;34m\u001b[0m\u001b[0m\n\u001b[0m\u001b[1;32m     71\u001b[0m     \u001b[0mlines\u001b[0m \u001b[0;34m=\u001b[0m \u001b[0mfile\u001b[0m\u001b[0;34m.\u001b[0m\u001b[0mreadline\u001b[0m\u001b[0;34m(\u001b[0m\u001b[0;34m)\u001b[0m\u001b[0;34m.\u001b[0m\u001b[0mrstrip\u001b[0m\u001b[0;34m(\u001b[0m\u001b[0;34m)\u001b[0m         \u001b[0;31m# on lit la premier ligne en supprimant le séparateur de ligne\u001b[0m\u001b[0;34m\u001b[0m\u001b[0;34m\u001b[0m\u001b[0m\n\u001b[1;32m     72\u001b[0m     \u001b[0mline\u001b[0m \u001b[0;34m=\u001b[0m \u001b[0mlines\u001b[0m\u001b[0;34m.\u001b[0m\u001b[0msplit\u001b[0m\u001b[0;34m(\u001b[0m\u001b[0;34m'\\t'\u001b[0m\u001b[0;34m)\u001b[0m                 \u001b[0;31m# on supprime le séparateur de colonne on obtient une liste\u001b[0m\u001b[0;34m\u001b[0m\u001b[0;34m\u001b[0m\u001b[0m\n",
      "\u001b[0;31mFileNotFoundError\u001b[0m: [Errno 2] No such file or directory: 'data_exo_7.txt'"
     ]
    }
   ],
   "source": [
    "import fontions_exercice7\n",
    "import platform\n",
    "\n",
    "\n",
    "def plateforme():\n",
    "    print(\"bienvenue: \", platform.uname(),\"\\n system :\", platform.system(), \"\\n\")\n",
    "\n",
    "def traitement(chaine):\n",
    "    \"\"\" cette focntion nous permettra de traiter les informations entrées par l'utilisateur \"\"\"\n",
    "    \n",
    "    accent = ['é', 'è', 'ê', 'à', 'ù', 'û', 'ç', 'ô', 'î', 'ï', 'â',' ']\n",
    "    sans_accent = ['e', 'e', 'e', 'a', 'u', 'u', 'c', 'o', 'i', 'i', 'a','']\n",
    "    #chaine = chaine.lower()\n",
    "    for i in range(len(accent)):\n",
    "        chaine = str(chaine).lower().replace(accent[i], sans_accent[i])\n",
    "    return chaine\n",
    "\n",
    "# nos  menus\n",
    "\n",
    "menu = {}\n",
    "menu['1']=\"Moyenne\"\n",
    "menu['2']=\"Variance\"\n",
    "menu['3']=\"Ecart type\"\n",
    "menu['4']=\"Médiane\"\n",
    "menu['5']=\"Premier quartile\"\n",
    "menu['6']=\"troisième quartile\"\n",
    "menu['7']=\"Maximum\"\n",
    "menu['8']=\"Minimum\"\n",
    "menu['9']=\"Mode\"\n",
    "menu['10'] = \"Coefficient de Pearson entre age et pression\"\n",
    "menu['11']=\"statistiques\"\n",
    "menu['12']=\"Sauvegarder tous\"\n",
    "menu['13']=\"Afficher tous\"\n",
    "menu['Q ou 0']=\"Quitter le programme\"\n",
    "\n",
    "def readFile(column):\n",
    "    \"\"\" cette fonction lit un fichier et recupère les valuers de la colonne désirée\\\n",
    "    par l'utilisateur si elle existe \"\"\"\n",
    "    \n",
    "    with open('data_exo_7.txt','r') as file:\n",
    "        \n",
    "        lines = file.readlines()\n",
    "        #print(lines[0])\n",
    "        \n",
    "        desired_column_data = []\n",
    "        index = -1\n",
    "        for i in lines:\n",
    "            #print(i)\n",
    "            line = i.split()\n",
    "            \n",
    "            for k,item in enumerate(line):\n",
    "                #print(k,item)\n",
    "                if column == line[k] and index == -1:\n",
    "                    index = k\n",
    "                    #desired_column_data.append(column)\n",
    "                elif k == index:\n",
    "                    desired_column_data.append(line[k])\n",
    "                    \n",
    "    ## le resultat precedent est une liste de chaine de caractere, on convertit ces valeurs en entier pour pouvoir effectuer nos opération\n",
    "    desired_column_data_int = []                \n",
    "    for j in range(len(desired_column_data)):\n",
    "            desired_column_data_int.append((int(desired_column_data[j])))                \n",
    "    return desired_column_data_int\n",
    "\n",
    "\n",
    "\n",
    "\n",
    "# On recupere l'entête de notre fichier puis on traite\n",
    "    \n",
    "with open('data_exo_7.txt','r') as file:\n",
    "    lines = file.readline().rstrip()         # on lit la premier ligne en supprimant le séparateur de ligne\n",
    "    line = lines.split('\\t')                 # on supprime le séparateur de colonne on obtient une liste\n",
    "    #print(line)\n",
    "    header = []                             # notre entete\n",
    "    for i in range(len(line)):\n",
    "        header.append(traitement(line[i]))\n",
    "        #print(header)\n",
    "        \n",
    "\n",
    "def readFileAll():\n",
    "    ''' cette fonction récupère les valeurs de toutes les colonnes de notre fichier, on va l'utiliser pour notre sauvegarde '''\n",
    "    liste = []\n",
    "    for column in header:\n",
    "        liste.append(readFile(column))\n",
    "        \n",
    "    return liste\n",
    "  \n",
    "plateforme()\n",
    "column = 0\n",
    "while column != \"0\":\n",
    "    try:\n",
    "        column = input(\"\\n Entrez le nom de la colonne sur laquelle vous souhaitez travailler ou 0 si vous ne desirez rien: \")\n",
    "\n",
    "                   \n",
    "        if column in header:                 # verifie si la colonne entrée par lutilisateur existe dans le fichier\n",
    "        \n",
    "            column = traitement(column)      # on appel la fonction traitement() qui permet de mettre en minuscule et supprimer les accents\n",
    "\n",
    "            column_int = readFile(column)    # on appel la fonction ReadFile() qui permet de recuperer les valeurs de la colonne entrée par l'utilisateur\n",
    "\n",
    "    \n",
    "\n",
    "            print(\"\\n Quelle opération souhaitez vous effectuer?\\n\".center(50))\n",
    "    \n",
    "            while True:\n",
    "            \n",
    "                #options = sorted(menu.keys())\n",
    "            \n",
    "                for cle in menu.keys():\n",
    "                    print (cle, menu[cle])         # on affiche le menu\n",
    "\n",
    "                # en fonction du choix de l'utilisateur, on effectue une opération. fontions_exercice7 est notre module contenant les fonctions\n",
    "\n",
    "                try:\n",
    "                    selection=input(\" \\n votre choix svp: \".center(50))\n",
    "                    \n",
    "                    if selection =='1':\n",
    "                        print (\"\\nLa moyenne de la colonne \" ,column, \" est: \", fontions_exercice7.moyenne(column_int))\n",
    "                        \n",
    "                    elif selection == '2': \n",
    "                        print (\"\\nLa variance de la colonne \", column, \" est: \", fontions_exercice7.variance(column_int))\n",
    "                        \n",
    "                    elif selection == '3': \n",
    "                        print (\"\\nL'écart type de la colone \", column, \" est: \", fontions_exercice7.ecart_type(column_int))\n",
    "                        \n",
    "                    elif selection == '4': \n",
    "                        print (\"\\nLa médiane de la colone \", column, \" est: \", fontions_exercice7.mediane(column_int))\n",
    "                        \n",
    "                    elif selection == '5': \n",
    "                        print (\"\\nLe premier quartile de la colone \", column, \" est: \", fontions_exercice7.premier_quartile(column_int))\n",
    "                        \n",
    "                    elif selection == '6': \n",
    "                        print (\"\\nLe troisieme quartile de la colone \", column, \" est: \", fontions_exercice7.troisieme_quartile(column_int))\n",
    "                        \n",
    "                    elif selection == '7':\n",
    "                        print (\" \\nLe maximum de \", column,\" est: \", fontions_exercice7.maximum(column_int))\n",
    "                        \n",
    "                    elif selection == '8':\n",
    "                        print (\"\\nLe minimum de \", column,\" est: \", fontions_exercice7.minimum(column_int))\n",
    "                        \n",
    "                    elif selection == '9':\n",
    "                        print (\"\\nLe mode de \", column, \" est: \", fontions_exercice7.mode(column_int))\n",
    "                        \n",
    "                    elif selection == '10':  \n",
    "                        liste_age = readFile('age')            # on recupere les elements de age\n",
    "                        liste_pression = readFile('pression')  # on recupere les valeurs de pression\n",
    "                        print (\"\\nLa corrélation entre age et pression est: \", fontions_exercice7.coefficient_pearson(liste_age,liste_pression))\n",
    "\n",
    "                    elif selection == '11':\n",
    "                        print(\"\\nStatistiques de la colonne\",column,\"\\n\")\n",
    "                        fontions_exercice7.statistique(column_int,column)\n",
    "\n",
    "                    elif selection == '12':\n",
    "                        liste = readFileAll()                            \n",
    "                        fontions_exercice7.sauvegarder(liste,header)\n",
    "                        print(\"\\n données sauvegardées\".center(100))\n",
    "\n",
    "                    elif selection == '13':\n",
    "                        print(\"\\nvisualisation\\n\".center(100))\n",
    "                        fontions_exercice7.afficher()\n",
    "\n",
    "                    elif (selection == 'Q'or selection == '0') :\n",
    "                        liste = readFileAll()\n",
    "                        fontions_exercice7.sauvegarder(liste ,header)                   \n",
    "                        print(\"vos resultats ont été enregistrer dans le fichier resultat.csv de votre repertoire courant, merci!!!\")\n",
    "                        break\n",
    "\n",
    "                    else: \n",
    "                        print (\"option inconnu selection l'une des option sus-citées!\\n\" )\n",
    "\n",
    "                except KeyboardInterrupt:\n",
    "                    print(\"\\npour quitter le programme , appuyer sur  Q ou 0\")\n",
    "\n",
    "        elif column != '0':\n",
    "            print(\"\\ncette colonne n'existe pas\")\n",
    "            continue\n",
    "        else:\n",
    "            print(\"\\nmerci pour votre attention\")\n",
    "            \n",
    "    except KeyboardInterrupt:\n",
    "        print(\"\\npour quitter le programme , appuyer sur 0 \")\n",
    "        \n"
   ]
  },
  {
   "cell_type": "markdown",
   "id": "aeccda97-e125-4855-b519-8dcad1549292",
   "metadata": {},
   "source": [
    "### Appreciation Exercice 8"
   ]
  },
  {
   "cell_type": "code",
   "execution_count": null,
   "id": "6ac97894-ff4b-4abf-88d1-ed7fdd5c5520",
   "metadata": {},
   "outputs": [],
   "source": [
    "note = float(input(\"Quelle note attriburiez-vous à cet exercice\"))\n",
    "qualite = float((input(\"À combien notez-vous la qualité du code de cet exercice? \")))\n",
    "efficience = float(input(\"À quel point ce code est-il efficient selon vous?\")) "
   ]
  },
  {
   "cell_type": "markdown",
   "id": "0302a40e-cc98-486c-a451-0c3576ae1d06",
   "metadata": {},
   "source": [
    "## Exercice 9 (25 points): Chiffrement de César"
   ]
  },
  {
   "cell_type": "code",
   "execution_count": null,
   "id": "64deb123-bfd5-447d-be3a-fe5d6ea18764",
   "metadata": {},
   "outputs": [],
   "source": [
    "def traitement(chaine):\n",
    "    \n",
    "    \"\"\" pour traiter la chaine  à encoder ou à décoder car notre aplphabet\\\n",
    "    est en majuscule et sans accent\"\"\"\n",
    "    \n",
    "    accent = ['é', 'è', 'ê', 'à', 'ù', 'û', 'ç', 'ô', 'î', 'ï', 'â',' ']\n",
    "    sans_accent = ['e', 'e', 'e', 'a', 'u', 'u', 'c', 'o', 'i', 'i', 'a',' ']\n",
    "    for i in range(len(accent)):\n",
    "        chaine = str(chaine).replace(accent[i], sans_accent[i])\n",
    "    return chaine\n",
    "\n",
    "\n",
    "def encodage_cesar(phrase, d):\n",
    "    \n",
    "    \"\"\" fonction d'encodage, on fait un décalage vers la droite avec un pas d\"\"\"\n",
    "    \n",
    "    alphabet = 'ABCDEFGHIJKLMNOPQRSTUVWXYZ'\n",
    "    \n",
    "    resultat = ''\n",
    "    phrase = traitement(phrase).upper()          # suppression des accent et mise en majuscule\n",
    "    #print(phrase)\n",
    "    for lettre in phrase:\n",
    "        if lettre == ' ':                        # pour distinguer les mots apres cryptage\n",
    "            resultat += lettre\n",
    "        else:\n",
    "            ordre = ord(lettre)- 65             # obtenir le caractère ASCII de la lettre et le ramener à l'echelle [0,25]\n",
    "            indice = (ordre + d ) % 26    # obtenir l'indice de la lettre après décalage\n",
    "            resultat += alphabet[indice]\n",
    "            \n",
    "    return resultat\n",
    "                                \n",
    "                                \n",
    "print(encodage_cesar(\"QEB NRFZH YOLTK CLU GRJMP LSBO QEB IXWV ALD\", 3))    #test\n",
    "\n",
    "\n",
    "\n",
    "\n",
    "def decodage_cesar(phrase, d ):\n",
    "\n",
    "    \"\"\" idem que la focntion d'encodage à un detail près. ici on effectue plutôt un décalage vers la gauche\"\"\"\n",
    "    \n",
    "    alphabet = 'ABCDEFGHIJKLMNOPQRSTUVWXYZ'\n",
    "    \n",
    "    resultat = ''\n",
    "    phrase = traitement(phrase).upper()\n",
    "    #print(phrase)\n",
    "    for lettre in phrase:\n",
    "        if lettre == ' ':\n",
    "            resultat += lettre\n",
    "        else:\n",
    "            ordre = ord(lettre) - 65 \n",
    "            indice = (ordre - d )%26\n",
    "            resultat += alphabet[indice]\n",
    "    return resultat\n",
    "    \n",
    "print(decodage_cesar(\"THE QUICK BROWN FOX JUMPS OVER THE LAZY DOG\",3))"
   ]
  },
  {
   "cell_type": "markdown",
   "id": "367b3621-5f85-4a94-901b-9992180b8148",
   "metadata": {},
   "source": [
    "### Appreciation Exercice 9"
   ]
  },
  {
   "cell_type": "code",
   "execution_count": null,
   "id": "78fd2784-ce48-4677-bd72-7b46939e973b",
   "metadata": {},
   "outputs": [],
   "source": [
    "note = float(input(\"Quelle note attriburiez-vous à cet exercice\"))\n",
    "qualite = float((input(\"À combien notez-vous la qualité du code de cet exercice? \")))\n",
    "efficience = float(input(\"À quel point ce code est-il efficient selon vous?\")) "
   ]
  }
 ],
 "metadata": {
  "kernelspec": {
   "display_name": "Python 3",
   "language": "python",
   "name": "python3"
  },
  "language_info": {
   "codemirror_mode": {
    "name": "ipython",
    "version": 3
   },
   "file_extension": ".py",
   "mimetype": "text/x-python",
   "name": "python",
   "nbconvert_exporter": "python",
   "pygments_lexer": "ipython3",
   "version": "3.8.5"
  }
 },
 "nbformat": 4,
 "nbformat_minor": 5
}
