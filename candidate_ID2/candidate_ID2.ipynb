{
 "cells": [
  {
   "cell_type": "markdown",
   "id": "59e0d103-0441-44c4-926a-e86675f331a1",
   "metadata": {},
   "source": [
    "## Exercice 1(5 points): Culture générale "
   ]
  },
  {
   "cell_type": "markdown",
   "id": "f4b7dadd-5127-4f43-887b-d2d4ffdad70e",
   "metadata": {},
   "source": [
    "[Lien vers le doc](https://github.com/st9-8/python-code-path-21/blob/main/cuisine_1/pypath_2/exercice1_cuisine.docx)"
   ]
  },
  {
   "cell_type": "markdown",
   "id": "3a022152-253a-43e5-a339-6c9568daffc6",
   "metadata": {},
   "source": [
    "### Appreciation Exercice 1"
   ]
  },
  {
   "cell_type": "code",
   "execution_count": 1,
   "id": "0f95d843-63b1-4272-ab1b-77118194be51",
   "metadata": {
    "collapsed": true,
    "jupyter": {
     "outputs_hidden": true
    },
    "tags": []
   },
   "outputs": [
    {
     "name": "stdin",
     "output_type": "stream",
     "text": [
      "Quelle note attriburiez-vous à cet exercice 23\n",
      "À combien notez-vous la qualité du code de cet exercice?  34\n",
      "À quel point ce code est-il efficient selon vous? 44\n"
     ]
    }
   ],
   "source": [
    "note = float(input(\"Quelle note attriburiez-vous à cet exercice\"))"
   ]
  },
  {
   "cell_type": "markdown",
   "id": "5adf1a03-498e-4d7d-9cbe-db31ab2c86f3",
   "metadata": {
    "tags": []
   },
   "source": [
    "## Exercice 2 (7 points):"
   ]
  },
  {
   "cell_type": "code",
   "execution_count": null,
   "id": "fcbe25b2-ee41-4a96-b531-184b6cf209e1",
   "metadata": {},
   "outputs": [],
   "source": [
    "# creons une fonction personnes non servi qui va executé nos operations\n",
    "\n",
    "def personnes_non_servis(table_A, table_B, list_de_groupe=[]): #notre foncttion prend en parametre deux tables de type integer et une liste de type interger\n",
    "\n",
    "    for nbr_personne in range(len(list_de_groupe)):#son paraccours la liste de groupe\n",
    "        if list_de_groupe[nbr_personne] == 1 and table_A == 1:# on regarde si la premiere table peut faire assoeir un groupe d'une personne\n",
    "            pass  # on passe a la condition suivante si c'est le cas\n",
    "            if list_de_groupe[nbr_personne] == 1 and table_B == 1:# on verifier sil ya toutes les places de la table b sont libres\n",
    "                pass  # on passe a la condition suivante si oui\n",
    "            elif list_de_groupe[nbr_personne] == 1 and table_B == 2:# on verifie si une seul place est libre\n",
    "                pass # on passe a la condition suivante si oui\n",
    "            else:\n",
    "                return list_de_groupe[nbr_personne] # si le groupe na pas de place on retourne leurs nombres\n",
    "        else:\n",
    "            if list_de_groupe[nbr_personne] == 2 and table_B == 1: # on verifie sil ya de la place pour un couple sur la table b\n",
    "                return list_de_groupe[nbr_personne] # si la palce n'est pas suffisante on reourne leurs nombre\n",
    "            else:\n",
    "                return 0 # on retourne 0 soi aucune des conditions n'est verfier\n",
    "\n",
    "table_A = input(\"entrer le nombre de place de la table_A disponible entre 0 et 1\")\n",
    "print(\"\\n\")\n",
    "table_A = int(table_A)\n",
    "table_B = input(\"entrer le nombre de place de la table_A disponible entre 1 et 2\")\n",
    "print(\"\\n\")\n",
    "table_B = int(table_B)\n",
    "nbr_de_groupe = input('entrer le nbr de groupe de personne entre 1 et 2 desirant etre sevi en espacent')\n",
    "print(\"\\n\")\n",
    "user_liste = nbr_de_groupe.split()\n",
    "for i in range(len(user_liste)):\n",
    "    user_liste[i] = int(user_liste[i])\n",
    "\n",
    "\n",
    "print(personnes_non_servis(table_A, table_B, user_liste))\n"
   ]
  },
  {
   "cell_type": "markdown",
   "id": "1441509a-a6c7-4b4f-a88c-b15aa116f4ea",
   "metadata": {},
   "source": [
    "### Appreciation Exercice 2"
   ]
  },
  {
   "cell_type": "code",
   "execution_count": null,
   "id": "68251fa1-3ae4-4c91-be3b-0faf196e067e",
   "metadata": {},
   "outputs": [],
   "source": [
    "note = float(input(\"Quelle note attriburiez-vous à cet exercice\"))"
   ]
  },
  {
   "cell_type": "markdown",
   "id": "d7f4aefd-959c-4e97-b1c2-fa2e8dc01c8f",
   "metadata": {},
   "source": [
    "## Exercice 3 (7 points): Pierre-feuille-ciseau"
   ]
  },
  {
   "cell_type": "code",
   "execution_count": null,
   "id": "e15e1d32-c04d-46f2-8d31-48cd89675631",
   "metadata": {},
   "outputs": [],
   "source": [
    "import random\n",
    "\n",
    "reponse = input(\"veuillez entrer un nombre entre 0 a 1000 \\n\")\n",
    "reponse = int(reponse)\n",
    "nbr_fois = 0\n",
    "nbr_supposition = 0\n",
    "var1 = 0\n",
    "choix_ordinateur = random.randint(0, 1000)\n",
    "print(choix_ordinateur)\n",
    "if choix_ordinateur < 500 and reponse < 500:\n",
    "    print(\"reponse trop petite\")\n",
    "    for number in range(0, 500):\n",
    "        choix_ordinateur = choix_ordinateur + 1\n",
    "        nbr_supposition = nbr_supposition + 1\n",
    "        if choix_ordinateur == reponse:\n",
    "            var1 = nbr_supposition + 1\n",
    "    print(var1)\n",
    "    print(choix_ordinateur)\n",
    "elif choix_ordinateur < reponse and reponse > 500:\n",
    "    print(\"reponse trop petite\")\n",
    "    for number in range(choix_ordinateur, reponse):\n",
    "        choix_ordinateur = choix_ordinateur + 1\n",
    "        nbr_supposition = nbr_supposition + 1\n",
    "        if choix_ordinateur == reponse:\n",
    "            var1 = nbr_supposition + 1\n",
    "    print(var1)\n",
    "    print(choix_ordinateur)\n",
    "\n",
    "\n",
    "elif choix_ordinateur > reponse and reponse < 500:\n",
    "    print(\"reponse trop élévé\")\n",
    "    for number in range(reponse, choix_ordinateur, -1):\n",
    "        choix_ordinateur = choix_ordinateur - 1\n",
    "        nbr_supposition = nbr_supposition + 1\n",
    "        if choix_ordinateur == reponse:\n",
    "            var1 = nbr_supposition + 1\n",
    "    print(var1)\n",
    "    print(choix_ordinateur)\n",
    "elif choix_ordinateur > reponse > 500:\n",
    "    print(\"reponse trop élévé\")\n",
    "    for number in range(500, 1000):\n",
    "        choix_ordinateur = choix_ordinateur + 1\n",
    "        nbr_supposition = nbr_supposition + 1\n",
    "        if choix_ordinateur == reponse:\n",
    "            var1 = nbr_supposition + 1\n",
    "    print(var1)\n",
    "    print(choix_ordinateur)\n",
    "else:\n",
    "    print(\"reponse non trouvé:\")\n"
   ]
  },
  {
   "cell_type": "markdown",
   "id": "41026062-09ce-4f7f-94f2-645a76226121",
   "metadata": {},
   "source": [
    "### Appreciation Exercice 3"
   ]
  },
  {
   "cell_type": "code",
   "execution_count": null,
   "id": "c66e1d37-f1f2-4f2f-8c47-fe64b1132db2",
   "metadata": {},
   "outputs": [],
   "source": [
    "f = float(input(\"Note du Fonctionnement (Sur 4pts)\"))\n",
    "q = float(input(\"Note sur la qualité du code (sur 1pt)\"))\n",
    "examinator_appreciation = float(input('Appréciation de l\\'examinateur (sur 2pts)')) \n",
    "print(f'Note : {f + q + examinator_appreciation}')"
   ]
  },
  {
   "cell_type": "markdown",
   "id": "7b222c34-7200-4ce9-836b-7e39f4ae57a0",
   "metadata": {},
   "source": [
    "## Exercice 4(8 points)"
   ]
  },
  {
   "cell_type": "code",
   "execution_count": null,
   "id": "1806e35b-3fe6-4b89-a2ce-da41b54edb8f",
   "metadata": {},
   "outputs": [],
   "source": [
    "import random\n",
    "import array\n",
    "\n",
    "\n",
    "def MotDePasse( taille_maximum):\n",
    "    Nombre = ['0', '1', '2', '3', '4', '5', '6', '7', '8', '9']\n",
    "    lettres_miniscules = ['a', 'b', 'c', 'd', 'e', 'f', 'g', 'h',\n",
    "                          'i', 'j', 'k', 'm', 'n', 'o', 'p', 'q',\n",
    "                          'r', 's', 't', 'u', 'v', 'w', 'x', 'y',\n",
    "                          'z']\n",
    "\n",
    "    lettres_majuscules = ['A', 'B', 'C', 'D', 'E', 'F', 'G', 'H',\n",
    "                          'I', 'J', 'K', 'M', 'N', 'O', 'p', 'Q',\n",
    "                          'R', 'S', 'T', 'U', 'V', 'W', 'X', 'Y',\n",
    "                          'Z']\n",
    "\n",
    "    symboles = ['@', '#', '$', '%', '=', ':', '?', '.', '/', '|', '~', '>',\n",
    "                '*', '(', ')', '<']\n",
    "\n",
    "    list_combinés = Nombre + lettres_majuscules + lettres_miniscules + symboles\n",
    "    rand_Nombre = random.choice(Nombre)\n",
    "    rand_lettres_miniscules = random.choice(lettres_miniscules)\n",
    "    rand_lettre_majuscules = random.choice(lettres_majuscules)\n",
    "    rand_symboles = random.choice(symboles)\n",
    "    liste_random = rand_Nombre + rand_lettre_majuscules + rand_lettres_miniscules + rand_symboles\n",
    "\n",
    "    for x in range(taille_maximum - 4):\n",
    "        liste_random = liste_random + random.choice(list_combinés)\n",
    "        liste_random_table = array.array('u', liste_random)\n",
    "        random.shuffle(liste_random_table)\n",
    "    mot_de_passe = \"\"\n",
    "    for i in liste_random_table:\n",
    "        mot_de_passe = mot_de_passe + i\n",
    "    print(mot_de_passe)\n",
    "\n",
    "\n",
    "def MotDePasse1(taille_maximum):\n",
    "    Nombre = ['0', '1', '2', '3', '4', '5', '6', '7', '8', '9']\n",
    "    lettres_miniscules = ['a', 'b', 'c', 'd', 'e', 'f', 'g', 'h',\n",
    "                          'i', 'j', 'k', 'm', 'n', 'o', 'p', 'q',\n",
    "                          'r', 's', 't', 'u', 'v', 'w', 'x', 'y',\n",
    "                          'z']\n",
    "\n",
    "    lettres_majuscules = ['A', 'B', 'C', 'D', 'E', 'F', 'G', 'H',\n",
    "                          'I', 'J', 'K', 'M', 'N', 'O', 'p', 'Q',\n",
    "                          'R', 'S', 'T', 'U', 'V', 'W', 'X', 'Y',\n",
    "                          'Z']\n",
    "\n",
    "    symboles = ['@', '#', '$', '%', '=', ':', '?', '.', '/', '|', '~', '>',\n",
    "                '*', '(', ')', '<']\n",
    "\n",
    "\n",
    "    list_combinés = Nombre + lettres_miniscules + symboles\n",
    "    rand_Nombre = random.choice(Nombre)\n",
    "    rand_lettres_miniscules = random.choice(lettres_miniscules)\n",
    "    rand_lettre_majuscules = random.choice(lettres_majuscules)\n",
    "    rand_symboles = random.choice(symboles)\n",
    "    liste_random = rand_Nombre + rand_lettres_miniscules + rand_symboles\n",
    "\n",
    "    for x in range(taille_maximum - 3):\n",
    "        liste_random = liste_random + random.choice(list_combinés)\n",
    "        liste_random_table = array.array('u', liste_random)\n",
    "        random.shuffle(liste_random_table)\n",
    "    mot_de_passe = \"\"\n",
    "    for i in liste_random_table:\n",
    "        mot_de_passe = mot_de_passe + i\n",
    "    print(mot_de_passe)\n",
    "\n",
    "\n",
    "def MotDePasse2(taille_maximum):\n",
    "    Nombre = ['0', '1', '2', '3', '4', '5', '6', '7', '8', '9']\n",
    "    lettres_miniscules = ['a', 'b', 'c', 'd', 'e', 'f', 'g', 'h',\n",
    "                          'i', 'j', 'k', 'm', 'n', 'o', 'p', 'q',\n",
    "                          'r', 's', 't', 'u', 'v', 'w', 'x', 'y',\n",
    "                          'z']\n",
    "\n",
    "    lettres_majuscules = ['A', 'B', 'C', 'D', 'E', 'F', 'G', 'H',\n",
    "                          'I', 'J', 'K', 'M', 'N', 'O', 'p', 'Q',\n",
    "                          'R', 'S', 'T', 'U', 'V', 'W', 'X', 'Y',\n",
    "                          'Z']\n",
    "\n",
    "    symboles = ['@', '#', '$', '%', '=', ':', '?', '.', '/', '|', '~', '>',\n",
    "                '*', '(', ')', '<']\n",
    "\n",
    "\n",
    "    list_combinés = lettres_majuscules + lettres_miniscules + symboles\n",
    "    rand_Nombre = random.choice(Nombre)\n",
    "    rand_lettres_miniscules = random.choice(lettres_miniscules)\n",
    "    rand_lettre_majuscules = random.choice(lettres_majuscules)\n",
    "    rand_symboles = random.choice(symboles)\n",
    "    liste_random = rand_lettre_majuscules + rand_lettres_miniscules + rand_symboles\n",
    "\n",
    "    for x in range(taille_maximum - 3):\n",
    "        liste_random = liste_random + random.choice(list_combinés)\n",
    "        liste_random_table = array.array('u', liste_random)\n",
    "        random.shuffle(liste_random_table)\n",
    "    mot_de_passe = \"\"\n",
    "    for i in liste_random_table:\n",
    "        mot_de_passe = mot_de_passe + i\n",
    "    print(mot_de_passe)\n",
    "\n",
    "\n",
    "choix_de_mot_de_passe = input(\"veuillez entrer un choix \\n\"\n",
    "                              \"1-mot de passe sans majuscule \\n\"\n",
    "                              \"2-mot de passe sans chiffre \\n\"\n",
    "                              \"3-mot de passe complet \\n\")\n",
    "choix_de_taille = input(\"entrer la taille de votre mot de mot de passe \\n\")\n",
    "choix_de_taille = int(choix_de_taille)\n",
    "if choix_de_mot_de_passe == \"1\":\n",
    "    print(MotDePasse1(choix_de_taille))\n",
    "elif choix_de_mot_de_passe == \"2\":\n",
    "    print(MotDePasse2(choix_de_taille))\n",
    "elif choix_de_mot_de_passe == \"3\":\n",
    "    print(MotDePasse(choix_de_taille))\n",
    "else:\n",
    "    pass\n"
   ]
  },
  {
   "cell_type": "markdown",
   "id": "4acc4d1e-ec6b-4f44-88c1-872cce18f511",
   "metadata": {},
   "source": [
    "### Appreciation Exercice 4"
   ]
  },
  {
   "cell_type": "code",
   "execution_count": null,
   "id": "15944995-73e5-4f5a-bfd6-d3d930260297",
   "metadata": {},
   "outputs": [],
   "source": [
    "f = float(input(\"Note du Fonctionnement (Sur 5pts)\"))\n",
    "q = float(input(\"Note sur la qualité du code (sur 1pt)\"))\n",
    "examinator_appreciation = float(input('Appréciation de l\\'examinateur (sur 2pts)'))\n",
    "print(f'Note : {f + q + examinator_appreciation}')"
   ]
  },
  {
   "cell_type": "markdown",
   "id": "4e6662f8-341f-4dd3-b3a5-2a0939a5da49",
   "metadata": {},
   "source": [
    "## Exercice 5 (40 points): Jeu du pendu "
   ]
  },
  {
   "cell_type": "code",
   "execution_count": null,
   "id": "e472fe74-b461-4113-95a7-90f9a1aaa8dc",
   "metadata": {},
   "outputs": [],
   "source": [
    "import random\n",
    "\n",
    "tableau = []\n",
    "with open(\"sowpods.txt\", \"r\") as f:\n",
    "    lines = f.readlines()\n",
    "    for l in lines[1:]:\n",
    "        tableau.append(l.split()[-1])\n",
    "        nouveau = random.choice(tableau)\n",
    "def choix_de_mot():\n",
    "    tableau = []\n",
    "    with open(\"sowpods.txt\", \"r\") as f:\n",
    "        lines = f.readlines()\n",
    "        for l in lines[1:]:\n",
    "            tableau.append(l.split()[-1])\n",
    "            nouveau = random.choice(tableau)\n",
    "        print(nouveau)\n",
    "\n",
    "\n",
    "def demande_du_Joueur(mot=[]):\n",
    "    print(mot)\n",
    "    for lettre in range(len(mot)):\n",
    "        essaie = 0\n",
    "        reste = 6\n",
    "        print(mot[lettre])\n",
    "        choix_utilisateur = input(\"veuillez deviner votre lettre \\n\")\n",
    "        occurence_de_la_lettre = 1\n",
    "        if choix_utilisateur != mot[lettre]:\n",
    "            while choix_utilisateur != mot[lettre] and essaie < 5:\n",
    "                choix_utilisateur2 = choix_utilisateur\n",
    "                choix_utilisateur = input(\"veuillez deviner la lettre \\n\")\n",
    "                reste = --reste\n",
    "                print(\"il vous reste:\", reste, \"essaie\")\n",
    "                essaie = ++ essaie\n",
    "            else:\n",
    "                if essaie == 6:\n",
    "                    print(\"vous avez perdu\")\n",
    "\n",
    "                elif choix_utilisateur == choix_utilisateur2:\n",
    "                    occurence_de_la_lettre = occurence_de_la_lettre + 1\n",
    "                    print(\"vous avez deja mis cette lettre \\n\")\n",
    "                    print(\"devinez encore \\n\")\n",
    "                    if occurence_de_la_lettre > 1:\n",
    "                        print(occurence_de_la_lettre)\n",
    "\n",
    "                else:\n",
    "                    pass\n",
    "\n",
    "    print(\"vous avez gagner\")\n",
    "\n",
    "\n",
    "demande_du_Joueur(nouveau)\n"
   ]
  },
  {
   "cell_type": "markdown",
   "id": "dd15fd91-b257-443b-b963-38ca38399108",
   "metadata": {},
   "source": [
    "### Appreciation Exercice 5"
   ]
  },
  {
   "cell_type": "code",
   "execution_count": null,
   "id": "b26838d4-7ef3-4513-b7f3-02265edd9da4",
   "metadata": {},
   "outputs": [],
   "source": [
    "p1 = float(input('Note partie 1: 5pts'))\n",
    "p2 = float(input('Note partie 2: 10pts'))\n",
    "p3 = float(input('Note partie 3: 15pts'))\n",
    "l = float(input('Note de la lisibilité du code : 2pts'))\n",
    "s = float(input('Note de la simplicité du code : 2pts'))\n",
    "c = float(input('Note des commantaires et nommage: 2pts'))\n",
    "u = float(input('Note sur l\\'utilisation des structures de données: 4pts'))\n",
    "print(f'Note : {p1+p2+p3+l+s+c+u}')"
   ]
  },
  {
   "cell_type": "markdown",
   "id": "6dbc4ab7-09d1-467c-b1ae-92de9e304f67",
   "metadata": {},
   "source": [
    "## Exercice 6 (20 points):"
   ]
  },
  {
   "cell_type": "code",
   "execution_count": null,
   "id": "b5fbc5ec-8190-443d-a5de-963b2d0c9ad0",
   "metadata": {},
   "outputs": [],
   "source": [
    "def comprendreLitse(n, a, b, c):\n",
    "    x = list(range(a+1))\n",
    "    y = list(range(b+1))\n",
    "    z = list(range(c+1))\n",
    "    s = [[i, j, k] for i in x for j in y for k in z if i + j + k != n]\n",
    "    print(s)\n",
    "\n",
    "\n",
    "comprendreLitse(3, 1, 2, 1)"
   ]
  },
  {
   "cell_type": "markdown",
   "id": "79a7de40-9c8b-4314-8602-442cda4e9f4c",
   "metadata": {},
   "source": [
    "### Appreciation Exercice 6"
   ]
  },
  {
   "cell_type": "code",
   "execution_count": null,
   "id": "970fb14d-e847-4726-8e55-7be9156f6296",
   "metadata": {},
   "outputs": [],
   "source": [
    "p = float(input('Note sur le fonctionnemant : /15'))\n",
    "u = float(input('Note sur l\\'utilisation des compréhensions des listes : 5pts(s\\'il a utilisé il a 5 sinon 0)'))\n",
    "print(f'Note : {p + u}')"
   ]
  },
  {
   "cell_type": "markdown",
   "id": "e5510c21-cf02-495e-905b-5bd7c8573d71",
   "metadata": {},
   "source": [
    "## Exercice 7 (30 points):"
   ]
  },
  {
   "cell_type": "code",
   "execution_count": null,
   "id": "8507eb8d-94f3-4eb4-9521-edc54171faa5",
   "metadata": {},
   "outputs": [],
   "source": [
    "# definissons un decorateur qui va ajouter +237 sur chaque nombre\n",
    "def ajouter(func):\n",
    "    def egal():\n",
    "        article = func()\n",
    "        for i in range(1, len(article)):\n",
    "            article[i] = \"+2376\" + article[i]\n",
    "\n",
    "        return article\n",
    "\n",
    "    return egal\n",
    "\n",
    "\n",
    "# maitenant creons une fonction qui trie tout les numeros du fichier\n",
    "@ajouter\n",
    "def trie():\n",
    "    a = []\n",
    "    tableau = []  # ce tableau contiendra notre numero complet\n",
    "    fichier = open(\"article_exo_7.txt\", \"r\")\n",
    "    a = fichier.readlines()  # recupere toute les lignes du fichier\n",
    "\n",
    "    fichier.close()\n",
    "\n",
    "    for i in range(len(a)):\n",
    "        if a[i].startswith(\"+2376\"):  # si le nombre commence par +2376 alors on ajoute dans tableau les chiffres qui suit\n",
    "            tableau.append(int(a[i][5:]))\n",
    "\n",
    "        elif a[i].startswith(\"237\"):\n",
    "            tableau.append(int(a[i][4:]))\n",
    "        elif a[i].startswith(\"6\"):\n",
    "            tableau.append(int(a[i][1:]))\n",
    "        else:\n",
    "            tableau.append(int(a[i]))\n",
    "    tableau.sort()\n",
    "    for i in range(1, len(tableau)):\n",
    "        tableau[i] = str(tableau[i])\n",
    "        if len(tableau[i]) < 8:  # si apres transformation le nombre n'est pas egal a 8 on le complete avec 0\n",
    "            tableau[i] = \"0\" * (8 - len(tableau[i])) + tableau[i]\n",
    "    return tableau\n",
    "\n",
    "\n",
    "a = trie()\n",
    "print(a)\n"
   ]
  },
  {
   "cell_type": "markdown",
   "id": "8d5e5a51-8ae8-485f-8e9b-3bfb38bdb7d6",
   "metadata": {},
   "source": [
    "### Appreciation Exercice 7"
   ]
  },
  {
   "cell_type": "code",
   "execution_count": null,
   "id": "9fc21cff-bb3a-4157-925b-0c28528280d4",
   "metadata": {},
   "outputs": [],
   "source": [
    "f = float(input('Note sur fonctionnement : 20pts'))\n",
    "m = float(input('Modularité du code: 3pts'))\n",
    "c = float(input('Commentaires: 2pts'))\n",
    "a = float(input('Appréciation du jury: 5pts'))\n",
    "print(f'Note : {f + m + c + a}')"
   ]
  },
  {
   "cell_type": "markdown",
   "id": "be92e02e-81f8-495e-9606-1b54b408206f",
   "metadata": {},
   "source": [
    "## Exercice 8 (45 points):"
   ]
  },
  {
   "cell_type": "code",
   "execution_count": null,
   "id": "38213ecd-f8d9-4d6d-acf7-47ffe9f5b24f",
   "metadata": {},
   "outputs": [],
   "source": []
  },
  {
   "cell_type": "markdown",
   "id": "aeccda97-e125-4855-b519-8dcad1549292",
   "metadata": {},
   "source": [
    "### Appreciation Exercice 8"
   ]
  },
  {
   "cell_type": "code",
   "execution_count": null,
   "id": "6ac97894-ff4b-4abf-88d1-ed7fdd5c5520",
   "metadata": {
    "tags": []
   },
   "outputs": [],
   "source": [
    "f = float(input('Fonctionnement : 28pts'))\n",
    "m = float(input('Modularité du code: 5pts')) \n",
    "c = float(input('Commentaires: 3 pts'))\n",
    "l = float(input('Lisibilité : 2pts'))\n",
    "s = float(input('Simplicité: 2pts'))\n",
    "a = float(input('Appréciation du jury: 5pts'))\n",
    "print(f'Note : {f + m + c + l + s + a}')"
   ]
  },
  {
   "cell_type": "markdown",
   "id": "0302a40e-cc98-486c-a451-0c3576ae1d06",
   "metadata": {
    "jupyter": {
     "source_hidden": true
    },
    "tags": []
   },
   "source": [
    "## Exercice 9 (25 points): Chiffrement de César"
   ]
  },
  {
   "cell_type": "code",
   "execution_count": null,
   "id": "64deb123-bfd5-447d-be3a-fe5d6ea18764",
   "metadata": {},
   "outputs": [],
   "source": []
  },
  {
   "cell_type": "markdown",
   "id": "367b3621-5f85-4a94-901b-9992180b8148",
   "metadata": {},
   "source": [
    "### Appreciation Exercice 9"
   ]
  },
  {
   "cell_type": "code",
   "execution_count": null,
   "id": "78fd2784-ce48-4677-bd72-7b46939e973b",
   "metadata": {},
   "outputs": [],
   "source": [
    "f = float(input('Fonctionnement : 15pts'))\n",
    "u = float(input('Utilisation d’une fonction encodage et une fonction décodage : 2pts')\n",
    "q = float(input('Qualité du code: 3pts'))\n",
    "a = float(input('Appréciation du jury: 5pts'))\n",
    "print(f'Note : {f + q + a + u}')"
   ]
  }
 ],
 "metadata": {
  "kernelspec": {
   "display_name": "Python 3",
   "language": "python",
   "name": "python3"
  },
  "language_info": {
   "codemirror_mode": {
    "name": "ipython",
    "version": 3
   },
   "file_extension": ".py",
   "mimetype": "text/x-python",
   "name": "python",
   "nbconvert_exporter": "python",
   "pygments_lexer": "ipython3",
   "version": "3.8.10"
  }
 },
 "nbformat": 4,
 "nbformat_minor": 5
}
