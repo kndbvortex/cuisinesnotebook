{
 "cells": [
  {
   "cell_type": "markdown",
   "id": "59e0d103-0441-44c4-926a-e86675f331a1",
   "metadata": {},
   "source": [
    "## Exercice 1(5 points): Culture générale "
   ]
  },
  {
   "cell_type": "markdown",
   "id": "c7a59724-32bb-41a7-9619-9276201694f5",
   "metadata": {},
   "source": [
    "[lien vers le doc](https://github.com/st9-8/python-code-path-21/blob/main/cuisine_1/pypath_11/exo1.docx)"
   ]
  },
  {
   "cell_type": "markdown",
   "id": "3a022152-253a-43e5-a339-6c9568daffc6",
   "metadata": {},
   "source": [
    "### Appreciation Exercice 1"
   ]
  },
  {
   "cell_type": "code",
   "execution_count": 1,
   "id": "0f95d843-63b1-4272-ab1b-77118194be51",
   "metadata": {
    "collapsed": true,
    "jupyter": {
     "outputs_hidden": true
    },
    "tags": []
   },
   "outputs": [
    {
     "name": "stdin",
     "output_type": "stream",
     "text": [
      "Quelle note attriburiez-vous à cet exercice 23\n",
      "À combien notez-vous la qualité du code de cet exercice?  34\n",
      "À quel point ce code est-il efficient selon vous? 44\n"
     ]
    }
   ],
   "source": [
    "note = float(input(\"Quelle note attriburiez-vous à cet exercice\"))"
   ]
  },
  {
   "cell_type": "markdown",
   "id": "5adf1a03-498e-4d7d-9cbe-db31ab2c86f3",
   "metadata": {},
   "source": [
    "## Exercice 2 (7 points):"
   ]
  },
  {
   "cell_type": "markdown",
   "id": "3f541620-cfea-42d4-8f2e-00ab2b754fee",
   "metadata": {},
   "source": [
    "[lien vers le doc](https://github.com/st9-8/python-code-path-21/blob/main/cuisine_1/pypath_11/exo1et2.pdf)"
   ]
  },
  {
   "cell_type": "markdown",
   "id": "1441509a-a6c7-4b4f-a88c-b15aa116f4ea",
   "metadata": {},
   "source": [
    "### Appreciation Exercice 2"
   ]
  },
  {
   "cell_type": "code",
   "execution_count": null,
   "id": "68251fa1-3ae4-4c91-be3b-0faf196e067e",
   "metadata": {},
   "outputs": [],
   "source": [
    "note = float(input(\"Quelle note attriburiez-vous à cet exercice\"))"
   ]
  },
  {
   "cell_type": "markdown",
   "id": "d7f4aefd-959c-4e97-b1c2-fa2e8dc01c8f",
   "metadata": {},
   "source": [
    "## Exercice 3 (7 points): Pierre-feuille-ciseau"
   ]
  },
  {
   "cell_type": "code",
   "execution_count": null,
   "id": "e15e1d32-c04d-46f2-8d31-48cd89675631",
   "metadata": {},
   "outputs": [],
   "source": [
    "import random\n",
    "\n",
    "\n",
    "# Design.\n",
    "print(\"\\n ------------------------ Exercice 3 --------------------------- \\n \\n \")\n",
    "print(\"----------------- !! PIERRE - PAPIER - CISEEAU !! ----------------------- \\n\\n\")\n",
    "\n",
    "\n",
    "# Fonction permettant de choisir un mot aleatoire dans la liste des trois mots.\n",
    "def choix_aleatoire():\n",
    "\tliste_des_mots = [\"Pierre\" , \"Feuille\" , \"Ciseau\"]\n",
    "\t# je recuperes toutes les lignes du fichier, je choisis une de ces lignes aleatoirement et je l'affiche.\n",
    "\treturn random.choice(liste_des_mots)\n",
    "\n",
    "def score(entier):\n",
    "\tscore_du_joueur = 0\n",
    "\tchoix_du_systeme = choix_aleatoire()\n",
    "\tif entier == 1 :\n",
    "\t\tif choix_du_systeme == \"Feuille\":\n",
    "\t\t\tscore_du_joueur = 1\n",
    "\telif entier == 2 :\n",
    "\t\tif choix_du_systeme == \"Pierre\":\n",
    "\t\t\tscore_du_joueur = 1\n",
    "\telif entier == 3 : \n",
    "\t\tif choix_du_systeme == \"Ciseau\":\n",
    "\t\t\tscore_du_joueur = 1\n",
    "\treturn score_du_joueur\n",
    "\n",
    "# Menu principal\n",
    "# J'initialise choice à 1 pour pouvoir etrer dans la boucle au moins une fois.\n",
    "choice = \"1\"\n",
    "score_j = 0\n",
    "# Boucle permettant de jouer autant de fois.\n",
    "while(choice == \"1\"):\n",
    "\tprint(\" Choisissez un mot parmi les 03 suivants et tentez de gagner...\")\n",
    "\tprint(\"    1. Ciseau. \")\n",
    "\tprint(\"    2. Feuille. \")\n",
    "\tprint(\"    3. Pierre. \")\n",
    "\tprint(\"\\n Entrez votre choix : \")\n",
    "\tchoix_du_joueur = input(\"  >> \")\n",
    "\twhile(choix_du_joueur != '1' and choix_du_joueur != '2' and choix_du_joueur != '3'):\n",
    "\t\tprint(\" \\n Choisissez soit le 1, le 2 ou le 3. \")\n",
    "\t\tchoix_du_joueur = input(\"  >> \")\n",
    "\tchoix_du_joueur = int(choix_du_joueur)\t\t\n",
    "\tscore_j = score(choix_du_joueur) + score_j\n",
    "\tprint(\". . . .  .. .. ..  ... ... .... ................ fin du tour.\")\n",
    "\tprint(\"\\n Voulez-vous rejouer ?? \\n\")\n",
    "\tprint(\"    1. Oui. \")\n",
    "\tprint(\"    2. Non. \")\n",
    "\tchoice = input(\" \\n   >> \")\n",
    "if score_j > 1:\n",
    "\tprint(\" Votre score est de {} points \\n\".format(score_j))\n",
    "else : \n",
    "\tprint(\" Votre score est de {} point \\n\".format(score_j))\n",
    "\n",
    "print(\"  ---------------- FIN DU PROGRAMME !! ---------------------\")\n",
    "\n",
    " # Fin du programme."
   ]
  },
  {
   "cell_type": "markdown",
   "id": "41026062-09ce-4f7f-94f2-645a76226121",
   "metadata": {},
   "source": [
    "### Appreciation Exercice 3"
   ]
  },
  {
   "cell_type": "code",
   "execution_count": null,
   "id": "c66e1d37-f1f2-4f2f-8c47-fe64b1132db2",
   "metadata": {},
   "outputs": [],
   "source": [
    "f = float(input(\"Note du Fonctionnement (Sur 4pts)\"))\n",
    "q = float(input(\"Note sur la qualité du code (sur 1pt)\"))\n",
    "examinator_appreciation = float(input('Appréciation de l\\'examinateur (sur 2pts)'))\n",
    "print(f'Note : {f + q + examinator_appreciation}')"
   ]
  },
  {
   "cell_type": "markdown",
   "id": "7b222c34-7200-4ce9-836b-7e39f4ae57a0",
   "metadata": {},
   "source": [
    "## Exercice 4(8 points)"
   ]
  },
  {
   "cell_type": "code",
   "execution_count": null,
   "id": "1806e35b-3fe6-4b89-a2ce-da41b54edb8f",
   "metadata": {
    "tags": []
   },
   "outputs": [],
   "source": []
  },
  {
   "cell_type": "markdown",
   "id": "4acc4d1e-ec6b-4f44-88c1-872cce18f511",
   "metadata": {},
   "source": [
    "### Appreciation Exercice 4"
   ]
  },
  {
   "cell_type": "code",
   "execution_count": null,
   "id": "15944995-73e5-4f5a-bfd6-d3d930260297",
   "metadata": {},
   "outputs": [],
   "source": [
    "f = float(input(\"Note du Fonctionnement (Sur 5pts)\"))\n",
    "q = float(input(\"Note sur la qualité du code (sur 1pt)\"))\n",
    "examinator_appreciation = float(input('Appréciation de l\\'examinateur (sur 2pts)'))\n",
    "print(f'Note : {f + q + examinator_appreciation}')"
   ]
  },
  {
   "cell_type": "markdown",
   "id": "4e6662f8-341f-4dd3-b3a5-2a0939a5da49",
   "metadata": {},
   "source": [
    "## Exercice 5 (40 points): Jeu du pendu "
   ]
  },
  {
   "cell_type": "code",
   "execution_count": null,
   "id": "73ff0ec1-6809-4ff0-8d9e-3ec1b4fd4356",
   "metadata": {},
   "outputs": [],
   "source": [
    "import random\n",
    "\n",
    "\n",
    "# Design.\n",
    "print(\"\\n ------------------------ Exercice 4 --------------------------- \")\n",
    "print(\" ------------------------  Partie 2 ---------------------------- \\n\\n\")\n",
    "print(\"----------------------- !! JEU DU PENDU !! ------------------------- \\n\\n\")\n",
    "\n",
    "\n",
    "\n",
    "\n",
    "# Partie 1 : choisir un mot aleatoire dans la liste du dictionnaire SOWPODS.\n",
    "def choix_aleatoire():\n",
    "    # J'ouvre le fichier\n",
    "\twith open(\"sowpods.txt\",\"r\") as f:\n",
    "\t\t# je recuperes toutes les lignes du fichier, je choisis une de ces lignes aleatoirement et je l'affiche.\n",
    "\t\treturn random.choice(f.readlines())\n",
    "\n",
    "# Partie 2 : le joueur doit deviner le mot.\n",
    "def deviner_le_mot():\n",
    "\t# Je stocke le mot choisI dans la chaine mot_choisi.\n",
    "\tmot_choisi = choix_aleatoire() \n",
    "\t# Compteur permettant de parcourir mot_choisi.\n",
    "\ti = 1\n",
    "\t# J'initialise la chaine qui va me permettre de compter le nombre d'espaces du mot choisi.\n",
    "\tmot_non_deviné = \"\"\n",
    "\t# Parcours me permettat de connaitre la taille du mot choisi.\n",
    "\twhile(i<len(mot_choisi)):\n",
    "\t\tmot_non_deviné = mot_non_deviné + \"-\"\n",
    "\t\ti = i+1\n",
    "\n",
    "\t# Ici le joueur commence à jouer. J'initialise mot_Deja_deviné à mot_non_deviné car le joueur n'a pa sencre trouvé une lettre juste:\t\n",
    "\tmot_deja_deviné = mot_non_deviné\n",
    "\tprint(\"Mot masqué : {}\".format(mot_deja_deviné))\n",
    "\t# Liste des lettres minuscules de l'alphabet.\n",
    "\tlettres_minuscules = ['a','b','c','d','e','f','g','h','i','j','k','l','m','n','o','p','q','r','s','t','u','v','w','x','y','z']\n",
    "\tliste_des_lettres_incorrectes = []\n",
    "\tliste_des_lettres_autres_fois_correctes = []\n",
    "\t# Boucle dans la quelle le joueur va chercher à trouver le mot.\n",
    "\twhile(\"-\" in mot_deja_deviné):\n",
    "\t\t#Je recupere la lettre entree par le joueur et je fais les tests\n",
    "\t\tlettre_choisie_par_le_joueur = input(\"\\n Devinez une lettre : \")\n",
    "\t\t# je previens le joueur que les lettres sont majuscules.\n",
    "\t\twhile(lettre_choisie_par_le_joueur in lettres_minuscules):\n",
    "\t\t\tprint(\" Toutes les lettres du mot sont en majuscules.\")\n",
    "\t\t\t#Je recupere encore la lettre entree par le joueur et je fais les tests\n",
    "\t\t\tlettre_choisie_par_le_joueur = input(\"\\n Entrez une lettre majuscule : \")\n",
    "\t\t# Test me permettant d'afficher un message different à l'utilisateur\n",
    "\t\tif(lettre_choisie_par_le_joueur in liste_des_lettres_incorrectes):\n",
    "\t\t\tif(lettre_choisie_par_le_joueur in liste_des_lettres_autres_fois_correctes):\n",
    "\t\t\t\tprint(\" Vous avez deja entré cette lettre. \\n Il n'existe plus d'occurence.\")\n",
    "\t\t\t\tcontinue\n",
    "\t\t\telse:\n",
    "\t\t\t\tprint(\" Cette lettre ne fait pas partie du mot. \\n Evitez d'entrer cette lettre pour maximiser vos chances.\")\n",
    "\t\t\t\tcontinue\n",
    "\t\t# Si la lettre n'appartient pas au mot choisi.\n",
    "\t\tif(lettre_choisie_par_le_joueur not in mot_choisi):\n",
    "\t\t\tprint(\" Incorrect ! \")\n",
    "\t\t\t# je stocke les valeurs entrees par le joueur pour gerer les redondances.\n",
    "\t\t\tliste_des_lettres_incorrectes.append(lettre_choisie_par_le_joueur)\n",
    "\t\t# Si la lettre appartient je la localise dans le mot.\n",
    "\t\telse:\n",
    "\t\t\t# je stocke les valeurs entrees par le joueur pour gerer les redondances.\n",
    "\t\t\tliste_des_lettres_autres_fois_correctes.append(lettre_choisie_par_le_joueur)\n",
    "\t\t\t# Je convertis la chaine contenant le mot choisi en liste pour pouvoir facilement manipuler\n",
    "\t\t\tmot_choisi = list(mot_choisi)\n",
    "\t\t\t# je recupere l'indice de la lettre entree par le joueur.\n",
    "\t\t\tindex_de_la_lettre_entree = mot_choisi.index(lettre_choisie_par_le_joueur)\n",
    "\t\t\t# Je remplace la lettre deja trouvee par un caractere autre que celui qu'on peut trouver dans ces mots pour pouvoir gerer la redondance certaines lettres.\n",
    "\t\t\tmot_choisi[index_de_la_lettre_entree] = '*'\n",
    "\t\t\t# je met la lettre entree par le joueur dans sa bonne position dans la chaine mot_deja_deviné en utilisant une liste car je ne peux pas directement modifier la chaine de caractere.\n",
    "\t\t\t# Je convertis d'abord la chaine mot_deja_deviné en liste pour pouvoir la modifier\n",
    "\t\t\tmot_deja_deviné = list(mot_deja_deviné)\n",
    "\t\t\t# je modifie la liste c'est a dire ke remplace le tiret par la lettre trouvee par le joueur.\n",
    "\t\t\tmot_deja_deviné[index_de_la_lettre_entree] = lettre_choisie_par_le_joueur\n",
    "\t\t\t# j'initialise la chaine dans la quelle je vais copier toute la liste apres\n",
    "\t\t\tchaine_tempo = \"\"\n",
    "\t\t\t# je parcours la liste pour pouvoir la copier dans une chaine.\n",
    "\t\t\tfor i in mot_deja_deviné: \n",
    "\t\t\t\tchaine_tempo = chaine_tempo + i\n",
    "\t\t\t# je reconvertis la liste en chaine\n",
    "\t\t\tmot_deja_deviné = str(mot_deja_deviné)\n",
    "\t\t\t# je recopie maintenant les valeurs de la liste dans la  chaine. et la j'obtiens la chaine que j'avais au depart mais modifiee.\n",
    "\t\t\tmot_deja_deviné = chaine_tempo\n",
    "\t\t\t# J'affiche le mot deja deviné au joueur au fur et à mesure.\n",
    "\t\t\tprint(\" \",mot_deja_deviné)\n",
    "\t# Je felicite le joueur.\n",
    "\tprint(\" Bravo !! Vous avez trouvé le mot.\")\n",
    "\n",
    "deviner_le_mot()"
   ]
  },
  {
   "cell_type": "code",
   "execution_count": null,
   "id": "eefd1449-2696-4fc7-8799-b0dfa29db8f7",
   "metadata": {},
   "outputs": [],
   "source": [
    "import random\n",
    "\n",
    "\n",
    "# Design.\n",
    "print(\"\\n ------------------------ Exercice 4 --------------------------- \")\n",
    "print(\" ------------------------  Partie 3 ---------------------------- \\n\\n\")\n",
    "print(\"----------------------- !! JEU DU PENDU !! ------------------------- \\n\\n\")\n",
    "\n",
    "\n",
    "# Fonction permettant de choisir un mot aleatoire dans la liste du dictionnaire SOWPODS.\n",
    "def choix_aleatoire():\n",
    "    # J'ouvre le fichier\n",
    "\twith open(\"sowpods.txt\",\"r\") as f:\n",
    "\t\t# je recuperes toutes les lignes du fichier, je choisis une de ces lignes aleatoirement et je l'affiche.\n",
    "\t\treturn random.choice(f.readlines())\n",
    "\n",
    "#Fonction permettant de deviner le mot_choisi\n",
    "booleen = True\n",
    "def deviner_le_mot():\n",
    "\ttrouver = lambda mot, lettre: [i for i, car in enumerate(mot) if car==lettre]\n",
    "\t# Je stocke le mot choisI dans la chaine mot_choisi.\n",
    "\tmot_choisi = choix_aleatoire() \n",
    "\t# Compteur permettant de parcourir mot_choisi.\n",
    "\ti = 1\n",
    "\t# J'initialise la chaine qui va me permettre de compter le nombre d'espaces du mot choisi.\n",
    "\tmot_non_deviné = \"\"\n",
    "\t# Parcours me permettat de connaitre la taille du mot choisi.\n",
    "\twhile(i<len(mot_choisi)):\n",
    "\t\tmot_non_deviné = mot_non_deviné + \"-\"\n",
    "\t\ti = i+1\n",
    "\t# Ici le joueur commence à jouer. J'initialise mot_Deja_deviné à mot_non_deviné car le joueur n'a pa sencre trouvé une lettre juste:\t\n",
    "\tmot_deja_deviné = mot_non_deviné\n",
    "\tprint(\" \\n Mot masqué : {}\".format(mot_deja_deviné))\n",
    "\t# Je declare les listes que je vais utiliser dans cette fonction\n",
    "\t# Liste contenant les lettres que le joueur va entrer mais qui ne font pas parti du mot choisi\n",
    "\tliste_des_lettres_incorrectes = []\n",
    "\t# Liste contenant les lettres qui appartiennent au mot à choisir  mais que le joueur a deja entré\n",
    "\tliste_des_lettres_autres_fois_correctes = []\n",
    "\t# Liste des lettres minuscules de l'alphabet.\n",
    "\tlettres_minuscules = ['a','b','c','d','e','f','g','h','i','j','k','l','m','n','o','p','q','r','s','t','u','v','w','x','y','z']\n",
    "\t# Boucle dans la quelle le joueur va chercher à trouver le mot.\n",
    "\tglobal booleen\n",
    "\tglobal verficateur1\n",
    "\twhile((\"-\" in mot_deja_deviné) and (booleen)):\n",
    "\t\t#Je recupere la lettre entree par le joueur et je fais les tests\n",
    "\t\tlettre_choisie_par_le_joueur = input(\"\\n Devinez une lettre : \")\n",
    "\t\t# je previens le joueur que les lettres sont majuscules.\n",
    "\t\twhile(lettre_choisie_par_le_joueur in lettres_minuscules):\n",
    "\t\t\tprint(\" Toutes les lettres du mot sont en majuscules.\")\n",
    "\t\t\t#Je recupere encore la lettre entree par le joueur et je fais les tests\n",
    "\t\t\tlettre_choisie_par_le_joueur = input(\"\\n Entrez une lettre majuscule : \")\n",
    "\t\t# Test me permettant d'afficher un message different à l'utilisateur\n",
    "\t\tif(lettre_choisie_par_le_joueur in liste_des_lettres_incorrectes):\n",
    "\t\t\tif(lettre_choisie_par_le_joueur in liste_des_lettres_autres_fois_correctes):\n",
    "\t\t\t\tverficateur1 = verficateur1 + 1\n",
    "\t\t\t\tif(verficateur1 == 6):\n",
    "\t\t\t\t\tbooleen = False\n",
    "\t\t\t\tprint(\" Vous avez deja entré cette lettre. \\n Il n'existe plus d'occurence de cette lettre.\")\n",
    "\t\t\t\tcontinue\n",
    "\t\t\telse:\n",
    "\t\t\t\tverficateur1 = verficateur1 + 1\n",
    "\t\t\t\tif(verficateur1 == 6):\n",
    "\t\t\t\t\tbooleen = False\n",
    "\t\t\t\tprint(\" Cette lettre ne fait pas partie du mot. \\n Evitez d'entrer cette lettre pour maximiser vos chances.\")\n",
    "\t\t\t\tcontinue\n",
    "\t\t# Si la lettre n'appartient pas au mot choisi.\n",
    "\t\tif(lettre_choisie_par_le_joueur not in mot_choisi):\n",
    "\t\t\t# je recommence à compter les echecs du joueur\n",
    "\t\t\tverficateur1 = verficateur1 + 1\n",
    "\t\t\tprint(\" Incorrect ! \")\n",
    "\t\t\t# je stocke les valeurs entrees par le joueur pour gerer les redondances.\n",
    "\t\t\tliste_des_lettres_incorrectes.append(lettre_choisie_par_le_joueur)\n",
    "\t\t# Si la lettre appartient je la localise dans le mot.\n",
    "\t\telse:\n",
    "\t\t\t# je reset la variable\n",
    "\t\t\tverficateur1 = 0\n",
    "\t\t\t# je stocke les valeurs entrees par le joueur pour gerer les redondances.\n",
    "\t\t\tliste_des_lettres_autres_fois_correctes.append(lettre_choisie_par_le_joueur)\n",
    "\t\t\t# je recupere l'indice de la lettre entree par le joueur.\n",
    "\t\t\tles_indexs = trouver(mot_choisi,lettre_choisie_par_le_joueur)\n",
    "\t\t\t# je convertis la chaine en liste pour pouvoir la modifier.\n",
    "\t\t\tmot_choisi = list(mot_choisi)\n",
    "\t\t\t# je modifie la liste c'est a dire je remplace toutes les occurences de la lettre entree par un caractere different de tout le reste.\n",
    "\t\t\tfor i in les_indexs:\n",
    "\t\t\t\tmot_choisi[i] = '*'\n",
    "\t\t\t# ensuite, je mets la lettre entree par le joueur dans sa bonne position dans la chaine mot_deja_deviné en utilisant une liste car je ne peux pas directement modifier la chaine de caractere.\n",
    "\t\t\t# Je convertis d'abord la chaine mot_deja_deviné en liste pour pouvoir la modifier\n",
    "\t\t\tmot_deja_deviné = list(mot_deja_deviné)\n",
    "\t\t\t# je modifie la liste c'est a dire je remplace le tiret par la lettre trouvee par le joueur dans toutes les occurences de la lettre.\n",
    "\t\t\tfor i in les_indexs:\n",
    "\t\t\t\tmot_deja_deviné[i] = lettre_choisie_par_le_joueur\n",
    "\t\t\t# j'initialise la chaine dans la quelle je vais copier toute la liste apres\n",
    "\t\t\tchaine_tempo = \"\"\n",
    "\t\t\t# je parcours la liste pour pouvoir la copier dans une chaine.\n",
    "\t\t\tfor j in mot_deja_deviné: \n",
    "\t\t\t\tchaine_tempo = chaine_tempo + j\n",
    "\t\t\t# je recopie maintenant les valeurs de la liste dans la  chaine. et la j'obtiens la chaine que j'avais au depart mais modifiee.\n",
    "\t\t\tmot_deja_deviné = chaine_tempo\n",
    "\t\t\t# J'affiche le mot deja deviné au joueur au fur et à mesure.\n",
    "\t\t\tprint(\" \",mot_deja_deviné)\n",
    "\t\t# Test me permettant d'arreter la boucle (si le joueur a deja 6 echecs successifs.)\n",
    "\t\tif(verficateur1 == 6):\n",
    "\t\t\tbooleen = False\n",
    "\t\tif verficateur1 == 3:\n",
    "\t\t\tprint(\" Soyez plus concentrés pour trouver les bonnes lettres. \\n  03 echecs succesifs ca fait pas serieux. \")\n",
    "\t# Je teste si le joueur a gagné ou pas\n",
    "\tif(verficateur1 == 6):\n",
    "\t\tprint(\" \\n -------------- Suite à vos nombreux échecs succesiifs, \\n        Vous avez perdu la partie :( \")\t\n",
    "\t\tprint(\" \\n Voulez-vous vanger ou quitter le jeu  ??\")\n",
    "\t\tprint(\"\\n  1. Vous venger. \\n  2. Quitter le jeu.\")\n",
    "\telse:\n",
    "\t\t# Je felicite le joueur.\n",
    "\t\tprint(\"\\n ---------------------- Bravo !! Vous avez trouvé le mot. :)  \")\n",
    "\t\tprint(\"\\n Voulez-vous lancer une nouvelle partie ou quitter le jeu ??\")\n",
    "\t\tprint(\"\\n  1. Lancer une nouvelle partie. \\n  2. Quitter le jeu.\")\n",
    "\n",
    "# Menu principal\n",
    "print(\" Bienvenue dans le JEU PENDU. \\n Il est question pour vous de deviner un mot en devinant progressivement ses lettres.\")\n",
    "print(\" Les mots sont tous en majuscules. \\n Soyez meticuleux pour gagner la partie. \\n Vous avez peu de chances.\")    \n",
    "print(\" !! Bonne chance !! \\n \")\n",
    "# J'initialise choice à \"1\" pour pouvoir etrer dans la boucle au moins une fois.\n",
    "choice = \"1\"\n",
    "# Boucle permettant de jouer autant de fois.\n",
    "while(choice == \"1\"):\n",
    "\t# Je reinitialise mes variables qui me permettent de compter le nombre d'essais du joueur.\n",
    "\tverficateur1 = 0\n",
    "\tbooleen = True\n",
    "\tprint(\"\\n     PARTIE LANCEE...... \\n\")\n",
    "\tdeviner_le_mot()\n",
    "\tchoice = input(\" \\n   >> \")\n",
    "print(\"  ---------------- FIN DU PROGRAMME !! ---------------------\")\n",
    "\n",
    " # Fin du programme."
   ]
  },
  {
   "cell_type": "markdown",
   "id": "dd15fd91-b257-443b-b963-38ca38399108",
   "metadata": {},
   "source": [
    "### Appreciation Exercice 5"
   ]
  },
  {
   "cell_type": "code",
   "execution_count": null,
   "id": "b26838d4-7ef3-4513-b7f3-02265edd9da4",
   "metadata": {},
   "outputs": [],
   "source": [
    "p1 = float(input('Note partie 1: 5pts'))\n",
    "p2 = float(input('Note partie 2: 10pts'))\n",
    "p3 = float(input('Note partie 3: 15pts'))\n",
    "l = float(input('Note de la lisibilité du code : 2pts'))\n",
    "s = float(input('Note de la simplicité du code : 2pts'))\n",
    "c = float(input('Note des commantaires et nommage: 2pts'))\n",
    "u = float(input('Note sur l\\'utilisation des structures de données: 4pts'))\n",
    "print(f'Note : {p1+p2+p3+l+s+c+u}')"
   ]
  },
  {
   "cell_type": "markdown",
   "id": "6dbc4ab7-09d1-467c-b1ae-92de9e304f67",
   "metadata": {},
   "source": [
    "## Exercice 6 (20 points):"
   ]
  },
  {
   "cell_type": "code",
   "execution_count": null,
   "id": "b5fbc5ec-8190-443d-a5de-963b2d0c9ad0",
   "metadata": {},
   "outputs": [],
   "source": []
  },
  {
   "cell_type": "markdown",
   "id": "79a7de40-9c8b-4314-8602-442cda4e9f4c",
   "metadata": {},
   "source": [
    "### Appreciation Exercice 6"
   ]
  },
  {
   "cell_type": "code",
   "execution_count": null,
   "id": "970fb14d-e847-4726-8e55-7be9156f6296",
   "metadata": {},
   "outputs": [],
   "source": [
    "p = float(input('Note sur le fonctionnemant : /15'))\n",
    "u = float(input('Note sur l\\'utilisation des compréhensions des listes : 5pts(s\\'il a utilisé il a 5 sinon 0)')) \n",
    "print(f'Note : {p + u}')"
   ]
  },
  {
   "cell_type": "markdown",
   "id": "e5510c21-cf02-495e-905b-5bd7c8573d71",
   "metadata": {},
   "source": [
    "## Exercice 7 (30 points):"
   ]
  },
  {
   "cell_type": "code",
   "execution_count": null,
   "id": "8507eb8d-94f3-4eb4-9521-edc54171faa5",
   "metadata": {},
   "outputs": [],
   "source": [
    "# Design.\n",
    "print(\"\\n ------------------------ Exercice 6 --------------------------- \\n\\n\")\n",
    "print(\"---------------- !! TRAITEMENT DES NUMEROS !! ------------------- \\n\\n\")\n",
    "\n",
    "# Fonction qui permet de traiter un numero (le mettre sous la forme de 8 chiffres) pour faciliter le tri \n",
    "def traitement(chaine):\n",
    "\tnumero_traité = []\n",
    "\tchaine_traitee = \"\"\n",
    "\t# je convertis d'abord le numero en liste\n",
    "\tchaine = list(chaine)\n",
    "\t# Je l'inverse pour stocker uniquement les  08 derniers chiffres\n",
    "\tliste_inverse = list(reversed(chaine))\n",
    "\t# Je stocke les 08 derniers chiffres dans une liste que je vais inverseer pour avoir le numero en lui meme.\n",
    "\tfor i in range(1,9):\n",
    "\t\tnumero_traité.append(liste_inverse[i])\n",
    "\t# Je remets les elements de la liste dans une chaine pour retourner une chaine.\n",
    "\tfor j in list(reversed(numero_traité)):\n",
    "\t\tchaine_traitee = chaine_traitee + j\n",
    "\t# Je retourne la chaine qui est le numero traité.\n",
    "\treturn chaine_traitee\n",
    "\n",
    "\t\n",
    "# Je cree mon decorateur qui prend en parameter la fonction trier()\n",
    "def mon_decorateur(fonction):\n",
    "\t# je cree donc la fonction qui est celle qui sera decoree.\n",
    "\tdef fonction_decoree():\n",
    "\t\t# J'initialise mes variables. cette liste contiendra tous les numeros standardisés.\n",
    "\t\tliste_de_numeros_standardisés = []\n",
    "\t\t# Variable qui va contenir un numero deja standardisé. c'est lui que je copie à chaque fois pour mettre dans le fichier liste_de_numeros_standardisés\n",
    "\t\tnumero_standardisé = \"\"\n",
    "\t\t# J'appelle la fonction pour la decore. \n",
    "\t\tliste_de_numeros = fonction()\n",
    "\t\t# Je parcours cette liste de numeros pour standardiser tous les numeros.\n",
    "\t\tfor num in liste_de_numeros:\n",
    "\t\t\tnumero_standardisé = \"+237 6\" + num\n",
    "\t\t\tliste_de_numeros_standardisés.append(numero_standardisé)\n",
    "\t\tfor numero_correct in liste_de_numeros_standardisés:\n",
    "\t\t\tprint(\"  \",numero_correct)\n",
    "\treturn fonction_decoree\n",
    "\n",
    "# J'appelle mon decorateur\n",
    "@mon_decorateur\n",
    "# Fonction trier qui prend la liste des numeros en paramètre et trie la liste.\n",
    "def trier():\n",
    "\t# Liste qui contiendra à la fin la lsite triee dans l'ordre croissant de tous les numeros du fichier.\n",
    "\tliste_de_numeros_traités = []\n",
    "\t# J'ouvre le fichier en lecture pour recuper les numeros.\n",
    "\twith open(\"data_exo_6.txt\",\"r\") as fic:\n",
    "\t\t# Je lis d'abord la premiere ligne du fichier car elle ne comporte pas un numero\n",
    "\t\tfic.readline()\n",
    "\t\t# Ensuite je stocke le reste des lignes (les numeros) dans le fichier liste_de_numeros\n",
    "\t\tliste_de_numeros = fic.readlines()\n",
    "\t\t# Ce parcours me permet de traiter tous les numeros c'est à dire les mettres sous la fome de 8 chiffes pour pouvoir les trier et avoir le rsultat escompté\n",
    "\t\tfor numero in liste_de_numeros:\n",
    "\t\t\tliste_de_numeros_traités.append(traitement(numero))\n",
    "\t#  Cette liste contient donc la liste des numeros, tous sous le format de 08 chiffres.\n",
    "\tliste_de_numeros_traités = sorted(liste_de_numeros_traités)\n",
    "\t# je retourne la liste des numeros tries.\n",
    "\treturn liste_de_numeros_traités\n",
    "\n",
    "#appel de la fonction.\n",
    "trier()"
   ]
  },
  {
   "cell_type": "markdown",
   "id": "8d5e5a51-8ae8-485f-8e9b-3bfb38bdb7d6",
   "metadata": {},
   "source": [
    "### Appreciation Exercice 7"
   ]
  },
  {
   "cell_type": "code",
   "execution_count": null,
   "id": "9fc21cff-bb3a-4157-925b-0c28528280d4",
   "metadata": {},
   "outputs": [],
   "source": [
    "f = float(input('Note sur fonctionnement : 20pts'))\n",
    "m = float(input('Modularité du code: 3pts'))\n",
    "c = float(input('Commentaires: 2pts'))\n",
    "a = float(input('Appréciation du jury: 5pts'))\n",
    "print(f'Note : {f + m + c + a}')"
   ]
  },
  {
   "cell_type": "markdown",
   "id": "be92e02e-81f8-495e-9606-1b54b408206f",
   "metadata": {},
   "source": [
    "## Exercice 8 (45 points):"
   ]
  },
  {
   "cell_type": "code",
   "execution_count": null,
   "id": "38213ecd-f8d9-4d6d-acf7-47ffe9f5b24f",
   "metadata": {},
   "outputs": [],
   "source": []
  },
  {
   "cell_type": "markdown",
   "id": "aeccda97-e125-4855-b519-8dcad1549292",
   "metadata": {},
   "source": [
    "### Appreciation Exercice 8"
   ]
  },
  {
   "cell_type": "code",
   "execution_count": null,
   "id": "6ac97894-ff4b-4abf-88d1-ed7fdd5c5520",
   "metadata": {},
   "outputs": [],
   "source": [
    "f = float(input('Fonctionnement : 28pts'))\n",
    "m = float(input('Modularité du code: 5pts')) \n",
    "c = float(input('Commentaires: 3 pts'))\n",
    "l = float(input('Lisibilité : 2pts'))\n",
    "s = float(input('Simplicité: 2pts'))\n",
    "a = float(input('Appréciation du jury: 5pts'))\n",
    "print(f'Note : {f + m + c + l + s + a}')"
   ]
  },
  {
   "cell_type": "markdown",
   "id": "0302a40e-cc98-486c-a451-0c3576ae1d06",
   "metadata": {},
   "source": [
    "## Exercice 9 (25 points): Chiffrement de César"
   ]
  },
  {
   "cell_type": "code",
   "execution_count": null,
   "id": "64deb123-bfd5-447d-be3a-fe5d6ea18764",
   "metadata": {},
   "outputs": [],
   "source": [
    "# Design.\n",
    "print(\"\\n ------------------------ Exercice 8 --------------------------- \\n\\n\")\n",
    "print(\"---------------- !! CHIFFREMENT DE CESAR !! ------------------- \\n\\n\")\n",
    "\n",
    "# fonction d'encodage qui prend le texte à encoder en paramètre.\n",
    "def encodage(chaine):\n",
    "\t# dictionaire contenant les codes de toutes les lettres majuscules et minuscules.\n",
    "\tdictionaire_encodage = {\"A\":\"X\",\"B\":\"Y\",\"C\":\"Z\",\"D\":\"A\",\"E\":\"B\",\"F\":\"C\",\"G\":\"D\",\"H\":\"E\",\"I\":\"F\",\"J\":\"G\",\"K\":\"H\",\"L\":\"I\",\"M\":\"J\",\"N\":\"K\",\"O\":\"L\",\"P\":\"M\",\"Q\":\"N\",\"R\":\"O\",\"S\":\"P\",\"T\":\"Q\",\"U\":\"R\",\"V\":\"S\",\"W\":\"T\",\"X\":\"U\",\"Y\":\"V\",\"Z\":\"W\",\"a\":\"x\",\"b\":\"y\",\"c\":\"z\",\"d\":\"a\",\"e\":\"b\",\"f\":\"c\",\"g\":\"d\",\"h\":\"e\",\"i\":\"f\",\"j\":\"g\",\"k\":\"h\",\"l\":\"i\",\"m\":\"j\",\"n\":\"k\",\"o\":\"l\",\"p\":\"m\",\"q\":\"n\",\"r\":\"o\",\"s\":\"p\",\"t\":\"q\",\"u\":\"r\",\"v\":\"s\",\"w\":\"t\",\"x\":\"u\",\"y\":\"v\",\"z\":\"w\"}\n",
    "\t# compteur me permettant de parcourir la chaine.\n",
    "\ti = 0 \n",
    "\t#parcours de la chaine.\n",
    "\twhile(i!=len(chaine)):\n",
    "\t\t#Comme l'espace n'a pas d'encodage different, si je tombe sur ca je ne le remplace pas.\n",
    "\t\tif chaine[i] == \" \":\n",
    "\t\t\tprint(\" \", end=\"\")\n",
    "\t\telse:\n",
    "\t\t#affichage de l'encodage de chacune des lettres de la chaine.\n",
    "\t\t\tprint(dictionaire_encodage[chaine[i]], end=\"\") \n",
    "\t\ti = i+1\n",
    "\n",
    "# fonction de decodage qui prend le texte à decoder en paramètre.\n",
    "def decodage(chaine):\n",
    "\t# dictionaire contenant les codes de toutes les lettres majuscules et minuscules.\n",
    "\tdictionaire_de_decodage = {\"X\":\"A\",\"Y\":\"B\",\"Z\":\"C\",\"A\":\"D\",\"B\":\"E\",\"C\":\"F\",\"D\":\"G\",\"E\":\"H\",\"F\":\"I\",\"G\":\"J\",\"H\":\"K\",\"I\":\"L\",\"J\":\"M\",\"K\":\"N\",\"L\":\"O\",\"M\":\"P\",\"N\":\"Q\",\"O\":\"R\",\"P\":\"S\",\"Q\":\"T\",\"R\":\"U\",\"S\":\"V\",\"T\":\"W\",\"U\":\"X\",\"V\":\"Y\",\"W\":\"Z\",\"x\":\"a\",\"y\":\"b\",\"z\":\"c\",\"a\":\"d\",\"b\":\"e\",\"c\":\"f\",\"d\":\"g\",\"e\":\"h\",\"f\":\"i\",\"g\":\"j\",\"h\":\"k\",\"i\":\"l\",\"j\":\"m\",\"k\":\"n\",\"l\":\"o\",\"m\":\"p\",\"n\":\"q\",\"o\":\"r\",\"p\":\"s\",\"q\":\"t\",\"r\":\"u\",\"s\":\"v\",\"t\":\"w\",\"u\":\"x\",\"v\":\"y\",\"w\":\"z\"}\n",
    "\t# compteur me permettant de parcourir la chaine.\n",
    "\ti = 0 \n",
    "\t#parcours de la chaine.\n",
    "\twhile(i!=len(chaine)):\n",
    "\t\t#Comme l'espace n'a pas de decodage different, si je tombe sur ca je ne le remplace pas.\n",
    "\t\tif chaine[i] == \" \":\n",
    "\t\t\tprint(\" \", end=\"\")\n",
    "\t\telse:\n",
    "\t\t#affichage de l'encodage de chacune des lettres de la chaine.\n",
    "\t\t\tprint(dictionaire_de_decodage[chaine[i]], end=\"\") \n",
    "\t\ti = i+1\n",
    "\n",
    "\n",
    "#Menu principal.\n",
    "# Boucles permettant de realiser plusieurs fois les operations.\n",
    "# J'initialise choix_2 à \"1\" pour entrer dans la boucle.\n",
    "choix_2 = '1' \n",
    "while(choix_2 == '1'): \n",
    "\t# je recupere le choix de l'utilisateur.\n",
    "\tchoix = input(\" 1. Encoder une phrase. \\n 2. Décoder une phrase. \\n \\n Que voulez-vous faire ?? \\n   >> \")\n",
    "\t# test de l'entree de l'utilisateur\n",
    "\tif(choix == '1'):\n",
    "\t\tchaine = input(\"Entrez la phrase à encoder. \\n   >> \")\n",
    "\t\tprint(\"L'encodage de {} est : \".format(chaine), end = \"\")\n",
    "\t\t# Appel de la fonction correspondante (encodage)\n",
    "\t\tencodage(chaine)\n",
    "\t\t# je recupere le choix de l'utilisateur.\n",
    "\t\tchoix_2 = input(\"\\n \\n Voulez-vous effectuer une autre operation ?? \\n 1. Oui \\n 2. Non \\n  >> \")\n",
    "\t# test de l'entree de l'utilisateur\t\n",
    "\telif(choix == '2'):\n",
    "\t\tchaine = input(\"Entrez la phrase à décoder. \\n   >> \")\n",
    "\t\tprint(\"Le Décodage de {} est : \".format(chaine), end = \"\")\n",
    "\t\t# Appel de la fonction correspondante (decodage)\n",
    "\t\tdecodage(chaine)\n",
    "\t\t# je recupere le choix de l'utilisateur.\n",
    "\t\tchoix_2 = input(\"\\n \\n Voulez-vous effectuer une autre operation ?? \\n \\n 1. Oui \\n 2. Non \\n  >> \")\n",
    "\telse:\n",
    "\t\t# je modifie la valeur de choix_2 pour ne plus entrer dans la boucle car le choix est deja indisponble.\n",
    "\t\tchoix_2 = '4'\n",
    "\n",
    "# test pour savoir si l'utilissateur est sorti du programme par erreur ou non.\n",
    "if choix_2 == '2':\n",
    "\tprint(\"------------------------------- Fin du programme. ----------------------------\")\n",
    "else:\n",
    "\tprint(\"Choix indisponible !!\")\n",
    "\n",
    "# Fin du programme "
   ]
  },
  {
   "cell_type": "markdown",
   "id": "367b3621-5f85-4a94-901b-9992180b8148",
   "metadata": {},
   "source": [
    "### Appreciation Exercice 9"
   ]
  },
  {
   "cell_type": "code",
   "execution_count": null,
   "id": "78fd2784-ce48-4677-bd72-7b46939e973b",
   "metadata": {},
   "outputs": [],
   "source": [
    "f = float(input('Fonctionnement : 15pts'))\n",
    "u = float(input('Utilisation d’une fonction encodage et une fonction décodage : 2pts')\n",
    "q = float(input('Qualité du code: 3pts'))\n",
    "a = float(input('Appréciation du jury: 5pts'))\n",
    "print(f'Note : {f + q + a + u}')"
   ]
  }
 ],
 "metadata": {
  "kernelspec": {
   "display_name": "Python 3",
   "language": "python",
   "name": "python3"
  },
  "language_info": {
   "codemirror_mode": {
    "name": "ipython",
    "version": 3
   },
   "file_extension": ".py",
   "mimetype": "text/x-python",
   "name": "python",
   "nbconvert_exporter": "python",
   "pygments_lexer": "ipython3",
   "version": "3.8.10"
  }
 },
 "nbformat": 4,
 "nbformat_minor": 5
}
