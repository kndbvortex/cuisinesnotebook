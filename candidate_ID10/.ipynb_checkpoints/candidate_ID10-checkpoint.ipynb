{
 "cells": [
  {
   "cell_type": "markdown",
   "id": "59e0d103-0441-44c4-926a-e86675f331a1",
   "metadata": {},
   "source": [
    "## Exercice 1(5 points): Culture générale "
   ]
  },
  {
   "cell_type": "markdown",
   "id": "d849dee4-bb38-4535-ba3b-6a6c283abad0",
   "metadata": {},
   "source": [
    "[lien vers le doc](https://github.com/st9-8/python-code-path-21/blob/main/cuisine_1/pypath_10/Execice_1.odt)"
   ]
  },
  {
   "cell_type": "markdown",
   "id": "3a022152-253a-43e5-a339-6c9568daffc6",
   "metadata": {},
   "source": [
    "### Appreciation Exercice 1"
   ]
  },
  {
   "cell_type": "code",
   "execution_count": 1,
   "id": "0f95d843-63b1-4272-ab1b-77118194be51",
   "metadata": {
    "collapsed": true,
    "jupyter": {
     "outputs_hidden": true
    },
    "tags": []
   },
   "outputs": [
    {
     "name": "stdin",
     "output_type": "stream",
     "text": [
      "Quelle note attriburiez-vous à cet exercice 23\n",
      "À combien notez-vous la qualité du code de cet exercice?  34\n",
      "À quel point ce code est-il efficient selon vous? 44\n"
     ]
    }
   ],
   "source": [
    "note = float(input(\"Quelle note attriburiez-vous à cet exercice\"))"
   ]
  },
  {
   "cell_type": "markdown",
   "id": "5adf1a03-498e-4d7d-9cbe-db31ab2c86f3",
   "metadata": {},
   "source": [
    "## Exercice 2 (7 points):"
   ]
  },
  {
   "cell_type": "markdown",
   "id": "3f541620-cfea-42d4-8f2e-00ab2b754fee",
   "metadata": {},
   "source": [
    "[lien vers le doc](https://github.com/st9-8/python-code-path-21/blob/main/cuisine_1/pypath_10/Exercice_2.odt)"
   ]
  },
  {
   "cell_type": "markdown",
   "id": "1441509a-a6c7-4b4f-a88c-b15aa116f4ea",
   "metadata": {},
   "source": [
    "### Appreciation Exercice 2"
   ]
  },
  {
   "cell_type": "code",
   "execution_count": null,
   "id": "68251fa1-3ae4-4c91-be3b-0faf196e067e",
   "metadata": {},
   "outputs": [],
   "source": [
    "note = float(input(\"Quelle note attriburiez-vous à cet exercice\"))"
   ]
  },
  {
   "cell_type": "markdown",
   "id": "d7f4aefd-959c-4e97-b1c2-fa2e8dc01c8f",
   "metadata": {},
   "source": [
    "## Exercice 3 (7 points): Pierre-feuille-ciseau"
   ]
  },
  {
   "cell_type": "code",
   "execution_count": null,
   "id": "e15e1d32-c04d-46f2-8d31-48cd89675631",
   "metadata": {},
   "outputs": [],
   "source": [
    "# -*-coding:Utf-8 -*\n",
    "from random import choice\n",
    "\n",
    "liste = ['pierre', 'feuille', 'ciseau'] #Liste des choix possible\n",
    "print(\"\\t\\tEXERCICE 3\\n\")\n",
    "c = 'oui'\n",
    "score = 0\n",
    "nb_tours = 0\n",
    "choix = str()\n",
    "while c.lower() == 'oui':\n",
    "    print(\"\\t--> Pierre\\n\\t--> Feuille\\n\\t--> Ciseau\\n\\n\\t***Bon choix: +1\\n\\t***Mauvaix choix: +0\") #zone de choix pour le joueur\n",
    "    \n",
    "    while (choix != 'pierre' and choix != 'feuille' and choix != 'ciseau'): #Condition permettant de sécuriser la saisie du joueur\n",
    "        choix = input(\"\\t>>> Faites votre choix: \")\n",
    "        choix = choix.lower()\n",
    "\n",
    "    rd = choice(liste)\n",
    "\n",
    "    if choix == rd:\n",
    "        print(\"\\n\\t*$*Vous avez gagné !*$*\")\n",
    "        score += 1\n",
    "    else:\n",
    "        print(\"Oups! vous avez perdu\")\n",
    "    \n",
    "    nb_tours += 1\n",
    "    print(\"\\n\\t>>> Voulez-vous jouer un tours de plus ?\\n\\t(oui \\ non)\")\n",
    "    c = input(\"\\t>>> \")\n",
    "    try:\n",
    "        c = c.lower()\n",
    "        assert c == 'oui' or c == 'non'\n",
    "    except AssertionError:\n",
    "        print(\"\\t>>> Erreur de saisie\")\n",
    "\n",
    "print(\"\\n\\t%PARTIE TERMINÉ%\\n\\t--> Score: \"+str(score)+\"\\n\\t--> Nombre de tour(s): \"+str(nb_tours)+\"\\n\\n\\t>>> A Bientôt!\")"
   ]
  },
  {
   "cell_type": "markdown",
   "id": "41026062-09ce-4f7f-94f2-645a76226121",
   "metadata": {},
   "source": [
    "### Appreciation Exercice 3"
   ]
  },
  {
   "cell_type": "code",
   "execution_count": null,
   "id": "c66e1d37-f1f2-4f2f-8c47-fe64b1132db2",
   "metadata": {},
   "outputs": [],
   "source": [
    "f = float(input(\"Note du Fonctionnement (Sur 4pts)\"))\n",
    "q = float(input(\"Note sur la qualité du code (sur 1pt)\"))\n",
    "examinator_appreciation = float(input('Appréciation de l\\'examinateur (sur 2pts)'))"
   ]
  },
  {
   "cell_type": "markdown",
   "id": "7b222c34-7200-4ce9-836b-7e39f4ae57a0",
   "metadata": {},
   "source": [
    "## Exercice 4(8 points)"
   ]
  },
  {
   "cell_type": "code",
   "execution_count": null,
   "id": "1806e35b-3fe6-4b89-a2ce-da41b54edb8f",
   "metadata": {
    "tags": []
   },
   "outputs": [],
   "source": []
  },
  {
   "cell_type": "markdown",
   "id": "4acc4d1e-ec6b-4f44-88c1-872cce18f511",
   "metadata": {},
   "source": [
    "### Appreciation Exercice 4"
   ]
  },
  {
   "cell_type": "code",
   "execution_count": null,
   "id": "15944995-73e5-4f5a-bfd6-d3d930260297",
   "metadata": {},
   "outputs": [],
   "source": [
    "f = float(input(\"Note du Fonctionnement (Sur 5pts)\"))\n",
    "q = float(input(\"Note sur la qualité du code (sur 1pt)\"))\n",
    "examinator_appreciation = float(input('Appréciation de l\\'examinateur (sur 2pts)'))"
   ]
  },
  {
   "cell_type": "markdown",
   "id": "4e6662f8-341f-4dd3-b3a5-2a0939a5da49",
   "metadata": {},
   "source": [
    "## Exercice 5 (40 points): Jeu du pendu "
   ]
  },
  {
   "cell_type": "code",
   "execution_count": null,
   "id": "e472fe74-b461-4113-95a7-90f9a1aaa8dc",
   "metadata": {
    "tags": []
   },
   "outputs": [],
   "source": [
    "# -*-coding:Utf-8 -*\n",
    "from random import choice\n",
    "\n",
    "def generer_mot():\n",
    "    file = open('/home/yvan/Bureau/seed/cuisines/sowpods.txt', \"r\")\n",
    "    # La variable \"liste_mots\" est une liste contenant toutes les lignes du fichier\n",
    "    liste_mots = file.readlines()\n",
    "    file.close()\n",
    "    choix = choice(liste_mots)\n",
    "    choix = list(choix)\n",
    "    choix.remove('\\n')\n",
    "    return \"\".join(choix)\n",
    "\n",
    "def play():\n",
    "    mot_cache = \"\"\n",
    "    trouve = False\n",
    "    lettres_trouvees = \"\"\n",
    "    mot = generer_mot()\n",
    "    print(mot)\n",
    "    for lettre in mot:\n",
    "        mot_cache = mot_cache + \"_ \"\n",
    "    \n",
    "    print(\"\\t*** BIENVENU DANS LE JEU DU PENDU ***\")\n",
    "    \n",
    "    while trouve is False:\n",
    "        print(\"\\n\\t>>> Mot à deviner : \"+ mot_cache)\n",
    "        lettre_devine = input(\"\\t>>> Devinez une lettre : \")[0:1].upper()\n",
    "\n",
    "        if lettre_devine in mot:\n",
    "            if lettre_devine not in lettres_trouvees:\n",
    "                lettres_trouvees = lettres_trouvees + lettre_devine\n",
    "                print(\"\\t-> Bien vu!\")\n",
    "            else:\n",
    "                print(\"\\t-> Attention!!! Lettre deja trouve!\")\n",
    "        else:\n",
    "            trouve = False\n",
    "            print(\"\\t-> Incorret\")\n",
    "        mot_cache = \"\"\n",
    "        for x in mot:\n",
    "            if x in lettres_trouvees:\n",
    "                mot_cache += x + \" \"\n",
    "            else:\n",
    "                mot_cache += \"_ \"\n",
    "\n",
    "        if \"_\" not in mot_cache:\n",
    "            print(\"\\t>>> *.* *.* *.* *.* *.* *.*\")\n",
    "            print(\"\\t>>> *.* *.* *.* *.* *.* *.*\")\n",
    "            print(\"\\t>>> *$*Mot trouvé: \"+mot_cache+\" *$* <<<\")\n",
    "            print(\"\\t>>> *$*Vous avez Gagné!*$* <<<\")\n",
    "            print(\"\\t>>> *.* *.* *.* *.* *.* *.*\")\n",
    "            print(\"\\t>>> *.* *.* *.* *.* *.* *.*\")\n",
    "            trouve = True\n",
    "     \n",
    "    print(\"\\n\\t    *** Fin de la partie ***    \")\n",
    "\n",
    "play()"
   ]
  },
  {
   "cell_type": "code",
   "execution_count": null,
   "id": "4745a587-1381-4999-add5-fb9030db787c",
   "metadata": {
    "tags": []
   },
   "outputs": [],
   "source": [
    "# -*-coding:Utf-8 -*\n",
    "from random import choice\n",
    "\n",
    "def generer_mot():\n",
    "    file = open('/home/yvan/Bureau/seed/cuisines/sowpods.txt', \"r\")\n",
    "    # La variable \"liste_mots\" est une liste contenant toutes les lignes du fichier\n",
    "    liste_mots = file.readlines()\n",
    "    file.close()\n",
    "    choix = choice(liste_mots)\n",
    "    choix = list(choix)\n",
    "    choix.remove('\\n')\n",
    "    return \"\".join(choix)\n",
    "\n",
    "def play():\n",
    "    mot_cache = \"\"\n",
    "    essai = 6\n",
    "    lettres_trouvees = \"\"\n",
    "    mot = generer_mot()\n",
    "    print(mot)\n",
    "    for lettre in mot:\n",
    "        mot_cache = mot_cache + \"_ \"\n",
    "    \n",
    "    print(\"\\t*** BIENVENU DANS LE JEU DU PENDU ***\")\n",
    "    \n",
    "    while essai > 0:\n",
    "        print(\"\\n\\t>>> Nombre d'essai possibles: \"+str(essai))\n",
    "        print(\"\\n\\t>>> Mot à deviner : \"+ mot_cache)\n",
    "        lettre_devine = input(\"\\t>>> Devinez une lettre : \")[0:1].upper()\n",
    "\n",
    "        if lettre_devine in mot:\n",
    "            if lettre_devine not in lettres_trouvees:\n",
    "                lettres_trouvees = lettres_trouvees + lettre_devine\n",
    "                print(\"\\t-> Bien vu!\")\n",
    "            else:\n",
    "                print(\"\\t-> Attention!!! Lettre deja trouve!\")\n",
    "        else:\n",
    "            essai = essai - 1\n",
    "            print(\"\\n\\t-> Incorret\\t -1 essai\")\n",
    "            if essai <= 6:\n",
    "                print(\"\\t ==========Y= \")\n",
    "            if essai <= 5:\n",
    "                print(\"\\t ||/       |  \")\n",
    "            if essai <= 4:\n",
    "                print(\"\\t ||        0  \")\n",
    "            if essai <= 3:\n",
    "                print(\"\\t ||       /|\\ \")\n",
    "            if essai <= 2:\n",
    "                print(\"\\t ||       / \\  \")\n",
    "            if essai <= 1:                    \n",
    "                print(\"\\t/||           \")\n",
    "            if essai <= 0:\n",
    "                print(\"\\t==============\\n\")\n",
    "                print(\"\\t>>> #-#Vous avez perdu#-# <<<\")\n",
    "\n",
    "\n",
    "        mot_cache = \"\"\n",
    "        for x in mot:\n",
    "            if x in lettres_trouvees:\n",
    "                mot_cache += x + \" \"\n",
    "            else:\n",
    "                mot_cache += \"_ \"\n",
    "\n",
    "        if \"_\" not in mot_cache:\n",
    "            print(\"\\t>>> *.* *.* *.* *.* *.* *.*\")\n",
    "            print(\"\\t>>> *.* *.* *.* *.* *.* *.*\")\n",
    "            print(\"\\t>>> *$*Mot trouvé: \"+mot_cache+\" *$* <<<\")\n",
    "            print(\"\\t>>> *$*Vous avez Gagné!*$* <<<\")\n",
    "            print(\"\\t>>> *.* *.* *.* *.* *.* *.*\")\n",
    "            print(\"\\t>>> *.* *.* *.* *.* *.* *.*\")\n",
    "\n",
    "            break\n",
    "     \n",
    "    print(\"\\n\\t    *** Fin de la partie ***    \")\n",
    "\n",
    "play()"
   ]
  },
  {
   "cell_type": "markdown",
   "id": "dd15fd91-b257-443b-b963-38ca38399108",
   "metadata": {},
   "source": [
    "### Appreciation Exercice 5"
   ]
  },
  {
   "cell_type": "code",
   "execution_count": null,
   "id": "b26838d4-7ef3-4513-b7f3-02265edd9da4",
   "metadata": {},
   "outputs": [],
   "source": [
    "p1 = float(input('Note partie 1: 5pts'))\n",
    "p2 = float(input('Note partie 2: 10pts'))\n",
    "p3 = float(input('Note partie 3: 15pts'))\n",
    "l = float(input('Note de la lisibilité du code : 2pts'))\n",
    "s = float(input('Note de la simplicité du code : 2pts'))\n",
    "c = float(input('Note des commantaires et nommage: 2pts'))\n",
    "u = float(input('Note sur l\\'utilisation des structures de données: 4pts'))"
   ]
  },
  {
   "cell_type": "markdown",
   "id": "6dbc4ab7-09d1-467c-b1ae-92de9e304f67",
   "metadata": {},
   "source": [
    "## Exercice 6 (20 points):"
   ]
  },
  {
   "cell_type": "code",
   "execution_count": null,
   "id": "b5fbc5ec-8190-443d-a5de-963b2d0c9ad0",
   "metadata": {},
   "outputs": [],
   "source": []
  },
  {
   "cell_type": "markdown",
   "id": "79a7de40-9c8b-4314-8602-442cda4e9f4c",
   "metadata": {},
   "source": [
    "### Appreciation Exercice 6"
   ]
  },
  {
   "cell_type": "code",
   "execution_count": null,
   "id": "970fb14d-e847-4726-8e55-7be9156f6296",
   "metadata": {},
   "outputs": [],
   "source": [
    "p = float(input('Note sur le fonctionnemant : /15'))\n",
    "u = float(input('Note sur l\\'utilisation des compréhensions des listes : 5pts(s\\'il a utilisé il a 5 sinon 0)')) "
   ]
  },
  {
   "cell_type": "markdown",
   "id": "e5510c21-cf02-495e-905b-5bd7c8573d71",
   "metadata": {},
   "source": [
    "## Exercice 7 (30 points):"
   ]
  },
  {
   "cell_type": "code",
   "execution_count": null,
   "id": "8507eb8d-94f3-4eb4-9521-edc54171faa5",
   "metadata": {},
   "outputs": [],
   "source": []
  },
  {
   "cell_type": "markdown",
   "id": "8d5e5a51-8ae8-485f-8e9b-3bfb38bdb7d6",
   "metadata": {},
   "source": [
    "### Appreciation Exercice 7"
   ]
  },
  {
   "cell_type": "code",
   "execution_count": null,
   "id": "9fc21cff-bb3a-4157-925b-0c28528280d4",
   "metadata": {},
   "outputs": [],
   "source": [
    "f = float(input('Note sur fonctionnement : 20pts'))\n",
    "m = float(input('Modularité du code: 3pts'))\n",
    "c = float(input('Commentaires: 2pts'))\n",
    "a = float(input('Appréciation du jury: 5pts'))"
   ]
  },
  {
   "cell_type": "markdown",
   "id": "be92e02e-81f8-495e-9606-1b54b408206f",
   "metadata": {},
   "source": [
    "## Exercice 8 (45 points):"
   ]
  },
  {
   "cell_type": "code",
   "execution_count": null,
   "id": "38213ecd-f8d9-4d6d-acf7-47ffe9f5b24f",
   "metadata": {},
   "outputs": [],
   "source": []
  },
  {
   "cell_type": "markdown",
   "id": "aeccda97-e125-4855-b519-8dcad1549292",
   "metadata": {},
   "source": [
    "### Appreciation Exercice 8"
   ]
  },
  {
   "cell_type": "code",
   "execution_count": null,
   "id": "6ac97894-ff4b-4abf-88d1-ed7fdd5c5520",
   "metadata": {},
   "outputs": [],
   "source": [
    "f = float(input('Fonctionnement : 28pts'))\n",
    "m = float(input('Modularité du code: 5pts')) \n",
    "c = float(input('Commentaires: 3 pts'))\n",
    "l = float(input('Lisibilité : 2pts'))\n",
    "s = float(input('Simplicité: 2pts'))\n",
    "a = float(input('Appréciation du jury: 5pts'))"
   ]
  },
  {
   "cell_type": "markdown",
   "id": "0302a40e-cc98-486c-a451-0c3576ae1d06",
   "metadata": {},
   "source": [
    "## Exercice 9 (25 points): Chiffrement de César"
   ]
  },
  {
   "cell_type": "code",
   "execution_count": null,
   "id": "64deb123-bfd5-447d-be3a-fe5d6ea18764",
   "metadata": {},
   "outputs": [],
   "source": [
    "# -*-coding:Utf-8 -*\n",
    "\n",
    "A_clair = ['A','B','C','D','E','F','G','H','I','J','K','L','M','N','O','P','Q','R','S','T','U','V','W','X','Y','Z']\n",
    "A_cypher = ['X','Y','Z','A','B','C','D','E','F','G','H','I','J','K','L','M','N','O','P','Q','R','S','T','U','V','W']\n",
    "\n",
    "def encodage():\n",
    "    texte_co = []\n",
    "    texte = (input(\"Votre phrase à encoder : \")).upper()\n",
    "    print(\"Texte en clair: \"+texte)\n",
    "\n",
    "    texte = texte.split()\n",
    "    for k, mot in enumerate(texte):\n",
    "        liste_mot = []\n",
    "        for i, lettre in enumerate(mot):\n",
    "            for j, elt in enumerate(A_clair):\n",
    "                if lettre == elt:\n",
    "                    liste_mot.append(A_clair[j-3])\n",
    "        texte_co.append(\"\".join(liste_mot))\n",
    "    texte_co = \" \".join(texte_co)\n",
    "\n",
    "    print(\"Texte chiffré: \"+texte_co)\n",
    "\n",
    "def decodage():\n",
    "    texte = []\n",
    "    texte_co = (input(\"Votre phrase à décoder : \")).upper()\n",
    "    print(\"Texte chiffré: \"+texte_co)\n",
    "\n",
    "    texte_co = texte_co.split()\n",
    "    for k, mot in enumerate(texte_co):\n",
    "        liste_mot = []\n",
    "        for i, lettre in enumerate(mot):\n",
    "            for j, elt in enumerate(A_cypher):\n",
    "                if lettre == elt:\n",
    "                    liste_mot.append(A_cypher[j-23])\n",
    "        texte.append(\"\".join(liste_mot))\n",
    "    texte = \" \".join(texte)\n",
    "\n",
    "    print(\"Texte en clair: \"+texte)\n",
    "\n",
    "print(\"\\t***CHIFFREMENT DE CÉSAR***\\n\\n\\t1. Encoder une expression\\n\\t2. Decoder une expression\\n\\t0. Quitter\")\n",
    "choix = -1\n",
    "while choix <= -1 or choix > 2:\n",
    "    try:\n",
    "        choix = int(input(\"\\n\\t>>> Que voulez-vous faire(1/2): \"))\n",
    "    except:\n",
    "        conso = -1\n",
    "        print(\"Vous n'avez pas saisi une consommation correct\")\n",
    "    if choix == 1:\n",
    "        encodage()\n",
    "    if choix == 2:\n",
    "        decodage()"
   ]
  },
  {
   "cell_type": "markdown",
   "id": "367b3621-5f85-4a94-901b-9992180b8148",
   "metadata": {},
   "source": [
    "### Appreciation Exercice 9"
   ]
  },
  {
   "cell_type": "code",
   "execution_count": null,
   "id": "78fd2784-ce48-4677-bd72-7b46939e973b",
   "metadata": {},
   "outputs": [],
   "source": [
    "f = float(input('Fonctionnement : 15pts'))\n",
    "u = float(input('Utilisation d’une fonction encodage et une fonction décodage : 2pts')\n",
    "q = float(input('Qualité du code: 3pts'))\n",
    "a = float(input('Appréciation du jury: 5pts'))\n",
    "          "
   ]
  }
 ],
 "metadata": {
  "kernelspec": {
   "display_name": "Python 3",
   "language": "python",
   "name": "python3"
  },
  "language_info": {
   "codemirror_mode": {
    "name": "ipython",
    "version": 3
   },
   "file_extension": ".py",
   "mimetype": "text/x-python",
   "name": "python",
   "nbconvert_exporter": "python",
   "pygments_lexer": "ipython3",
   "version": "3.8.10"
  }
 },
 "nbformat": 4,
 "nbformat_minor": 5
}
