{
 "cells": [
  {
   "cell_type": "markdown",
   "id": "59e0d103-0441-44c4-926a-e86675f331a1",
   "metadata": {},
   "source": [
    "## Exercice 1(5 points): Culture générale "
   ]
  },
  {
   "cell_type": "markdown",
   "id": "5c7c7e43-1093-4535-8bdb-c80aab8cd34b",
   "metadata": {},
   "source": [
    "[lien vers le document](https://github.com/st9-8/python-code-path-21/blob/main/cuisine_1/pypath_7/exo1_2/Exo_1_2.pdf)"
   ]
  },
  {
   "cell_type": "markdown",
   "id": "3a022152-253a-43e5-a339-6c9568daffc6",
   "metadata": {},
   "source": [
    "### Appreciation Exercice 1"
   ]
  },
  {
   "cell_type": "code",
   "execution_count": 1,
   "id": "0f95d843-63b1-4272-ab1b-77118194be51",
   "metadata": {
    "collapsed": true,
    "jupyter": {
     "outputs_hidden": true
    },
    "tags": []
   },
   "outputs": [
    {
     "name": "stdin",
     "output_type": "stream",
     "text": [
      "Quelle note attriburiez-vous à cet exercice 23\n",
      "À combien notez-vous la qualité du code de cet exercice?  34\n",
      "À quel point ce code est-il efficient selon vous? 44\n"
     ]
    }
   ],
   "source": [
    "note = float(input(\"Quelle note attriburiez-vous à cet exercice\"))"
   ]
  },
  {
   "cell_type": "markdown",
   "id": "5adf1a03-498e-4d7d-9cbe-db31ab2c86f3",
   "metadata": {},
   "source": [
    "## Exercice 2 (7 points):"
   ]
  },
  {
   "cell_type": "markdown",
   "id": "3f541620-cfea-42d4-8f2e-00ab2b754fee",
   "metadata": {},
   "source": [
    "[lien vers le doc](https://github.com/st9-8/python-code-path-21/blob/main/cuisine_1/pypath_7/exo1_2/Exo_1_2.pdf)"
   ]
  },
  {
   "cell_type": "markdown",
   "id": "1441509a-a6c7-4b4f-a88c-b15aa116f4ea",
   "metadata": {},
   "source": [
    "### Appreciation Exercice 2"
   ]
  },
  {
   "cell_type": "code",
   "execution_count": null,
   "id": "68251fa1-3ae4-4c91-be3b-0faf196e067e",
   "metadata": {},
   "outputs": [],
   "source": [
    "note = float(input(\"Quelle note attriburiez-vous à cet exercice\"))"
   ]
  },
  {
   "cell_type": "markdown",
   "id": "d7f4aefd-959c-4e97-b1c2-fa2e8dc01c8f",
   "metadata": {},
   "source": [
    "## Exercice 3 (7 points): Pierre-feuille-ciseau"
   ]
  },
  {
   "cell_type": "code",
   "execution_count": null,
   "id": "e15e1d32-c04d-46f2-8d31-48cd89675631",
   "metadata": {
    "tags": []
   },
   "outputs": [],
   "source": [
    "from ast import Str\n",
    "import random\n",
    "nom = input(\"veuillew saisir votre nom\\n\")\n",
    "user_victoires = 0\n",
    "pc_victoires = 0\n",
    "nuls = 0\n",
    "kai = 0\n",
    "while True:\n",
    "    coupJoueur = input('entrez votre coup : (p)ierre , (f)euille , (c)iseaux ou (q)uitter:')\n",
    "    if coupJoueur == \"q\":\n",
    "        print(\"vous avez quitté le jeu\")\n",
    "        print(nom,\" : \" , user_victoires , \" nuls : \" , nuls , \" Pc : \" , pc_victoires)\n",
    "        break\n",
    "    if coupJoueur != \"p\" and coupJoueur != \"f\" and coupJoueur != \"c\":\n",
    "        continue\n",
    "    if coupJoueur == \"p\":\n",
    "        kai = 1\n",
    "        print(\"Pierre contre ....\" , end = \" \")\n",
    "    elif coupJoueur == \"f\":\n",
    "        kai = 2\n",
    "        print(\"Feuille contre ....\" , end = \" \")\n",
    "    else:\n",
    "        kai = 3\n",
    "        print(\"Ciseaux contre ... \" , end = \" \")\n",
    "    coupPC = random.randint(1,3)\n",
    "    if coupPC == 1:\n",
    "        print(\"PIERRE\")\n",
    "    elif coupPC == 2:\n",
    "        print(\"Feuille\")\n",
    "    else:\n",
    "        coupPC == 3\n",
    "        print(\"Ciseaux\")\n",
    "\n",
    "    if kai == coupPC:\n",
    "        print(\"Match nul\")\n",
    "        nuls += 1\n",
    "    elif kai == 1 and coupPC == 3:\n",
    "        print(\"Vous remportez la partie\")\n",
    "        user_victoires +=1\n",
    "    elif kai == 2 and coupPC == 1:\n",
    "        print(\"Vous remportez la partie\")\n",
    "        user_victoires +=1\n",
    "    elif kai == 3 and coupPC == 2:\n",
    "        print(\"Vous remportez la partie\")\n",
    "        user_victoires +=1\n",
    "    elif kai == 1 and coupPC == 2:\n",
    "        print(\"Vous perdez la partie\")\n",
    "        pc_victoires +=1\n",
    "    elif kai == 2 and coupPC == 3:\n",
    "        print(\"Vous perdez la partie\")\n",
    "        pc_victoires +=1\n",
    "    elif coupJoueur == \"c\" and coupPC == \"p\":\n",
    "        print(\"Vous perdez la partie\")\n",
    "        pc_victoires +=1\n"
   ]
  },
  {
   "cell_type": "markdown",
   "id": "41026062-09ce-4f7f-94f2-645a76226121",
   "metadata": {},
   "source": [
    "### Appreciation Exercice 3"
   ]
  },
  {
   "cell_type": "code",
   "execution_count": null,
   "id": "c66e1d37-f1f2-4f2f-8c47-fe64b1132db2",
   "metadata": {},
   "outputs": [],
   "source": [
    "f = float(input(\"Note du Fonctionnement (Sur 4pts)\"))\n",
    "q = float(input(\"Note sur la qualité du code (sur 1pt)\"))\n",
    "examinator_appreciation = float(input('Appréciation de l\\'examinateur (sur 2pts)'))\n",
    "print(f'Note : {f + q + examinator_appreciation}')"
   ]
  },
  {
   "cell_type": "markdown",
   "id": "7b222c34-7200-4ce9-836b-7e39f4ae57a0",
   "metadata": {},
   "source": [
    "## Exercice 4(8 points)"
   ]
  },
  {
   "cell_type": "code",
   "execution_count": null,
   "id": "1806e35b-3fe6-4b89-a2ce-da41b54edb8f",
   "metadata": {
    "tags": []
   },
   "outputs": [],
   "source": [
    "import  random\n",
    "\n",
    "with open('sowpods.txt') as f:\n",
    "    words = list(f)\n",
    "print(random.choice(words).strip())"
   ]
  },
  {
   "cell_type": "markdown",
   "id": "4acc4d1e-ec6b-4f44-88c1-872cce18f511",
   "metadata": {},
   "source": [
    "### Appreciation Exercice 4"
   ]
  },
  {
   "cell_type": "code",
   "execution_count": null,
   "id": "15944995-73e5-4f5a-bfd6-d3d930260297",
   "metadata": {},
   "outputs": [],
   "source": [
    "f = float(input(\"Note du Fonctionnement (Sur 5pts)\"))\n",
    "q = float(input(\"Note sur la qualité du code (sur 1pt)\"))\n",
    "examinator_appreciation = float(input('Appréciation de l\\'examinateur (sur 2pts)'))\n",
    "print(f'Note : {f + q + examinator_appreciation}')"
   ]
  },
  {
   "cell_type": "markdown",
   "id": "4e6662f8-341f-4dd3-b3a5-2a0939a5da49",
   "metadata": {},
   "source": [
    "## Exercice 5 (40 points): Jeu du pendu "
   ]
  },
  {
   "cell_type": "code",
   "execution_count": null,
   "id": "e472fe74-b461-4113-95a7-90f9a1aaa8dc",
   "metadata": {},
   "outputs": [],
   "source": []
  },
  {
   "cell_type": "markdown",
   "id": "dd15fd91-b257-443b-b963-38ca38399108",
   "metadata": {},
   "source": [
    "### Appreciation Exercice 5"
   ]
  },
  {
   "cell_type": "code",
   "execution_count": null,
   "id": "b26838d4-7ef3-4513-b7f3-02265edd9da4",
   "metadata": {},
   "outputs": [],
   "source": [
    "p1 = float(input('Note partie 1: 5pts'))\n",
    "p2 = float(input('Note partie 2: 10pts'))\n",
    "p3 = float(input('Note partie 3: 15pts'))\n",
    "l = float(input('Note de la lisibilité du code : 2pts'))\n",
    "s = float(input('Note de la simplicité du code : 2pts'))\n",
    "c = float(input('Note des commantaires et nommage: 2pts'))\n",
    "u = float(input('Note sur l\\'utilisation des structures de données: 4pts'))\n",
    "print(f'Note : {p1+p2+p3+l+s+c+u}')"
   ]
  },
  {
   "cell_type": "markdown",
   "id": "6dbc4ab7-09d1-467c-b1ae-92de9e304f67",
   "metadata": {},
   "source": [
    "## Exercice 6 (20 points):"
   ]
  },
  {
   "cell_type": "code",
   "execution_count": null,
   "id": "b5fbc5ec-8190-443d-a5de-963b2d0c9ad0",
   "metadata": {},
   "outputs": [],
   "source": [
    "X = int(input(\"entrez la valeur de x\\n\"))\n",
    "Y = int(input(\"entrez la valeur de y\\n\"))\n",
    "Z = int(input(\"entrez la valeur de z\\n\"))\n",
    "N = int(input(\"entrez la valeur de n\\n\"))\n",
    "ans = [[i,j,k] for i in range(X+1) for j in range(Y+1) for k in range(Z+1) if i+j+k !=N]\n",
    "print(ans)"
   ]
  },
  {
   "cell_type": "markdown",
   "id": "79a7de40-9c8b-4314-8602-442cda4e9f4c",
   "metadata": {},
   "source": [
    "### Appreciation Exercice 6"
   ]
  },
  {
   "cell_type": "code",
   "execution_count": null,
   "id": "970fb14d-e847-4726-8e55-7be9156f6296",
   "metadata": {},
   "outputs": [],
   "source": [
    "p = float(input('Note sur le fonctionnemant : /15'))\n",
    "u = float(input('Note sur l\\'utilisation des compréhensions des listes : 5pts(s\\'il a utilisé il a 5 sinon 0)')) \n",
    "print(f'Note : {p + u}')"
   ]
  },
  {
   "cell_type": "markdown",
   "id": "e5510c21-cf02-495e-905b-5bd7c8573d71",
   "metadata": {},
   "source": [
    "## Exercice 7 (30 points):"
   ]
  },
  {
   "cell_type": "code",
   "execution_count": null,
   "id": "8507eb8d-94f3-4eb4-9521-edc54171faa5",
   "metadata": {},
   "outputs": [],
   "source": [
    "num_list = []\n",
    "n = input(\"combien de numeros voulez vous saisir\\n\")\n",
    "try:\n",
    "    n = int(n)\n",
    "except ValueError:\n",
    "    false\n",
    "for index in range(n):\n",
    "    numero = input(\"veuillez saisir un numero\\n\")\n",
    "    try:\n",
    "        numero = int(numero)\n",
    "    except ValueError:\n",
    "        false\n",
    "    if len(str(numero)) == 8:\n",
    "        num_list.append(\"+2376\"+ str(numero))\n",
    "    elif len(str(numero)) == 9 :\n",
    "        num_list.append(\"+237\"+ str(numero))\n",
    "    elif len(str(numero)) == 12:\n",
    "        num_list.append(\"+\"+ str(numero))\n",
    "    else:\n",
    "        print(\"veuillez saisir un numero correct\")\n",
    "        break\n",
    "ordre = sorted(num_list)\n",
    "with open(\"fic_numero.txt\", \"w\") as f:\n",
    "    for index in ordre:\n",
    "        sorted(ordre)\n",
    "        f.write(\"%s\\n\" % index)\n",
    "    f.close()"
   ]
  },
  {
   "cell_type": "markdown",
   "id": "8d5e5a51-8ae8-485f-8e9b-3bfb38bdb7d6",
   "metadata": {},
   "source": [
    "### Appreciation Exercice 7"
   ]
  },
  {
   "cell_type": "code",
   "execution_count": null,
   "id": "9fc21cff-bb3a-4157-925b-0c28528280d4",
   "metadata": {},
   "outputs": [],
   "source": [
    "f = float(input('Note sur fonctionnement : 20pts'))\n",
    "m = float(input('Modularité du code: 3pts'))\n",
    "c = float(input('Commentaires: 2pts'))\n",
    "a = float(input('Appréciation du jury: 5pts'))\n",
    "print(f'Note : {f + m + c + a}')"
   ]
  },
  {
   "cell_type": "markdown",
   "id": "be92e02e-81f8-495e-9606-1b54b408206f",
   "metadata": {},
   "source": [
    "## Exercice 8 (45 points):"
   ]
  },
  {
   "cell_type": "code",
   "execution_count": 1,
   "id": "38213ecd-f8d9-4d6d-acf7-47ffe9f5b24f",
   "metadata": {},
   "outputs": [
    {
     "ename": "FileNotFoundError",
     "evalue": "[Errno 2] No such file or directory: 'data_exo_7.txt'",
     "output_type": "error",
     "traceback": [
      "\u001b[0;31m---------------------------------------------------------------------------\u001b[0m",
      "\u001b[0;31mFileNotFoundError\u001b[0m                         Traceback (most recent call last)",
      "\u001b[0;32m<ipython-input-1-77b3f524c895>\u001b[0m in \u001b[0;36m<module>\u001b[0;34m\u001b[0m\n\u001b[1;32m     68\u001b[0m \u001b[0;31m# On recupere l'entête de notre fichier puis on traite\u001b[0m\u001b[0;34m\u001b[0m\u001b[0;34m\u001b[0m\u001b[0;34m\u001b[0m\u001b[0m\n\u001b[1;32m     69\u001b[0m \u001b[0;34m\u001b[0m\u001b[0m\n\u001b[0;32m---> 70\u001b[0;31m \u001b[0;32mwith\u001b[0m \u001b[0mopen\u001b[0m\u001b[0;34m(\u001b[0m\u001b[0;34m'data_exo_7.txt'\u001b[0m\u001b[0;34m,\u001b[0m\u001b[0;34m'r'\u001b[0m\u001b[0;34m)\u001b[0m \u001b[0;32mas\u001b[0m \u001b[0mfile\u001b[0m\u001b[0;34m:\u001b[0m\u001b[0;34m\u001b[0m\u001b[0;34m\u001b[0m\u001b[0m\n\u001b[0m\u001b[1;32m     71\u001b[0m     \u001b[0mlines\u001b[0m \u001b[0;34m=\u001b[0m \u001b[0mfile\u001b[0m\u001b[0;34m.\u001b[0m\u001b[0mreadline\u001b[0m\u001b[0;34m(\u001b[0m\u001b[0;34m)\u001b[0m\u001b[0;34m.\u001b[0m\u001b[0mrstrip\u001b[0m\u001b[0;34m(\u001b[0m\u001b[0;34m)\u001b[0m         \u001b[0;31m# on lit la premier ligne en supprimant le séparateur de ligne\u001b[0m\u001b[0;34m\u001b[0m\u001b[0;34m\u001b[0m\u001b[0m\n\u001b[1;32m     72\u001b[0m     \u001b[0mline\u001b[0m \u001b[0;34m=\u001b[0m \u001b[0mlines\u001b[0m\u001b[0;34m.\u001b[0m\u001b[0msplit\u001b[0m\u001b[0;34m(\u001b[0m\u001b[0;34m'\\t'\u001b[0m\u001b[0;34m)\u001b[0m                 \u001b[0;31m# on supprime le séparateur de colonne on obtient une liste\u001b[0m\u001b[0;34m\u001b[0m\u001b[0;34m\u001b[0m\u001b[0m\n",
      "\u001b[0;31mFileNotFoundError\u001b[0m: [Errno 2] No such file or directory: 'data_exo_7.txt'"
     ]
    }
   ],
   "source": []
  },
  {
   "cell_type": "markdown",
   "id": "aeccda97-e125-4855-b519-8dcad1549292",
   "metadata": {},
   "source": [
    "### Appreciation Exercice 8"
   ]
  },
  {
   "cell_type": "code",
   "execution_count": null,
   "id": "6ac97894-ff4b-4abf-88d1-ed7fdd5c5520",
   "metadata": {},
   "outputs": [],
   "source": [
    "f = float(input('Fonctionnement : 28pts'))\n",
    "m = float(input('Modularité du code: 5pts')) \n",
    "c = float(input('Commentaires: 3 pts'))\n",
    "l = float(input('Lisibilité : 2pts'))\n",
    "s = float(input('Simplicité: 2pts'))\n",
    "a = float(input('Appréciation du jury: 5pts'))\n",
    "print(f'Note : {f + m + c + l + s + a}')"
   ]
  },
  {
   "cell_type": "markdown",
   "id": "0302a40e-cc98-486c-a451-0c3576ae1d06",
   "metadata": {},
   "source": [
    "## Exercice 9 (25 points): Chiffrement de César"
   ]
  },
  {
   "cell_type": "code",
   "execution_count": null,
   "id": "64deb123-bfd5-447d-be3a-fe5d6ea18764",
   "metadata": {},
   "outputs": [],
   "source": []
  },
  {
   "cell_type": "markdown",
   "id": "367b3621-5f85-4a94-901b-9992180b8148",
   "metadata": {},
   "source": [
    "### Appreciation Exercice 9"
   ]
  },
  {
   "cell_type": "code",
   "execution_count": null,
   "id": "78fd2784-ce48-4677-bd72-7b46939e973b",
   "metadata": {},
   "outputs": [],
   "source": [
    "f = float(input('Fonctionnement : 15pts'))\n",
    "u = float(input('Utilisation d’une fonction encodage et une fonction décodage : 2pts')\n",
    "q = float(input('Qualité du code: 3pts'))\n",
    "a = float(input('Appréciation du jury: 5pts'))\n",
    "print(f'Note : {f + q + a + u}')"
   ]
  },
  {
   "cell_type": "markdown",
   "id": "184e9123-0282-44bf-8c65-4f0465c49a5f",
   "metadata": {},
   "source": [
    "# Remarques et conseils Pour l'amélioration de l'apprenant"
   ]
  },
  {
   "cell_type": "markdown",
   "id": "194715c2-a0a0-490f-8faf-ec03fcd2ec13",
   "metadata": {},
   "source": []
  }
 ],
 "metadata": {
  "kernelspec": {
   "display_name": "Python 3",
   "language": "python",
   "name": "python3"
  },
  "language_info": {
   "codemirror_mode": {
    "name": "ipython",
    "version": 3
   },
   "file_extension": ".py",
   "mimetype": "text/x-python",
   "name": "python",
   "nbconvert_exporter": "python",
   "pygments_lexer": "ipython3",
   "version": "3.8.10"
  }
 },
 "nbformat": 4,
 "nbformat_minor": 5
}
