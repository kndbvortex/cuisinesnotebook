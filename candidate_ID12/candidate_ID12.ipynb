{
 "cells": [
  {
   "cell_type": "markdown",
   "id": "59e0d103-0441-44c4-926a-e86675f331a1",
   "metadata": {},
   "source": [
    "## Exercice 1(5 points): Culture générale "
   ]
  },
  {
   "cell_type": "markdown",
   "id": "3bda2675-da45-494e-923a-4d2c204dbdca",
   "metadata": {},
   "source": [
    "[Lien vers le doc](https://github.com/st9-8/python-code-path-21/blob/main/cuisine_1/pypath_12/exercice_1/Exercice%201.docx)"
   ]
  },
  {
   "cell_type": "markdown",
   "id": "3a022152-253a-43e5-a339-6c9568daffc6",
   "metadata": {},
   "source": [
    "### Appreciation Exercice 1"
   ]
  },
  {
   "cell_type": "code",
   "execution_count": 1,
   "id": "0f95d843-63b1-4272-ab1b-77118194be51",
   "metadata": {
    "collapsed": true,
    "jupyter": {
     "outputs_hidden": true
    },
    "tags": []
   },
   "outputs": [
    {
     "name": "stdin",
     "output_type": "stream",
     "text": [
      "Quelle note attriburiez-vous à cet exercice 23\n",
      "À combien notez-vous la qualité du code de cet exercice?  34\n",
      "À quel point ce code est-il efficient selon vous? 44\n"
     ]
    }
   ],
   "source": [
    "note = float(input(\"Quelle note attriburiez-vous à cet exercice\"))"
   ]
  },
  {
   "cell_type": "markdown",
   "id": "5adf1a03-498e-4d7d-9cbe-db31ab2c86f3",
   "metadata": {},
   "source": [
    "## Exercice 2 (7 points):"
   ]
  },
  {
   "cell_type": "markdown",
   "id": "3f541620-cfea-42d4-8f2e-00ab2b754fee",
   "metadata": {},
   "source": [
    "[lien vers le doc](https://github.com/st9-8/python-code-path-21/blob/main/cuisine_1/pypath_12/exercice_2/exo_2.docx)"
   ]
  },
  {
   "cell_type": "markdown",
   "id": "1441509a-a6c7-4b4f-a88c-b15aa116f4ea",
   "metadata": {},
   "source": [
    "### Appreciation Exercice 2"
   ]
  },
  {
   "cell_type": "code",
   "execution_count": null,
   "id": "68251fa1-3ae4-4c91-be3b-0faf196e067e",
   "metadata": {},
   "outputs": [],
   "source": [
    "note = float(input(\"Quelle note attriburiez-vous à cet exercice\"))"
   ]
  },
  {
   "cell_type": "markdown",
   "id": "d7f4aefd-959c-4e97-b1c2-fa2e8dc01c8f",
   "metadata": {},
   "source": [
    "## Exercice 3 (7 points): Pierre-feuille-ciseau"
   ]
  },
  {
   "cell_type": "code",
   "execution_count": null,
   "id": "e15e1d32-c04d-46f2-8d31-48cd89675631",
   "metadata": {},
   "outputs": [],
   "source": [
    "#importation des bibliotheques\n",
    "import numpy\n",
    "import random\n",
    "import colorama\n",
    "\n",
    "#...........la fonction qui definie le jeu\n",
    "def jouer():\n",
    "    ordi=random.randint(1,3);\n",
    "    print(\"\\n Le choix de l'ordinateur est: \",ordi)\n",
    "\n",
    "    choix=input('\\n Faites un choix: ')\n",
    "    if choix=='1':\n",
    "        if ordi==1:\n",
    "            print('\\n EGALITÉ')\n",
    "        elif ordi==2:\n",
    "            print('\\n PERDU!!! Votre score est de: ',score)\n",
    "        elif ordi==3:\n",
    "            print('\\n La Pierre bat le Ciseau')\n",
    "            print('\\n FELICITATIOOOONS!!! votre score est de:',score+5,'POINTS')\n",
    "\n",
    "    elif choix=='2':\n",
    "        if ordi==1:\n",
    "            print('\\n La Feuille bat la Pierre')\n",
    "            print('\\n FELICITATIOOOONS!!! votre score est de:',score+5,'POINTS')\n",
    "        elif ordi==2:\n",
    "            print('\\n EGALITÉ')         \n",
    "        elif ordi==3:\n",
    "            print('\\n PERDU!!! Votre score est de: ',score)\n",
    "\n",
    "    elif choix=='3':\n",
    "        if ordi==1:\n",
    "            print('\\n PERDU!!! Votre score est de: ',score)\n",
    "        elif ordi==2:\n",
    "            print('\\n Le ciseau bat la Pierre')\n",
    "            print('\\n FELICITATIOOOONS!!! votre score est de:',score+5,'POINTS')\n",
    "        elif ordi==3:\n",
    "            print('\\n EGALITE')     \n",
    "\n",
    "    else:\n",
    "         print('\\n Entrer de bonnes valeurs')\n",
    "\n",
    "       \n",
    "#...........Programme principale\n",
    "menu={}\n",
    "menu['1']= 'Pierre'\n",
    "menu['2']= 'Feuille'\n",
    "menu['3']= 'Ciseau'\n",
    "\n",
    "score=0\n",
    "print('***** MENU: *****',menu)\n",
    "\n",
    "   #..........Appel de la fonction de jeu\n",
    "while True:\n",
    "     jouer()\n",
    "\n",
    "   #.........l'utilisateur peut choisir de continuer le jeu ou arreter le jeu\n",
    "     decision={}\n",
    "     decision['1']='OUI'\n",
    "     decision['2']='NON'\n",
    "\n",
    "     print('***** voulez vous continuer le jeu? *****',decision)\n",
    "\n",
    "     reponse=input('\\n Quel est votre choix? ')\n",
    "     if reponse=='1':\n",
    "       jouer()\n",
    "     elif reponse=='2':\n",
    "       exit()\n",
    "     else:\n",
    "         print('Faites un choix correct')\n",
    "         exit()"
   ]
  },
  {
   "cell_type": "markdown",
   "id": "41026062-09ce-4f7f-94f2-645a76226121",
   "metadata": {},
   "source": [
    "### Appreciation Exercice 3"
   ]
  },
  {
   "cell_type": "code",
   "execution_count": null,
   "id": "c66e1d37-f1f2-4f2f-8c47-fe64b1132db2",
   "metadata": {},
   "outputs": [],
   "source": [
    "f = float(input(\"Note du Fonctionnement (Sur 4pts)\"))\n",
    "q = float(input(\"Note sur la qualité du code (sur 1pt)\"))\n",
    "examinator_appreciation = float(input('Appréciation de l\\'examinateur (sur 2pts)'))\n",
    "print(f'Note : {f + q + examinator_appreciation}')"
   ]
  },
  {
   "cell_type": "markdown",
   "id": "7b222c34-7200-4ce9-836b-7e39f4ae57a0",
   "metadata": {},
   "source": [
    "## Exercice 4(8 points)"
   ]
  },
  {
   "cell_type": "code",
   "execution_count": null,
   "id": "1806e35b-3fe6-4b89-a2ce-da41b54edb8f",
   "metadata": {
    "tags": []
   },
   "outputs": [],
   "source": []
  },
  {
   "cell_type": "markdown",
   "id": "4acc4d1e-ec6b-4f44-88c1-872cce18f511",
   "metadata": {},
   "source": [
    "### Appreciation Exercice 4"
   ]
  },
  {
   "cell_type": "code",
   "execution_count": null,
   "id": "15944995-73e5-4f5a-bfd6-d3d930260297",
   "metadata": {},
   "outputs": [],
   "source": [
    "f = float(input(\"Note du Fonctionnement (Sur 5pts)\"))\n",
    "q = float(input(\"Note sur la qualité du code (sur 1pt)\"))\n",
    "examinator_appreciation = float(input('Appréciation de l\\'examinateur (sur 2pts)'))\n",
    "print(f'Note : {f + q + examinator_appreciation}')"
   ]
  },
  {
   "cell_type": "markdown",
   "id": "4e6662f8-341f-4dd3-b3a5-2a0939a5da49",
   "metadata": {},
   "source": [
    "## Exercice 5 (40 points): Jeu du pendu "
   ]
  },
  {
   "cell_type": "code",
   "execution_count": null,
   "id": "e472fe74-b461-4113-95a7-90f9a1aaa8dc",
   "metadata": {},
   "outputs": [],
   "source": [
    "def choixmot() :                       #fonction chargée de choisir un mot aléatoirement\n",
    "    f=open('sowpods.txt','r')               #on ouvre le dictionnaire pour le lire       \n",
    "    line= random.randrange(0,336531)     #le dico est composée de lignes qui corresponde chacun à un mot donc line est la ligne du mot choisie aléatoirement   \n",
    "    for n in range (0,line):             #pour n de 0 jusqu'à la ligne du mot\n",
    "        motchoisi=f.readline().replace('\\n','') #lire le mot choisi     \n",
    "    f.close()                            # on ferme le dico\n",
    "    return motchoisi                           #on retourne le mot choisi"
   ]
  },
  {
   "cell_type": "code",
   "execution_count": null,
   "id": "aa131402-70db-4743-85cf-8d76c481aaf1",
   "metadata": {},
   "outputs": [],
   "source": [
    "def motmasqué(motchoisi) :            \n",
    "    rep = \"\"                         \n",
    "    lettres = []               \n",
    "\n",
    "   if rep.upper()!=motchoisi.upper():\n",
    "        rep = \"\" \n",
    "        L=input('------> Devinez votre lettre (en minuscule): ') #l'utilisateur doit entrer une lettre a tester\n",
    "        lettres.append(L)                       #on ajoute cette lettre aux autres lettres deja testé\n",
    "        print('\\n Vous avez entré: '+L)              #on affiche la lettre \n",
    "            \n",
    "        while len(L)!=1:                        #on verifie que l'utilisateur a vraiment entrer une lettre\n",
    "            L=input('SVP Entrer une SEULE lettre: ')#on affiche un message d'erreur  \n",
    "            lettres.append(L)\n",
    "            for L in motchoisi:\n",
    "                if L in lettres :                   #on verifie si la lettre entré est deja dans laliste deja presente\n",
    "                    rep = rep + L.upper()  \n",
    "                elif L=='-':                        #on verifie si la lettre entré est dans le mot masqué \n",
    "                    rep=rep + L.upper()           #on ajoute à la réponse affiché la lettre correcte \n",
    "                else :                              \n",
    "                    rep = rep + \"_ \"           #sinon on laisse la lettre masqué \n",
    "            print(\"Les lettres déja proposées sont:\",lettres)\n",
    "            \n",
    "    elif rep.upper()==motchoisi.upper():\n",
    "            print(\"Vous avez deviné le mot\",\"\\'\",motchoisi.upper(),\"\\'\",\"!\") #on dit a l'utilisateur qu'il a deviné le mot"
   ]
  },
  {
   "cell_type": "code",
   "execution_count": null,
   "id": "d5dc494b-3459-4e83-a2ee-7f5b02f7e94c",
   "metadata": {
    "tags": []
   },
   "outputs": [],
   "source": [
    "import numpy\n",
    "import random\n",
    "\n",
    "\n",
    "#-----------------fonction qui definit le choix du mot dans un dictionnaire\n",
    "def choixmot() :                       \n",
    "    f=open('sowpods.txt','r')                   \n",
    "    line= random.randrange(0,267000)      \n",
    "    for n in range (0,line):             \n",
    "        motchoisi=f.readline().replace('\\n','')   \n",
    "    f.close()                            \n",
    "    return motchoisi                           \n",
    "\n",
    "#---------------------fonction pour le mot masqué et le nombre de vies\n",
    "def motmasqué(motchoisi) :            \n",
    "    rep = \"\"                         \n",
    "    lettres = []               #une variable liste\n",
    "    essais = 6                #on defini ici le nombre d'essais\n",
    "\n",
    "    while rep.upper()!=motchoisi.upper():\n",
    "        if essais!=0 :\n",
    "            rep = \"\" \n",
    "            L=input('------> Devinez votre lettre (en minuscule): ') #l'utilisateur doit entrer une lettre a tester\n",
    "            lettres.append(L)                       #on ajoute cette lettre aux autres lettres deja testé\n",
    "            print('\\n Vous avez entré: '+L)              #on affiche la lettre \n",
    "            essais=nombre_vies(motchoisi,L,essais )                 \n",
    "            X=str(essais)                             #on converti le nombre d'essais en str\n",
    "            while len(L)!=1:                        #on verifie que le joueur n'a pas entré plusieurs lettres\n",
    "                L=input('SVP Entrer une SEULE lettre: ')  #sinon affiche un message d'erreur  \n",
    "                lettres.append(L)                            \n",
    "            for L in motchoisi:                                \n",
    "                if L in lettres :                   #on verifie si la lettre entré est deja dans la liste deja presente\n",
    "                    rep = rep + L.upper()  \n",
    "                elif L=='-':                        #on verifie si la lettre entré est dans le mot masqué \n",
    "                    rep=rep + L.upper()           #on ajoute à la réponse affiché la lettre correcte \n",
    "                else :                              \n",
    "                    rep = rep + \"_ \"           #sinon on laisse la lettre masqué \n",
    "            print(\"Les lettres déja proposées sont:\",lettres)        \n",
    "            print(rep)                          #on affiche le mot \n",
    "            print('Il vous reste '+X+' essais\\n') #on affiche le nombre d'essais qui reste\n",
    "\n",
    "        elif essais==0:                #si le mot n'est pas correct et que le nombre d'erreur est 0\n",
    "            print(\"Perdu le mot à trouver était\",\"\\'\", motchoisi.upper(),\"\\'\") #on affiche le bon mot et on dit a l'utilisateur qu'il n'a pas deviné le mot\n",
    "            pendu_final = r\"\"\"\n",
    "        --------------\n",
    "            |        |\n",
    "            |        |\n",
    "            |       / \\\n",
    "            |       \\_/\n",
    "            |      __|__\n",
    "            |        |\n",
    "            |        |\n",
    "            |       / \\\n",
    "           /|\\     /   \\\n",
    "          / | \\\n",
    "         /  |  \\\n",
    "         ~~~~~~~~~~~~~~~~~~~~~\n",
    "         ~~~~~~~~~~~~~~~~~~~~~\n",
    "         ~~~~~~~~~~~~~~~~~~~~~\n",
    "                         \"\"\"\n",
    "\n",
    "            print(pendu_final)\n",
    "            revenir()\n",
    "    if rep.upper()==motchoisi.upper():\n",
    "        if essais!=0 : #si le mot est correct et que le nombre d'erreur n'est pas 0\n",
    "            print(\"Vous avez deviné le mot\",\"\\'\",motchoisi.upper(),\"\\'\",\"!\") #on dit a l'utilisateur qu'il a deviné le mot\n",
    "            print(' _  _    .  _ . _ _  _  _ _ .  _      ') \n",
    "            print('|_ |_ |  | |  |  |  |_|  |  | | | |\\ |')\n",
    "            print('|  |_ |_ | |_ |  |  | |  |  | |_| | \\|')\n",
    "            print('\\n')\n",
    "            revenir()\n",
    "        \n",
    "       \n",
    "#-----------------------------fonction pour definir le nombre d'essais\n",
    "def nombre_vies(motchoisi,L,essais) :                  \n",
    "    if L in motchoisi :        #si la lettre proposé est dans le mot demandé alors le nombre d'essais reste le meme \n",
    "        essais=essais                        #le nombre de vies ne change pas \n",
    "    elif len(L)!=1:                      #si plusieurs lettres sont entréespar le joueur\n",
    "        essais=essais                                     \n",
    "    else :\n",
    "        essais=essais-1                       #si l'utilisateur entre une lettre incorrecte le nombre d'essais diminue de 1\n",
    "    return essais                          #on retourne le nombre d'essais \n",
    "\n",
    "#--------------------fonction pour recommencer un nouveau tour\n",
    "def revenir():\n",
    "    menu2= r\"\"\"\n",
    "    1 = CONTINUER \n",
    "    2 = QUITTER\n",
    "              \"\"\"\n",
    "\n",
    "    print('SUITE: \\n',menu2)\n",
    "    recommencer=input(\"\\n ---------> Entrer une lettre pour recommencer: \") #on propose de rejouer\n",
    "    if recommencer ==str(1):                              \n",
    "        motchoisi=choixmot()                        #on appelle les fonctions du jeu\n",
    "        motmasqué(motchoisi)\n",
    "    elif recommencer ==str(2):\n",
    "        exit()\n",
    "    else:\n",
    "        print('\\n Choix invalide')\n",
    "        exit()\n",
    "\n",
    "    \n",
    "#-------------------------------programme principal\n",
    "        \n",
    "print('******BIENVENUE DANS LE JEU DU PENDU******')\n",
    "print('--------------------------------------------')\n",
    "print('\\n')\n",
    "nom = input(\"--------> Veuillez entrer le nom de joueur: \")        #le joueur entre son nom\n",
    "print (\"Salut, \" + nom, \"!!!!!!!!!!!!!!!!\")  \n",
    "print (\"\\n\")\n",
    "print ('\\n ++ Des mots sont tirés au sort parmi une base de donnée.')      #on enumere les principes du jeu\n",
    "print ('\\n ++ les lettres sont remplacées par des tirets.')\n",
    "print(\"\\n ++ Le but du jeu est d'essayer de retrouver le mot.\")\n",
    "print(\"\\n ++ Vous devez saisir vos réponses lettres par lettre ou avec l'intégralité du mot.\")\n",
    "print(\"\\n ++ Les majuscules et les caractères spéciaux (accents,...) sont volontairement omis pour plus de facilité.\\n\")\n",
    "\n",
    "#-----------------------le menu pour debuter le jeu\n",
    "menu1 = r\"\"\"\n",
    "1 = JOUER \n",
    "2 = QUITTER\n",
    "         \"\"\"\n",
    "\n",
    "print('MENU: \\n',menu1)\n",
    "choix=input('\\n--------------> Entrer votre choix: ')\n",
    "if choix==str(1):\n",
    "    motchoisi=choixmot()                        #on appelle les fonctions du jeu\n",
    "    motmasqué(motchoisi)\n",
    "elif choix==str(2):\n",
    "    exit()\n",
    "else:\n",
    "    print('\\n Faites un choix valide')"
   ]
  },
  {
   "cell_type": "markdown",
   "id": "dd15fd91-b257-443b-b963-38ca38399108",
   "metadata": {},
   "source": [
    "### Appreciation Exercice 5"
   ]
  },
  {
   "cell_type": "code",
   "execution_count": null,
   "id": "b26838d4-7ef3-4513-b7f3-02265edd9da4",
   "metadata": {},
   "outputs": [],
   "source": [
    "p1 = float(input('Note partie 1: 5pts'))\n",
    "p2 = float(input('Note partie 2: 10pts'))\n",
    "p3 = float(input('Note partie 3: 15pts'))\n",
    "l = float(input('Note de la lisibilité du code : 2pts'))\n",
    "s = float(input('Note de la simplicité du code : 2pts'))\n",
    "c = float(input('Note des commantaires et nommage: 2pts'))\n",
    "u = float(input('Note sur l\\'utilisation des structures de données: 4pts'))\n",
    "print(f'Note : {p1+p2+p3+l+s+c+u}')"
   ]
  },
  {
   "cell_type": "markdown",
   "id": "6dbc4ab7-09d1-467c-b1ae-92de9e304f67",
   "metadata": {},
   "source": [
    "## Exercice 6 (20 points):"
   ]
  },
  {
   "cell_type": "code",
   "execution_count": null,
   "id": "b5fbc5ec-8190-443d-a5de-963b2d0c9ad0",
   "metadata": {},
   "outputs": [],
   "source": []
  },
  {
   "cell_type": "markdown",
   "id": "79a7de40-9c8b-4314-8602-442cda4e9f4c",
   "metadata": {},
   "source": [
    "### Appreciation Exercice 6"
   ]
  },
  {
   "cell_type": "code",
   "execution_count": null,
   "id": "970fb14d-e847-4726-8e55-7be9156f6296",
   "metadata": {},
   "outputs": [],
   "source": [
    "p = float(input('Note sur le fonctionnemant : /15'))\n",
    "u = float(input('Note sur l\\'utilisation des compréhensions des listes : 5pts(s\\'il a utilisé il a 5 sinon 0)')) \n",
    "print(f'Note : {p + u}')"
   ]
  },
  {
   "cell_type": "markdown",
   "id": "e5510c21-cf02-495e-905b-5bd7c8573d71",
   "metadata": {},
   "source": [
    "## Exercice 7 (30 points):"
   ]
  },
  {
   "cell_type": "code",
   "execution_count": null,
   "id": "8507eb8d-94f3-4eb4-9521-edc54171faa5",
   "metadata": {},
   "outputs": [],
   "source": []
  },
  {
   "cell_type": "markdown",
   "id": "8d5e5a51-8ae8-485f-8e9b-3bfb38bdb7d6",
   "metadata": {},
   "source": [
    "### Appreciation Exercice 7"
   ]
  },
  {
   "cell_type": "code",
   "execution_count": null,
   "id": "9fc21cff-bb3a-4157-925b-0c28528280d4",
   "metadata": {},
   "outputs": [],
   "source": [
    "f = float(input('Note sur fonctionnement : 20pts'))\n",
    "m = float(input('Modularité du code: 3pts'))\n",
    "c = float(input('Commentaires: 2pts'))\n",
    "a = float(input('Appréciation du jury: 5pts'))\n",
    "print(f'Note : {f + m + c + a}')"
   ]
  },
  {
   "cell_type": "markdown",
   "id": "be92e02e-81f8-495e-9606-1b54b408206f",
   "metadata": {},
   "source": [
    "## Exercice 8 (45 points):"
   ]
  },
  {
   "cell_type": "code",
   "execution_count": 1,
   "id": "38213ecd-f8d9-4d6d-acf7-47ffe9f5b24f",
   "metadata": {},
   "outputs": [
    {
     "ename": "FileNotFoundError",
     "evalue": "[Errno 2] No such file or directory: 'data_exo_7.txt'",
     "output_type": "error",
     "traceback": [
      "\u001b[0;31m---------------------------------------------------------------------------\u001b[0m",
      "\u001b[0;31mFileNotFoundError\u001b[0m                         Traceback (most recent call last)",
      "\u001b[0;32m<ipython-input-1-77b3f524c895>\u001b[0m in \u001b[0;36m<module>\u001b[0;34m\u001b[0m\n\u001b[1;32m     68\u001b[0m \u001b[0;31m# On recupere l'entête de notre fichier puis on traite\u001b[0m\u001b[0;34m\u001b[0m\u001b[0;34m\u001b[0m\u001b[0;34m\u001b[0m\u001b[0m\n\u001b[1;32m     69\u001b[0m \u001b[0;34m\u001b[0m\u001b[0m\n\u001b[0;32m---> 70\u001b[0;31m \u001b[0;32mwith\u001b[0m \u001b[0mopen\u001b[0m\u001b[0;34m(\u001b[0m\u001b[0;34m'data_exo_7.txt'\u001b[0m\u001b[0;34m,\u001b[0m\u001b[0;34m'r'\u001b[0m\u001b[0;34m)\u001b[0m \u001b[0;32mas\u001b[0m \u001b[0mfile\u001b[0m\u001b[0;34m:\u001b[0m\u001b[0;34m\u001b[0m\u001b[0;34m\u001b[0m\u001b[0m\n\u001b[0m\u001b[1;32m     71\u001b[0m     \u001b[0mlines\u001b[0m \u001b[0;34m=\u001b[0m \u001b[0mfile\u001b[0m\u001b[0;34m.\u001b[0m\u001b[0mreadline\u001b[0m\u001b[0;34m(\u001b[0m\u001b[0;34m)\u001b[0m\u001b[0;34m.\u001b[0m\u001b[0mrstrip\u001b[0m\u001b[0;34m(\u001b[0m\u001b[0;34m)\u001b[0m         \u001b[0;31m# on lit la premier ligne en supprimant le séparateur de ligne\u001b[0m\u001b[0;34m\u001b[0m\u001b[0;34m\u001b[0m\u001b[0m\n\u001b[1;32m     72\u001b[0m     \u001b[0mline\u001b[0m \u001b[0;34m=\u001b[0m \u001b[0mlines\u001b[0m\u001b[0;34m.\u001b[0m\u001b[0msplit\u001b[0m\u001b[0;34m(\u001b[0m\u001b[0;34m'\\t'\u001b[0m\u001b[0;34m)\u001b[0m                 \u001b[0;31m# on supprime le séparateur de colonne on obtient une liste\u001b[0m\u001b[0;34m\u001b[0m\u001b[0;34m\u001b[0m\u001b[0m\n",
      "\u001b[0;31mFileNotFoundError\u001b[0m: [Errno 2] No such file or directory: 'data_exo_7.txt'"
     ]
    }
   ],
   "source": [
    "import math\n",
    "import pandas\n",
    "import os.path\n",
    "import colorama\n",
    "import platform\n",
    "\n",
    "\n",
    "      \n",
    "def afficher():\n",
    "\n",
    "\n",
    "\n",
    "#-------------------menus\n",
    "\n",
    "menu1 = {}\n",
    "menu1['1']=\"Age\" \n",
    "menu1['2']=\"Pression\"\n",
    "menu1['3']=\"Cholester\"\n",
    "menu1['4']=\"Taux_Max\"\n",
    "menu1['5']=\"quitter\"\n",
    "\n",
    "menu={}\n",
    "menu['1']=\"Moyenne\" \n",
    "menu['2']=\"Médiane\"\n",
    "menu['3']=\"premier quartile\"\n",
    "menu['4']=\"troisieme quartile\"\n",
    "menu['5']=\"Maximum\"\n",
    "menu['6']=\"Minimum\"\n",
    "menu['7']=\"Mode\"\n",
    "menu['8']=\"ecart-type\"\n",
    "menu['9']=\"Variance\"\n",
    "menu['10']=\"coefficient de pearson\"\n",
    "menu['11']=\"tableau des effectifs et des frequences cumulé(e)s\"\n",
    "menu['12']=\"Sauvegarder tous\"\n",
    "menu['13']=\"Afficher tous\"\n",
    "menu['14']=\"Quitter le programme\"\n",
    "\n",
    "\n",
    "# --------le corps du programme\n",
    "\n",
    "user=os.getlogin()           #affiche le nom de l'utilisateur dans le systeme qui execute le programme\n",
    "print(\"\\n L'administrateur de ce PC est: \",user)\n",
    "print(\"\\n Vous travaillez sur un systeme: \",platform.system())              #affiche le systeme sur lequel on focntionne\n",
    "print('\\n')\n",
    "print('BIENVENUE DANS VOTRE ANALYSEUR DE DONNEES')\n",
    "print('*****************************************')\n",
    "print('\\n')\n",
    "\n",
    "print('****** LES PARAMETRES: ',menu1)\n",
    "print('\\n')\n",
    "choix = input(\"\\n Sur quel parametre du premier menu souhaitez-vous travailler?: \\n\")\n",
    "        \n",
    "#-------------------ouverture du fichier\n",
    "df=pandas.read_table('data_exo_7.txt',sep='\\t',header=0)\n",
    "\n",
    "#-------------traitement sur les parametres et le fichier a traiter\n",
    "if choix=='1':\n",
    "    print('vous travaillez sur la colonne des ages')\n",
    "    X=list(df['age'])\n",
    "elif choix=='2':\n",
    "    print('vous travaillez sur la colonne des pressions')\n",
    "    X=list(df['pression'])\n",
    "elif choix=='3':\n",
    "    print('vous travaillez sur la colonne des ages')\n",
    "    X=list(df['cholester'])\n",
    "elif choix=='4':\n",
    "    print('vous travaillez sur la colonne des ages')\n",
    "    X=list(df['taux_max'])\n",
    "else:\n",
    "    print('faites un choix valide')\n",
    "\n",
    "\n",
    "#-----------------les calculs\n",
    "    for i in X:\n",
    "            A=len(X)\n",
    "            B=sum(X)\n",
    "#-----------------calcul de la moyenne\n",
    "            moy=A/B\n",
    "            C=(B**2)/A\n",
    "            \n",
    "#---------------------calcul de la variance\n",
    "            variance=C-(moy**2)\n",
    "            \n",
    "#-----------------------calcul de l'ecart type\n",
    "            EcartT=math.sqrt(variance)\n",
    "            covariance=A*B-moy\n",
    "            \n",
    "#----------------calcul du coefficient de pearson\n",
    "            ceifficient_person=covariance/EcartT\n",
    "\n",
    "#-----------------calcul de la mediane\n",
    "            if A%2 == 0:\n",
    "                med = (X[(A-1)//2] + X[A//2])/2\n",
    "            else:\n",
    "                med = X[(A-1)//2]\n",
    "\n",
    "\n",
    "#--------------------determination du maximum et minimum de la liste\n",
    "            mini = X[0]\n",
    "            for i in range(len(X)):\n",
    "                if X[i] < mini:\n",
    "                    mini = X[i]\n",
    "\n",
    "            maxi = X[0]\n",
    "            for i in range(len(X)):\n",
    "                if X[i] > maxi:\n",
    "                    maxi = X[i]\n",
    "\n",
    "            \n",
    "#----------------------------calcul du premier et du troisieme quartile        \n",
    "            if A%4 == 0:\n",
    "                Q1 = ((X[(A//4)+1] + X[A//4])/2)\n",
    "            else:\n",
    "                Q1 = X[(A+1)//4]\n",
    "\n",
    "            if A%4 == 0:\n",
    "                Q3 = ((X[(3*A//4)+1] + X[3*A//4])/2)\n",
    "            else:\n",
    "                Q3 = X[(3*A+1)//4]\n",
    "\n",
    "#---------------------determination des effectifs\n",
    "\n",
    "\n",
    "#--------------------calcul des frequences\n",
    "            freq=0\n",
    "            for i in X:\n",
    "                S+=i\n",
    "                freq=[]\n",
    "            for i in X:\n",
    "                L.append(x/freq)\n",
    "\n",
    "#-------------------------calcul des effectifs cumulés\n",
    "                L=[]\n",
    "                somme_partielle=0\n",
    "                for x in liste_effectifs:\n",
    "                    somme_partielle+=x\n",
    "                    L.append(somme_partielle)\n",
    "\n",
    "#--------------------calcul des frequences cumulées\n",
    "\n",
    "#-------------------calcul du mode\n",
    "\n",
    "\n",
    "\n",
    "#-----------execution des differentes operations \n",
    "print('******* MENU:',menu2)\n",
    "selection=input(\"\\n ------------> Quelle opération souhaitez  vous effectuer  ?????????\")\n",
    "print('\\n')\n",
    "if selection =='1':\n",
    "       print (\"\\nLa moyenne du parametre \" ,menu1[choix], \" est: \", moy)\n",
    "elif selection =='2':\n",
    "       print (\"\\nLa mediane du parametre  \" ,menu1[choix], \" est: \", med)\n",
    "elif selection =='3':\n",
    "       print (\"\\nLe premier quartile du parametre  \" ,menu1[choix], \" est: \", Q1)\n",
    "elif selection =='4':\n",
    "       print (\"\\nLa troisieme quartile du parametre  \" ,menu1[choix], \" est: \", q3)\n",
    "elif selection == '5':\n",
    "       print (\"\\nLe maximum \", menu1[choix],\" est: \", maxi)\n",
    "elif selection == '6':\n",
    "       print (\"\\nLe minimum \", menu1[choix],\" est: \", mini)\n",
    "elif selection =='7':\n",
    "       print (\"\\nLe mode \", menu1[choix], \" est: \", mode)\n",
    "elif selection =='8':\n",
    "       print (\"\\nL'ecart-type du parametre  \" ,menu1[choix], \" est: \", ecart_type)\n",
    "elif selection =='9':\n",
    "       print (\"\\nLa variance du parametre  \" ,menu1[choix], \" est: \", variance) \n",
    "elif selection == '10': \n",
    "       print (\"\\nLe coefficient de Pearson de la colone \", menu1[choix], \" est: \",coefficient_pearson)\n",
    "elif selection == '11':\n",
    "       print (\"\\n-------->Le tableau des effectifs et des frequences cumulé \")\n",
    "       print('\\n',effectif)\n",
    "       print('\\n',eff_cum)\n",
    "       print('\\n',frequence)\n",
    "       print('\\n',freq_cum)\n",
    "       \n",
    "elif selection == '12':\n",
    "       file=open('resultat.txt','a')\n",
    "       file.write(\n",
    "       file.close()\n",
    "       print (\"\\nDonnées sauvegardées de la colonne \", menu1[choix], \"!!!!!\")\n",
    "       exit()\n",
    "elif selection == '13':\n",
    "       print (\"\\nVisualisation des caractéristique de: \\n\", menu1[choix])     \n",
    "       afficher()\n",
    "       break   \n",
    "elif selection == '14':\n",
    "       sauvegarder()\n",
    "       print(\"vos resultats ont été enregistrer dans le fichier resultat.txt de votre repertoire courant, merci!!!\")\n",
    "       break\n",
    "else: \n",
    "       print (\"option inconnu selection l'une des option sus-citées!\\n\" )"
   ]
  },
  {
   "cell_type": "markdown",
   "id": "aeccda97-e125-4855-b519-8dcad1549292",
   "metadata": {},
   "source": [
    "### Appreciation Exercice 8"
   ]
  },
  {
   "cell_type": "code",
   "execution_count": null,
   "id": "6ac97894-ff4b-4abf-88d1-ed7fdd5c5520",
   "metadata": {},
   "outputs": [],
   "source": [
    "f = float(input('Fonctionnement : 28pts'))\n",
    "m = float(input('Modularité du code: 5pts')) \n",
    "c = float(input('Commentaires: 3 pts'))\n",
    "l = float(input('Lisibilité : 2pts'))\n",
    "s = float(input('Simplicité: 2pts'))\n",
    "a = float(input('Appréciation du jury: 5pts'))\n",
    "print(f'Note : {f + m + c + l + s + a}')"
   ]
  },
  {
   "cell_type": "markdown",
   "id": "0302a40e-cc98-486c-a451-0c3576ae1d06",
   "metadata": {},
   "source": [
    "## Exercice 9 (25 points): Chiffrement de César"
   ]
  },
  {
   "cell_type": "code",
   "execution_count": 1,
   "id": "64deb123-bfd5-447d-be3a-fe5d6ea18764",
   "metadata": {},
   "outputs": [
    {
     "ename": "ModuleNotFoundError",
     "evalue": "No module named 'numpy'",
     "output_type": "error",
     "traceback": [
      "\u001b[0;31m---------------------------------------------------------------------------\u001b[0m",
      "\u001b[0;31mModuleNotFoundError\u001b[0m                       Traceback (most recent call last)",
      "\u001b[0;32m<ipython-input-1-9ff66832bc0a>\u001b[0m in \u001b[0;36m<module>\u001b[0;34m\u001b[0m\n\u001b[0;32m----> 1\u001b[0;31m \u001b[0;32mimport\u001b[0m \u001b[0mnumpy\u001b[0m\u001b[0;34m\u001b[0m\u001b[0;34m\u001b[0m\u001b[0m\n\u001b[0m\u001b[1;32m      2\u001b[0m \u001b[0;32mimport\u001b[0m \u001b[0mstring\u001b[0m\u001b[0;34m\u001b[0m\u001b[0;34m\u001b[0m\u001b[0m\n\u001b[1;32m      3\u001b[0m \u001b[0;32mimport\u001b[0m \u001b[0mrandom\u001b[0m\u001b[0;34m\u001b[0m\u001b[0;34m\u001b[0m\u001b[0m\n\u001b[1;32m      4\u001b[0m \u001b[0;32mimport\u001b[0m \u001b[0mcolorama\u001b[0m\u001b[0;34m\u001b[0m\u001b[0;34m\u001b[0m\u001b[0m\n\u001b[1;32m      5\u001b[0m \u001b[0;34m\u001b[0m\u001b[0m\n",
      "\u001b[0;31mModuleNotFoundError\u001b[0m: No module named 'numpy'"
     ]
    }
   ],
   "source": [
    "import numpy\n",
    "import string\n",
    "import random\n",
    "import colorama\n",
    "\n",
    "#.........definir la fonction d'encodage tenant compte de la table ASCII\n",
    "def encodage():\n",
    "    message=''\n",
    "    for i in range(len(texte)):\n",
    "        A=texte[i]\n",
    "        if A!=' ':\n",
    "            message+=chr((ord(A)+int(clé)-96)%26+96)\n",
    "        else:\n",
    "            message+=' ' \n",
    "    return print(message)\n",
    "\n",
    "#.........definir la fonction de décodage tenant compte de la table ASCII                \n",
    "def decodage():\n",
    "    message=''\n",
    "    for i in range(len(texte)):   \n",
    "            A=texte[i]\n",
    "            if A!=' ':\n",
    "                message+=chr((ord(A)+int(clé)-96)%26+96)\n",
    "            else:\n",
    "                message+=' ' \n",
    "    return print(message)\n",
    "\n",
    "\n",
    "#.........programme principal\n",
    "\n",
    "print(\"\\n BIENVENUE DANS L'ALGORITHME DU CHIFFREMENT DE CESAR\")\n",
    "print('-------------------------------------------------------')\n",
    "      #...........afficher un menu\n",
    "print(\"\"\"\n",
    "****** MENU ******\n",
    "\n",
    "1. ENCODAGE\n",
    "2. DECODAGE\n",
    "\"\"\")\n",
    "\n",
    "while True:\n",
    "      #...........aprés le choix,l'utilisateur entre son texte\n",
    "   choix=input('\\n Voulez vous encoder ou decoder votre texte? Faites un choix: ')\n",
    "   texte=input('\\n Veuillez saisir votre texte -----> : ')\n",
    "   print('\\n votre texte est bien : ',texte)\n",
    "   \n",
    "   if choix=='1':\n",
    "        print(choix,' -------> ENCODAGE')\n",
    "        print('\\n La clé represente le nombre de décalage que vous voulez effectuer')\n",
    "        print('\\n Votre clé peut varier de 1 a 26')\n",
    "        clé=input('\\n Entrer une valeur: ')\n",
    "        if int(clé)<26:\n",
    "            print('.............................')\n",
    "            encodage()\n",
    "        else:\n",
    "            print('\\n Entrez une valeur inferieure a 26')\n",
    "            \n",
    "   elif choix=='2':\n",
    "        print(choix,' -------> DECODAGE')\n",
    "        print('\\n La clé represente le nombre de décalage que vous voulez effectuer')\n",
    "        clé=input('\\n Entrer une valeur: ')\n",
    "        if int(clé)<26:\n",
    "            print('.............................')\n",
    "            decodage()\n",
    "        else:\n",
    "            print('\\n Entrez une valeur inferieure a 26')\n",
    "   else:\n",
    "        print('\\n Entrer une valeur correcte')"
   ]
  },
  {
   "cell_type": "markdown",
   "id": "367b3621-5f85-4a94-901b-9992180b8148",
   "metadata": {},
   "source": [
    "### Appreciation Exercice 9"
   ]
  },
  {
   "cell_type": "code",
   "execution_count": null,
   "id": "78fd2784-ce48-4677-bd72-7b46939e973b",
   "metadata": {},
   "outputs": [],
   "source": [
    "f = float(input('Fonctionnement : 15pts'))\n",
    "u = float(input('Utilisation d’une fonction encodage et une fonction décodage : 2pts')\n",
    "q = float(input('Qualité du code: 3pts'))\n",
    "a = float(input('Appréciation du jury: 5pts'))\n",
    "print(f'Note : {f + q + a + u}')"
   ]
  },
  {
   "cell_type": "markdown",
   "id": "54e4f75d-c4b6-4fa1-91bf-631b1a90720c",
   "metadata": {},
   "source": [
    "# Remarques et conseils Pour l'amélioration de l'apprenant"
   ]
  },
  {
   "cell_type": "markdown",
   "id": "a6390cd4-b950-49a2-ab40-fcc954e15964",
   "metadata": {},
   "source": []
  }
 ],
 "metadata": {
  "kernelspec": {
   "display_name": "Python 3",
   "language": "python",
   "name": "python3"
  },
  "language_info": {
   "codemirror_mode": {
    "name": "ipython",
    "version": 3
   },
   "file_extension": ".py",
   "mimetype": "text/x-python",
   "name": "python",
   "nbconvert_exporter": "python",
   "pygments_lexer": "ipython3",
   "version": "3.8.10"
  }
 },
 "nbformat": 4,
 "nbformat_minor": 5
}
