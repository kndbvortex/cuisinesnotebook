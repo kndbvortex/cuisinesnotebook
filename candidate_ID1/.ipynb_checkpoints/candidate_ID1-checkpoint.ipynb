{
 "cells": [
  {
   "cell_type": "markdown",
   "id": "59e0d103-0441-44c4-926a-e86675f331a1",
   "metadata": {},
   "source": [
    "## Exercice 1(5 points): Culture générale "
   ]
  },
  {
   "cell_type": "code",
   "execution_count": null,
   "id": "cb277d17-ff70-468a-a8d2-881ca845d1d7",
   "metadata": {},
   "outputs": [],
   "source": []
  },
  {
   "cell_type": "markdown",
   "id": "3a022152-253a-43e5-a339-6c9568daffc6",
   "metadata": {},
   "source": [
    "### Appreciation Exercice 1"
   ]
  },
  {
   "cell_type": "code",
   "execution_count": 1,
   "id": "0f95d843-63b1-4272-ab1b-77118194be51",
   "metadata": {
    "collapsed": true,
    "jupyter": {
     "outputs_hidden": true
    },
    "tags": []
   },
   "outputs": [
    {
     "name": "stdin",
     "output_type": "stream",
     "text": [
      "Quelle note attriburiez-vous à cet exercice 23\n",
      "À combien notez-vous la qualité du code de cet exercice?  34\n",
      "À quel point ce code est-il efficient selon vous? 44\n"
     ]
    }
   ],
   "source": [
    "note = float(input(\"Quelle note attriburiez-vous à cet exercice\"))"
   ]
  },
  {
   "cell_type": "markdown",
   "id": "5adf1a03-498e-4d7d-9cbe-db31ab2c86f3",
   "metadata": {},
   "source": [
    "## Exercice 2 (7 points):"
   ]
  },
  {
   "cell_type": "markdown",
   "id": "3f541620-cfea-42d4-8f2e-00ab2b754fee",
   "metadata": {},
   "source": [
    "    • str(2021) * int(\"3\")   résultat :'202120212021' python va convertir 2021 en chaîne de caractère et « 3 » en entier puis il va tripler cette chaîne de caractère\n",
    "    • int(\"3\") + float(\"3.2\")  résultat : 6.2 conversion de la chaîne «3 » en entier, de la chaîne « 3.2 » en réel et somme des nombres obtenues\n",
    "    • int(3.98) + float(\"3.2\") résultat :6.2 . Conversion de 3.98 en entier (la partie décimal est mise à Zéro), conversion de « 3.2 » en réel et somme des nombres obtenues\n",
    "    • int(3.9) + float(\"3,2\") : Erreur car « 3,2 » ne peut être converti en réel à cause de la virgule car la virgule c’est le point en python\n",
    "    • str(3) * float(\"3\") :  Erreur car une chaîne de caractère ne peut pas être multiplié par un nombre qui n’est pas de type int.\n",
    "    • str(3/4) * 2  résultat :'0.750.75'. Effectue la division réel de 3 par 4 , converti le résultat en chaîne de caractère et concatène la chaîne obtenue par elle même une fois.\n",
    "    • \"SEED\" + [\"innovation\",\"hub\"] : Erreur on ne peut pas  concaténer une chaîne de caractère avec une liste\n",
    "    • \"SEED\" + str([\"innovation\",\"hub\"]) résultat :\"SEED['innovation', 'hub']\"  conversion de la liste en python et concaténation du résultat avec la chaîne « SEED »."
   ]
  },
  {
   "cell_type": "markdown",
   "id": "1441509a-a6c7-4b4f-a88c-b15aa116f4ea",
   "metadata": {},
   "source": [
    "### Appreciation Exercice 2"
   ]
  },
  {
   "cell_type": "code",
   "execution_count": null,
   "id": "68251fa1-3ae4-4c91-be3b-0faf196e067e",
   "metadata": {},
   "outputs": [],
   "source": [
    "note = float(input(\"Quelle note attriburiez-vous à cet exercice\"))"
   ]
  },
  {
   "cell_type": "markdown",
   "id": "d7f4aefd-959c-4e97-b1c2-fa2e8dc01c8f",
   "metadata": {},
   "source": [
    "## Exercice 3 (7 points): Pierre-feuille-ciseau"
   ]
  },
  {
   "cell_type": "code",
   "execution_count": null,
   "id": "e15e1d32-c04d-46f2-8d31-48cd89675631",
   "metadata": {},
   "outputs": [],
   "source": [
    "import random\n",
    "import time\n",
    "\n",
    "\n",
    "def Exercice_3():\n",
    "    #menu du jeu\n",
    "    print(\"******************************************BIENVENUE SUR LE JEU********************************\")\n",
    "    print(\"\\n\\n\",\"*****************voici les règles du jeu*****************\")\n",
    "    print(\"********** les règles sont simple ici vous jouez contre la machine il s'agit du très célèbre jeu PIERRE, FEUILLE, CISEAU\")\n",
    "    print(\"\\n\\n\",\"1. la pierre bat le ciseau\")\n",
    "    print(\"2.le ciseau bat la feuille\")\n",
    "    print(\"3.la feuille bat la pierre\")\n",
    "    print(\"la machine fera son choix et vous essayer de la battre\")\n",
    "    print(\"c'est partie vous pouvez commencer\")\n",
    "    k=0\n",
    "    Victoire=0\n",
    "    #initialisation des victoires\n",
    "    while k!=-1:\n",
    "        \n",
    "        liste = ['pierre','feuille','ciseau' ]\n",
    "        #choix aleatoire du mot \n",
    "        choix_machine=random.choice(liste)\n",
    "        print(\"la machine a fait son choix faite le votre.....\")\n",
    "        i=0\n",
    "        while i!=-1:\n",
    "            choix=str(input(\"votre choix est   \"))\n",
    "            choix=choix.lower()\n",
    "            # se rassurer que l'utilisateur entre un element qui est dans la liste\n",
    "            if choix in liste:\n",
    "                i=-1\n",
    "            else:\n",
    "                print(\"votre choix n'est pas valide veillez recommencer\" )\n",
    "                i=i+1\n",
    "        #  mettre une pause pour le suspend avec un compte        \n",
    "        for i in range(0,4):\n",
    "            print(i)\n",
    "            time.sleep(1)  \n",
    "        print(\"\\n\")\n",
    "        #verification du choix de l'utilisateur et comparaison avec celui de la machine\n",
    "        if choix_machine=='pierre' and choix=='feuille':\n",
    "            print(\"le choix de la machine est \",choix_machine)\n",
    "            print(\"\\n Felicitation vous  gagnez !!!!!!!!!!!!!!!!\")\n",
    "            Victoire= Victoire + 1\n",
    "            \n",
    "        if choix_machine=='ciseau' and choix=='pierre':\n",
    "            print(\"le choix de la machine est \",choix_machine)\n",
    "            print(\"\\n Felicitation vous  gagnez !!!!!!!!!!!!!!!!\")\n",
    "            Victoire= Victoire + 1\n",
    "            \n",
    "        if choix_machine=='feuille' and choix=='ciseau':\n",
    "            print(\"le choix de la machine est \",choix_machine)\n",
    "            print(\"\\n Felicitation vous  gagnez !!!!!!!!!!!!!!!!\")\n",
    "            Victoire= Victoire + 1\n",
    "        if choix == choix_machine:\n",
    "              print(\"le choix de la machine est \",choix_machine)\n",
    "              print(\"\\n Felicitation vous  gagnez !!!!!!!!!!!!!!!!\")\n",
    "              Victoire= Victoire + 1\n",
    "        else:\n",
    "            print(\"le choix de la machine est \",choix_machine)\n",
    "            print(\"\\n OOOoooops désolé vous avez perdu !!!\")\n",
    "        \n",
    "        print(\"\\n\\n\",\"voulez vous refaire une partie??  entere O pour oui et N pour non\")\n",
    "        #recuper la reponse de l'utilisateur\n",
    "        i=0\n",
    "        while i!=-1:\n",
    "            \n",
    "             ch=str(input(\" \"))\n",
    "             ch=ch.lower()\n",
    "             if ch =='o' or ch =='n':\n",
    "                i=-1\n",
    "             else:\n",
    "                 print(\"votre choix n'est pas valide veillez recommencer\" )\n",
    "                 i=i+1\n",
    "                \n",
    "       \n",
    "        if ch== 'o':\n",
    "            k += 1\n",
    "        else:\n",
    "            print(\" merci d'avoir pris par à ce jeu\")\n",
    "            print(\"votre score est \", Victoire)\n",
    "            k=-1\n",
    "Exercice_3()"
   ]
  },
  {
   "cell_type": "markdown",
   "id": "41026062-09ce-4f7f-94f2-645a76226121",
   "metadata": {},
   "source": [
    "### Appreciation Exercice 3"
   ]
  },
  {
   "cell_type": "code",
   "execution_count": null,
   "id": "c66e1d37-f1f2-4f2f-8c47-fe64b1132db2",
   "metadata": {},
   "outputs": [],
   "source": [
    "f = float(input(\"Note du Fonctionnement (Sur 4pts)\"))\n",
    "q = float(input(\"Note sur la qualité du code (sur 1pt)\"))\n",
    "examinator_appreciation = float(input('Appréciation de l\\'examinateur (sur 2pts)'))"
   ]
  },
  {
   "cell_type": "markdown",
   "id": "7b222c34-7200-4ce9-836b-7e39f4ae57a0",
   "metadata": {},
   "source": [
    "## Exercice 4(8 points)"
   ]
  },
  {
   "cell_type": "code",
   "execution_count": null,
   "id": "1806e35b-3fe6-4b89-a2ce-da41b54edb8f",
   "metadata": {
    "jupyter": {
     "source_hidden": true
    },
    "tags": []
   },
   "outputs": [],
   "source": [
    "# definition du decorateur\n",
    "def decorateur(fonction):\n",
    "    def inner(texte,g=False,i=False,b=False):\n",
    "        if g==True:\n",
    "            texte=\"*\"+texte+\"*\"\n",
    "        if i==True:\n",
    "            texte=\"_\"+texte+\"_\"\n",
    "        if b==True:\n",
    "            texte=\"~\"+texte+\"~\"\n",
    "        print(texte) \n",
    "    return inner\n",
    "#utilisation du decorateur\n",
    "@ decorateur\n",
    "def fonction(texte,g=False,i=False,b=False):\n",
    "    return texte\n",
    "\n",
    "fonction(\"SEED_COMMUNITY #PATH_PYTHON 2k21\",g=True,i=True,b=True)"
   ]
  },
  {
   "cell_type": "markdown",
   "id": "4acc4d1e-ec6b-4f44-88c1-872cce18f511",
   "metadata": {},
   "source": [
    "### Appreciation Exercice 4"
   ]
  },
  {
   "cell_type": "code",
   "execution_count": null,
   "id": "15944995-73e5-4f5a-bfd6-d3d930260297",
   "metadata": {},
   "outputs": [],
   "source": [
    "f = float(input(\"Note du Fonctionnement (Sur 5pts)\"))\n",
    "q = float(input(\"Note sur la qualité du code (sur 1pt)\"))\n",
    "examinator_appreciation = float(input('Appréciation de l\\'examinateur (sur 2pts)'))"
   ]
  },
  {
   "cell_type": "markdown",
   "id": "4e6662f8-341f-4dd3-b3a5-2a0939a5da49",
   "metadata": {},
   "source": [
    "## Exercice 5 (40 points): Jeu du pendu "
   ]
  },
  {
   "cell_type": "code",
   "execution_count": null,
   "id": "e472fe74-b461-4113-95a7-90f9a1aaa8dc",
   "metadata": {},
   "outputs": [],
   "source": [
    "import random\n",
    "\n",
    "\n",
    "def lecture():\n",
    "    fichier= open('sowpods.txt','r')\n",
    "    dico= fichier.readlines()\n",
    "    liste_mot=[]\n",
    "    for mot in dico:\n",
    "        liste_mot.append(mot)\n",
    "    choix_machine= random.choice(liste_mot)\n",
    "    return choix_machine\n",
    "\n",
    "\n",
    "    # fonction qui remplace dans le cod ela lettre trouvee\n",
    "def Deviner(lettre,mot,affichage):\n",
    "    mot_1=list (mot)\n",
    "    affichage=list(affichage)\n",
    "    for i in range(len(mot_1)):\n",
    "        if mot_1[i]==lettre:\n",
    "            affichage[i]=lettre\n",
    "    affiche=\"\".join(affichage)       \n",
    "    return affiche        \n",
    "\n",
    "def pendu():\n",
    "    print(\"*********************BIENVENU SUR LE JEU DU PENDU IL EST QUESTION DE DEVINER UN MOT LETTRE PAR LETTRE  JUSQU'A TROUVER LE MOT A DEVINER*********************\")\n",
    "    print(\"\\n \\n \\n \\n \")\n",
    "    k=1\n",
    "    while k==1:    \n",
    "        solution=lecture()\n",
    "        solution =solution.lower()\n",
    "        solution=solution.strip()\n",
    "        solution=list(solution)\n",
    "        affichage=\"\"\n",
    "        for i in solution:\n",
    "            affichage= affichage + \"_ \"\n",
    "        print(\"essaye de deviner le mot si tu peux \")\n",
    "        print(affichage)\n",
    "    \n",
    "        essai=6\n",
    "        lettres_trouvees=\"\"\n",
    "        \n",
    "        while essai != 0:\n",
    "            k=0\n",
    "            choix=\"\"\n",
    "            while k==0:\n",
    "                choix= input(\"entrez une lettre   \")\n",
    "                choix=choix.lower()\n",
    "                if type(choix)==str:\n",
    "                    k=-1\n",
    "                elif len(choix)!=1:\n",
    "                    print(\"veillez entrer un seul charactère \\n\")\n",
    "                else:\n",
    "                    print(\"veillez entrer un caractere de l'alphabet \\n\")\n",
    "            if choix in lettres_trouvees:\n",
    "                print(\"vous avez deja deviné cette lettre\")\n",
    "                print(affichage)\n",
    "            elif choix in solution:\n",
    "                lettres_trouvees = lettres_trouvees + choix\n",
    "                print(\"cool trouvé\")\n",
    "                affichage = Deviner(choix,solution,affichage)\n",
    "                print(affichage)\n",
    "                        \n",
    "                if \"_\" not in affichage:\n",
    "                      print(affichage,\"\\n\")\n",
    "                      print(\" \\n felicitation vous avez gagnez \\n\")\n",
    "                      essai=0\n",
    "                \n",
    "                else:\n",
    "                    print(affichage)\n",
    "            else:\n",
    "                print(affichage)\n",
    "                print(\"desole incorrect\") \n",
    "                essai= essai -1\n",
    "                print(\"il vous reste\",essai,\"tentatives\")\n",
    "               \n",
    "        print(\"voulez vous refaire une partie ? \")   \n",
    "        print(\"1.oui  pourquoi pas\")\n",
    "        print(\"2.non merci\")\n",
    "        choix=int(input(\" entrer votre choix \"))\n",
    "        if choix==1:\n",
    "            k=1\n",
    "            \n",
    "        else:\n",
    "            print(\"merci d'avoir joué\") \n",
    "            k=-1\n",
    "              \n",
    "            \n",
    "\n",
    "pendu()"
   ]
  },
  {
   "cell_type": "markdown",
   "id": "dd15fd91-b257-443b-b963-38ca38399108",
   "metadata": {},
   "source": [
    "### Appreciation Exercice 5"
   ]
  },
  {
   "cell_type": "code",
   "execution_count": null,
   "id": "b26838d4-7ef3-4513-b7f3-02265edd9da4",
   "metadata": {},
   "outputs": [],
   "source": [
    "p1 = float(input('Note partie 1: 5pts'))\n",
    "p2 = float(input('Note partie 2: 10pts'))\n",
    "p3 = float(input('Note partie 3: 15pts'))\n",
    "l = float(input('Note de la lisibilité du code : 2pts'))\n",
    "s = float(input('Note de la simplicité du code : 2pts'))\n",
    "c = float(input('Note des commantaires et nommage: 2pts'))\n",
    "u = float(input('Note sur l\\'utilisation des structures de données: 4pts'))"
   ]
  },
  {
   "cell_type": "markdown",
   "id": "6dbc4ab7-09d1-467c-b1ae-92de9e304f67",
   "metadata": {},
   "source": [
    "## Exercice 6 (20 points):"
   ]
  },
  {
   "cell_type": "code",
   "execution_count": null,
   "id": "b5fbc5ec-8190-443d-a5de-963b2d0c9ad0",
   "metadata": {},
   "outputs": [],
   "source": [
    "def cuboide(x,y,z,n):\n",
    "    return [[i,j,k] for i in range(x+1) for j in range(y+1) for k in range(z+1) if i+j+k != n]\n",
    "\n",
    "print(cuboide(2,4,5,8))"
   ]
  },
  {
   "cell_type": "markdown",
   "id": "79a7de40-9c8b-4314-8602-442cda4e9f4c",
   "metadata": {},
   "source": [
    "### Appreciation Exercice 6"
   ]
  },
  {
   "cell_type": "code",
   "execution_count": null,
   "id": "970fb14d-e847-4726-8e55-7be9156f6296",
   "metadata": {},
   "outputs": [],
   "source": [
    "p = float(input('Note sur le fonctionnemant : /15'))\n",
    "u = float(input('Note sur l\\'utilisation des compréhensions des listes : 5pts(s\\'il a utilisé il a 5 sinon 0)')) "
   ]
  },
  {
   "cell_type": "markdown",
   "id": "e5510c21-cf02-495e-905b-5bd7c8573d71",
   "metadata": {},
   "source": [
    "## Exercice 7 (30 points):"
   ]
  },
  {
   "cell_type": "code",
   "execution_count": null,
   "id": "8507eb8d-94f3-4eb4-9521-edc54171faa5",
   "metadata": {},
   "outputs": [],
   "source": [
    "# cette foonction permet de retirer les elements avant les numeros afin de les comparer\n",
    "def clean_numero():\n",
    "    fichier=open('data_exo_6.txt','r')\n",
    "    numero_brut =fichier.readlines()\n",
    "    contact=[num.strip() for num in numero_brut]\n",
    "    numero=[]\n",
    "    for i in contact:\n",
    "        if len(i)==13:\n",
    "            num=\"\".join(list(i)[5:])\n",
    "            numero.append(num)\n",
    "        if len(i)==12:\n",
    "            num=\"\".join(list(i)[4:])\n",
    "            numero.append(num)\n",
    "        if len(i)==9:\n",
    "            num=\"\".join(list(i)[1:])\n",
    "            numero.append(num)  \n",
    "        if len(i)==8:\n",
    "            num=\"\".join(list(i)[0:])\n",
    "            numero.append(num)\n",
    "    return numero\n",
    "# affecter le resultat du nettoyage des numero a une variable \n",
    "contacts=clean_numero()\n",
    "#decorateur pour ajouter +237\n",
    "def deco(order_contact):\n",
    "    def inner(contacts):\n",
    "        # recuperer le resultat de la fonction order_contact car c'est ce resultat qu'on veux decorer\n",
    "        numero=order_contact(contacts)\n",
    "        liste_contact=[]\n",
    "        for i in numero:\n",
    "            standarise=\"+237 6\"+i\n",
    "            liste_contact.append(standarise)\n",
    "        return liste_contact \n",
    "    return inner    \n",
    "        \n",
    "@ deco\n",
    "def order_contact(contacts):\n",
    "    contacts.sort()\n",
    "    return contacts       \n",
    "            \n",
    "num_decorer=order_contact(contacts) # recuperer les numeros decore\n",
    "# ecriture des numeros dans un fichier\n",
    "for i in num_decorer:\n",
    "    f=open('contact.txt','a')\n",
    "    f.write(i)\n",
    "    f.write(\"\\n\")\n",
    "f.close()"
   ]
  },
  {
   "cell_type": "markdown",
   "id": "8d5e5a51-8ae8-485f-8e9b-3bfb38bdb7d6",
   "metadata": {},
   "source": [
    "### Appreciation Exercice 7"
   ]
  },
  {
   "cell_type": "code",
   "execution_count": null,
   "id": "9fc21cff-bb3a-4157-925b-0c28528280d4",
   "metadata": {},
   "outputs": [],
   "source": [
    "f = float(input('Note sur fonctionnement : 20pts'))\n",
    "m = float(input('Modularité du code: 3pts'))\n",
    "c = float(input('Commentaires: 2pts'))\n",
    "a = float(input('Appréciation du jury: 5pts'))"
   ]
  },
  {
   "cell_type": "markdown",
   "id": "be92e02e-81f8-495e-9606-1b54b408206f",
   "metadata": {},
   "source": [
    "## Exercice 8 (45 points):"
   ]
  },
  {
   "cell_type": "code",
   "execution_count": null,
   "id": "38213ecd-f8d9-4d6d-acf7-47ffe9f5b24f",
   "metadata": {},
   "outputs": [],
   "source": []
  },
  {
   "cell_type": "markdown",
   "id": "aeccda97-e125-4855-b519-8dcad1549292",
   "metadata": {},
   "source": [
    "### Appreciation Exercice 8"
   ]
  },
  {
   "cell_type": "code",
   "execution_count": null,
   "id": "6ac97894-ff4b-4abf-88d1-ed7fdd5c5520",
   "metadata": {},
   "outputs": [],
   "source": [
    "f = float(input('Fonctionnement : 28pts'))\n",
    "m = float(input('Modularité du code: 5pts')) \n",
    "c = float(input('Commentaires: 3 pts'))\n",
    "l = float(input('Lisibilité : 2pts'))\n",
    "s = float(input('Simplicité: 2pts'))\n",
    "a = float(input('Appréciation du jury: 5pts'))"
   ]
  },
  {
   "cell_type": "markdown",
   "id": "0302a40e-cc98-486c-a451-0c3576ae1d06",
   "metadata": {},
   "source": [
    "## Exercice 9 (25 points): Chiffrement de César"
   ]
  },
  {
   "cell_type": "code",
   "execution_count": null,
   "id": "64deb123-bfd5-447d-be3a-fe5d6ea18764",
   "metadata": {},
   "outputs": [],
   "source": []
  },
  {
   "cell_type": "markdown",
   "id": "367b3621-5f85-4a94-901b-9992180b8148",
   "metadata": {},
   "source": [
    "### Appreciation Exercice 9"
   ]
  },
  {
   "cell_type": "code",
   "execution_count": null,
   "id": "78fd2784-ce48-4677-bd72-7b46939e973b",
   "metadata": {},
   "outputs": [],
   "source": [
    "f = float(input('Fonctionnement : 15pts'))\n",
    "u = float(input('Utilisation d’une fonction encodage et une fonction décodage : 2pts')\n",
    "q = float(input('Qualité du code: 3pts'))\n",
    "a = float(input('Appréciation du jury: 5pts'))"
   ]
  }
 ],
 "metadata": {
  "kernelspec": {
   "display_name": "Python 3",
   "language": "python",
   "name": "python3"
  },
  "language_info": {
   "codemirror_mode": {
    "name": "ipython",
    "version": 3
   },
   "file_extension": ".py",
   "mimetype": "text/x-python",
   "name": "python",
   "nbconvert_exporter": "python",
   "pygments_lexer": "ipython3",
   "version": "3.8.10"
  }
 },
 "nbformat": 4,
 "nbformat_minor": 5
}
