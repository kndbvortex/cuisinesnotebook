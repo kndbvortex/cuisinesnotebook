{
 "cells": [
  {
   "cell_type": "markdown",
   "id": "59e0d103-0441-44c4-926a-e86675f331a1",
   "metadata": {},
   "source": [
    "## Exercice 1(5 points): Culture générale "
   ]
  },
  {
   "cell_type": "markdown",
   "id": "cbf74fc9-64dd-4049-9221-72fe17475126",
   "metadata": {},
   "source": [
    "1. Donner et expliquer le schéma de l’architecture interne de Python.\n",
    "\n",
    "Notre code source, tel que nous l’avons écrit n’est pas directement compréhensible et exécutable par la machine. Python étant un langage de programmation interprété, c’est-à-dire notre programme est exécuté ligne par ligne par la machine\n",
    "Pour analyser notre code et savoir si celui-ci est bien écrit, python produit une sorte de code intermédiaire qui lui permet de faire cette vérification syntaxique, puis produit un byte code (code en langage machine), qui sera ensuite transmis à la machine virtuelle python pour l’intégration des modules et produire le code final en langage machine directement exécutable par l’ordinateur. \n",
    "Voici un schéma qui présente l’architecture interne du langage python [ici](https://github.com/st9-8/python-code-path-21/blob/main/cuisine_1/pypath_4/exercice_1.docx)\n",
    "\n",
    "\n",
    "2. Quelle différence faites-vous entre une variable globale et une variable locale? Dites\n",
    "Comment est-ce qu’on parvient à obtenir des variables globales en Python (les 2 cas\n",
    "Possibles).\n",
    "\n",
    "Une variable est dite local si elle est définie dans une fonction ou une procédure et ne pourra être accessible que dans le cadre de l'exécution de cette procédure ou fonction tant dis qu'une variable globale est définie dans le programme est accessible durant toute l'exécution de celui-ci sans aucune contrainte.\n",
    "\n",
    "On parvient à obtenir des variables globales en python au travers de ces deux méthodes:\n",
    "    • En les déclarant à l'extérieur des fonctions\n",
    "    • En les déclarant à l'intérieur des fonctions et procédures tout en utilisant le mot clé \"global\" avant celle-ci.\n",
    "\n",
    "3. A quoi peut servir un décorateur ? (1 exemple d’utilisation suffit)\n",
    "\n",
    "Un décorateur est une fonction qui permet de modifier le comportement d'une autre fonction.\n",
    "\n",
    "Exemple :\n",
    "\n",
    "Notre décorateur @appel s’exécute sa fonction à chaque fois avant la fonction qui le suit\n",
    "\n",
    "4. Quelle différence faites-vous entre Git et GitHub\n",
    "Git est un logiciel VCS local qui permet aux développeurs de sauvegarder des instantanés de leurs projets au fil du temps. Il est généralement mieux adapté à un usage individuel tant dis que GitHub est une plateforme web qui intègre les fonctionnalités de contrôle de version de Git afin de pouvoir les utiliser en collaboration.\n",
    "Git est le système de contrôle de version distribué. Git est chargé de suivre les modifications apportées au contenu – généralement des fichiers de code source.\n",
    "GitHub est une entreprise qui fournit un hébergement de référentiel Git. Cela signifie qu’ils fournissent une solution clé en main pour héberger des référentiels Git sur leurs serveurs. Cela peut être utile pour conserver une sauvegarde de votre référentiel (Git ne suit que les modifications apportées à vos fichiers au fil du temps, le référentiel doit encore être sauvegardé) et pour disposer d’un emplacement centralisé pour conserver et partager votre code avec d’autres."
   ]
  },
  {
   "cell_type": "markdown",
   "id": "3a022152-253a-43e5-a339-6c9568daffc6",
   "metadata": {},
   "source": [
    "### Appreciation Exercice 1"
   ]
  },
  {
   "cell_type": "code",
   "execution_count": 1,
   "id": "0f95d843-63b1-4272-ab1b-77118194be51",
   "metadata": {
    "collapsed": true,
    "jupyter": {
     "outputs_hidden": true
    },
    "tags": []
   },
   "outputs": [
    {
     "name": "stdin",
     "output_type": "stream",
     "text": [
      "Quelle note attriburiez-vous à cet exercice 23\n",
      "À combien notez-vous la qualité du code de cet exercice?  34\n",
      "À quel point ce code est-il efficient selon vous? 44\n"
     ]
    }
   ],
   "source": [
    "note = float(input(\"Quelle note attriburiez-vous à cet exercice\"))"
   ]
  },
  {
   "cell_type": "markdown",
   "id": "5adf1a03-498e-4d7d-9cbe-db31ab2c86f3",
   "metadata": {},
   "source": [
    "## Exercice 2 (7 points):"
   ]
  },
  {
   "cell_type": "markdown",
   "id": "3f541620-cfea-42d4-8f2e-00ab2b754fee",
   "metadata": {},
   "source": [
    "Comment se comportera l’interpréteur Python à la lecture de chacune des instructions suivantes:\n",
    "\n",
    "\\>>> str(2021) * int(\"3\")  \n",
    "Résultat de l’exécution : '202120212021'\n",
    "\n",
    "\\>>> int(\"3\") + float(\"3.2\")  \n",
    "Résultat de l’exécution : 6.2\n",
    "\n",
    "\\>>> int(\"3,98\") + float(\"3.2\")  \n",
    "Résultat de l’exécution : erreur de valeur car le type défini est une chaine (3,98) qui ne peut être une valeur convertie en entier\n",
    "\n",
    "\\>>> int(\"3.9\") + float(\"3,2\")  \n",
    "Résultat de l’exécution : erreur de valeur car le type défini est un réel (3.98) qui ne peut être une valeur convertie en entier\n",
    "\n",
    "\\>>> str(3) * float(\"3.2\")  \n",
    "Résultat de l’exécution : erreur de typage car on ne peut pas effectuer une multiplication une chaine de caractères et un réel\n",
    "\n",
    "\\>>> str(3/4) * 2  \n",
    "Résultat de l’exécution : '0.750.75'\n",
    "\n",
    "\\>>> \"SEED\" + [“innovation”, “hub”]  \n",
    "Résultat de l’exécution : erreur de syntaxe car les caractères « cotes » entrés ne sont pas reconnus par python comme un identifiant\n",
    "\n",
    "\\>>> \"SEED\" + str([\"innovation\", \"hub\"]) \n",
    "\n",
    "Résultat de l’exécution : \"SEED['innovation', 'hub']\""
   ]
  },
  {
   "cell_type": "markdown",
   "id": "1441509a-a6c7-4b4f-a88c-b15aa116f4ea",
   "metadata": {},
   "source": [
    "### Appreciation Exercice 2"
   ]
  },
  {
   "cell_type": "code",
   "execution_count": null,
   "id": "68251fa1-3ae4-4c91-be3b-0faf196e067e",
   "metadata": {},
   "outputs": [],
   "source": [
    "note = float(input(\"Quelle note attriburiez-vous à cet exercice\"))"
   ]
  },
  {
   "cell_type": "markdown",
   "id": "d7f4aefd-959c-4e97-b1c2-fa2e8dc01c8f",
   "metadata": {},
   "source": [
    "## Exercice 3 (7 points): Pierre-feuille-ciseau"
   ]
  },
  {
   "cell_type": "code",
   "execution_count": null,
   "id": "e15e1d32-c04d-46f2-8d31-48cd89675631",
   "metadata": {},
   "outputs": [],
   "source": [
    "import random       #on importe le module random\n",
    "l = [\"pierre\", \"feuille\", \"ciseau\"]      #la liste des mots du jeu\n",
    "print(l)\n",
    "i = 0       #score de la partie\n",
    "p = \"y\"     #condition d'arrêt\n",
    "while p == \"y\":\n",
    "    j = random.choice(l)        #choix du mot du sytème\n",
    "    x = input(\"veillez entrer votre choix \")        #le joueur entre son mot\n",
    "    if x == \"pierre\" and j == \"pierre\" or x == \"feuille\" and j == \"feuille\" or x == \"ciseau\" and j == \"ciseau\":\n",
    "        print(\"mot identique, match nul\", x, \"contre\", j)       \n",
    "        k=0\n",
    "    elif x == \"pierre\" and j == \"ciseau\":\n",
    "        print(\"votre choix est gagnant \", x, \"contre\", j)\n",
    "        k=1\n",
    "    elif x == \"feuille\" and j == \"pierre\":\n",
    "       print(\"votre choix est gagnant \", x, \"contre\", j)\n",
    "       k=1\n",
    "    elif x == \"ciseau\" and j == \"feuille\":\n",
    "        print(\"votre choix est gagnant \", x, \"contre\", j)\n",
    "        k=1\n",
    "    else:\n",
    "        print(\"vous avez perdu la partie \", x, \"contre\", j)\n",
    "        k=0\n",
    "    i = i+k\n",
    "    \n",
    "    p=input(\"appuyer sur Y pour continuer ou sur tout autre touche pour quitter la partie \")\n",
    "print(\"votre score durant la partie est \", i)"
   ]
  },
  {
   "cell_type": "markdown",
   "id": "41026062-09ce-4f7f-94f2-645a76226121",
   "metadata": {},
   "source": [
    "### Appreciation Exercice 3"
   ]
  },
  {
   "cell_type": "code",
   "execution_count": null,
   "id": "c66e1d37-f1f2-4f2f-8c47-fe64b1132db2",
   "metadata": {},
   "outputs": [],
   "source": [
    "f = float(input(\"Note du Fonctionnement (Sur 4pts)\"))\n",
    "q = float(input(\"Note sur la qualité du code (sur 1pt)\"))\n",
    "examinator_appreciation = float(input('Appréciation de l\\'examinateur (sur 2pts)'))"
   ]
  },
  {
   "cell_type": "markdown",
   "id": "7b222c34-7200-4ce9-836b-7e39f4ae57a0",
   "metadata": {},
   "source": [
    "## Exercice 4(8 points)"
   ]
  },
  {
   "cell_type": "code",
   "execution_count": null,
   "id": "1806e35b-3fe6-4b89-a2ce-da41b54edb8f",
   "metadata": {
    "tags": []
   },
   "outputs": [],
   "source": [
    "import random   #on utilise random pour le choix aléatoire\n",
    "words = [word.strip() for word in open(\"sowpods.txt\", encoding=\"utf-8\")] #on recupère les mots dans une liste en enlevant les espaces autour de ceux-ci avec Strip()\n",
    "taille = len(words)    #on recupère la taille de notre liste\n",
    "print(\"\\n Nous avons \", taille, \" mots\")\n",
    "word = random.choice(words)   #choix au hasard d'un mot\n",
    "print(\"\\n Le mot aléatoire est \", word)"
   ]
  },
  {
   "cell_type": "code",
   "execution_count": null,
   "id": "881ee08e-8481-41e9-a8e9-5f959e7270cc",
   "metadata": {
    "tags": []
   },
   "outputs": [],
   "source": [
    "mot_secret = \"python\"    #on initialise le mot secret\n",
    "score = \"\"\n",
    "lettres_trouvees = \"\"\n",
    "print(\"\\n\\n  ----------------------- \\n Bienvenue au jeu du Pendu\")\n",
    "while True:      #une boucle infini pour que l'utilisateur joue tant qu'il n'a pas trouver le mot\n",
    "    print(\"\\n ****** Mot à deviner: \", score, \"******\")\n",
    "    proposition = input(\"\\n proposez une lettre : \")     #le joeur entre une lettre\n",
    "    if proposition in mot_secret:\n",
    "        lettres_trouvees = lettres_trouvees + proposition  #la lettre est dans le mot secret\n",
    "        print(\"\\n -> Bravo ! Tu y es presque\")\n",
    "    else :\n",
    "        print(\"\\n -> C'est pas la bonne, essaies encore\")\n",
    "    score = \"\"\n",
    "    for x in mot_secret:     #on affiche les lettres déjà trouvées et ceux qui manquent par un \"_\"\n",
    "           if x in lettres_trouvees:\n",
    "               score += x + \" \" \n",
    "           else:\n",
    "               score += \"_ \"\n",
    "    if \"_\" not in score:    #condition de sortie de la boucle infinie\n",
    "      break\n",
    "print(\"\\n\\n Waouh, tu as Gagné! \")\n",
    "print(\"\\n\\n Fin de la partie, le mot est \", score, \"\\n Merci d'avoir joué\")"
   ]
  },
  {
   "cell_type": "code",
   "execution_count": null,
   "id": "c5210b62-e119-49cf-b29f-249f62e41d72",
   "metadata": {
    "tags": []
   },
   "outputs": [],
   "source": [
    "import random   #on utilise random pour le choix aléatoire\n",
    "print(\"\\n\\n  ----------------------- \\n Bienvenue au jeu du Pendu\")\n",
    "words = [word.strip() for word in open(\"sowpods.txt\", encoding=\"utf-8\")] #on recupère les mots dans une liste en enlevant les espaces autour de ceux-ci avec Strip()\n",
    "mot_secret = random.choice(words)   #choix au hasard d'un mot\n",
    "score = \"\"\n",
    "recherche = \"\"\n",
    "essaie = 6       #Nombre de tentative autorisé pour le joueur\n",
    "while essaie > 0:      #nombre de tentatives\n",
    "    print(\"\\n ****** Mot à deviner: \", score, \"******\")\n",
    "    proposition = input(\"\\n proposez une lettre en minuscule : \")     #le joeur entre une lettre\n",
    "    proposition = proposition.upper()\n",
    "    if proposition in mot_secret:\n",
    "        if proposition in recherche :     #on vérifie si la lettre est déjà trouvé\n",
    "            print(\"\\n Tu as déjà trouver cette lettre, essaies encore\")\n",
    "        else :\n",
    "            recherche = recherche + proposition  #la lettre est dans le mot secret\n",
    "            print(\"\\n -> Bravo ! Tu y es presque\")\n",
    "            essaie -= 0\n",
    "    else :\n",
    "        print(\"\\n -> C'est pas la bonne, essaies encore\")\n",
    "        essaie -= 1\n",
    "        print(\" -> Il te reste \", essaie, \"tentative(s)\")\n",
    "    score = \"\"\n",
    "    for x in mot_secret:     #on affiche les lettres déjà trouvées et ceux qui manquent par un \"_\"\n",
    "           if x in recherche:\n",
    "               score += x + \" \" \n",
    "           else:\n",
    "               score += \"_ \"\n",
    "    if \"_\" not in score:      #on vérifie si on a trouvé le bon mot\n",
    "      print(\"\\n\\n Waouh, tu as Gagné!\")\n",
    "      break\n",
    "    if essaie == 0 :\n",
    "        print(\"\\n \\n Tus perdu la partie \")\n",
    "print(\"\\n\\n Fin de la partie, le mot est \", mot_secret, \"\\n Merci d'avoir joué\")"
   ]
  },
  {
   "cell_type": "markdown",
   "id": "4acc4d1e-ec6b-4f44-88c1-872cce18f511",
   "metadata": {},
   "source": [
    "### Appreciation Exercice 4"
   ]
  },
  {
   "cell_type": "code",
   "execution_count": null,
   "id": "15944995-73e5-4f5a-bfd6-d3d930260297",
   "metadata": {},
   "outputs": [],
   "source": [
    "f = float(input(\"Note du Fonctionnement (Sur 5pts)\"))\n",
    "q = float(input(\"Note sur la qualité du code (sur 1pt)\"))\n",
    "examinator_appreciation = float(input('Appréciation de l\\'examinateur (sur 2pts)'))"
   ]
  },
  {
   "cell_type": "markdown",
   "id": "4e6662f8-341f-4dd3-b3a5-2a0939a5da49",
   "metadata": {},
   "source": [
    "## Exercice 5 (40 points): Jeu du pendu "
   ]
  },
  {
   "cell_type": "code",
   "execution_count": null,
   "id": "e472fe74-b461-4113-95a7-90f9a1aaa8dc",
   "metadata": {},
   "outputs": [],
   "source": []
  },
  {
   "cell_type": "markdown",
   "id": "dd15fd91-b257-443b-b963-38ca38399108",
   "metadata": {},
   "source": [
    "### Appreciation Exercice 5"
   ]
  },
  {
   "cell_type": "code",
   "execution_count": null,
   "id": "b26838d4-7ef3-4513-b7f3-02265edd9da4",
   "metadata": {},
   "outputs": [],
   "source": [
    "p1 = float(input('Note partie 1: 5pts'))\n",
    "p2 = float(input('Note partie 2: 10pts'))\n",
    "p3 = float(input('Note partie 3: 15pts'))\n",
    "l = float(input('Note de la lisibilité du code : 2pts'))\n",
    "s = float(input('Note de la simplicité du code : 2pts'))\n",
    "c = float(input('Note des commantaires et nommage: 2pts'))\n",
    "u = float(input('Note sur l\\'utilisation des structures de données: 4pts'))"
   ]
  },
  {
   "cell_type": "markdown",
   "id": "6dbc4ab7-09d1-467c-b1ae-92de9e304f67",
   "metadata": {},
   "source": [
    "## Exercice 6 (20 points): Numéro de téléphone"
   ]
  },
  {
   "cell_type": "code",
   "execution_count": null,
   "id": "b5fbc5ec-8190-443d-a5de-963b2d0c9ad0",
   "metadata": {},
   "outputs": [],
   "source": [
    "\"\"\"on construit un decorateur qui va normalise les numéros de télépphones \n",
    "en ajoutant +237 sur chaque nombre et 6 où besoin se fait ressentir\"\"\"\n",
    "def normalise(func):\n",
    "\n",
    "    def num():\n",
    "        x = func()\n",
    "        k = len(x)\n",
    "        for i in range (k):\n",
    "            x[i] = \"+2376\"+x[i]\n",
    "\n",
    "        return x\n",
    "    return num\n",
    "#On trie tout les numeros du fichier\n",
    "@normalise\n",
    "def ordre():\n",
    "    table_numeros = []\n",
    "    x = []\n",
    "    Source = \"\"\n",
    "    Source = open(\"data_exo_6.txt\",\"r\")\n",
    "    table_numeros = Source.readlines()     #recupere les données de notre fichier\n",
    "    Source.close()\n",
    "\n",
    "    t = len(table_numeros)\n",
    "    for i in range (t) :\n",
    "       if table_numeros[i].startswith(\"+2376\"):   #si le nombre commence par +2376 alors on ajoute dans x les chiffres qui suit\n",
    "          x.append(int(table_numeros[i][5:]))\n",
    "\n",
    "       elif table_numeros[i].startswith(\"2376\"): #meme logique que le if precedent\n",
    "          x.append(int(table_numeros[i][4:]))\n",
    "       elif table_numeros[i].startswith(\"6\"):\n",
    "          x.append(int(table_numeros[i][1:]))\n",
    "       else:\n",
    "         x.append(int(table_numeros[i]))\n",
    "    x.sort()\n",
    "    \"\"\"on peut avoir des nombres qui ne sont pas égal a 8 chiffres, on le complete avec des 0.\n",
    "    On peut avoir des numéros en entier, on doit les transformés en chaine de caractères\"\"\"\n",
    "    b = len(x)\n",
    "    for i in range (b) :\n",
    "        x[i] = str(x[i])\n",
    "        if len(x[i])<8:     \n",
    "            x[i] = \"0\"*(8-len(x[i]))+x[i]\n",
    "    return x\n",
    "table_numeros = ordre()\n",
    "print(table_numeros)"
   ]
  },
  {
   "cell_type": "markdown",
   "id": "79a7de40-9c8b-4314-8602-442cda4e9f4c",
   "metadata": {},
   "source": [
    "### Appreciation Exercice 6"
   ]
  },
  {
   "cell_type": "code",
   "execution_count": null,
   "id": "970fb14d-e847-4726-8e55-7be9156f6296",
   "metadata": {},
   "outputs": [],
   "source": [
    "p = float(input('Note sur le fonctionnemant : /15'))\n",
    "u = float(input('Note sur l\\'utilisation des compréhensions des listes : 5pts(s\\'il a utilisé il a 5 sinon 0)')) "
   ]
  },
  {
   "cell_type": "markdown",
   "id": "e5510c21-cf02-495e-905b-5bd7c8573d71",
   "metadata": {},
   "source": [
    "## Exercice 7 (30 points):"
   ]
  },
  {
   "cell_type": "code",
   "execution_count": null,
   "id": "8507eb8d-94f3-4eb4-9521-edc54171faa5",
   "metadata": {},
   "outputs": [],
   "source": []
  },
  {
   "cell_type": "markdown",
   "id": "8d5e5a51-8ae8-485f-8e9b-3bfb38bdb7d6",
   "metadata": {},
   "source": [
    "### Appreciation Exercice 7"
   ]
  },
  {
   "cell_type": "code",
   "execution_count": null,
   "id": "9fc21cff-bb3a-4157-925b-0c28528280d4",
   "metadata": {},
   "outputs": [],
   "source": [
    "f = float(input('Note sur fonctionnement : 20pts'))\n",
    "m = float(input('Modularité du code: 3pts'))\n",
    "c = float(input('Commentaires: 2pts'))\n",
    "a = float(input('Appréciation du jury: 5pts'))"
   ]
  },
  {
   "cell_type": "markdown",
   "id": "be92e02e-81f8-495e-9606-1b54b408206f",
   "metadata": {},
   "source": [
    "## Exercice 8 (45 points):"
   ]
  },
  {
   "cell_type": "code",
   "execution_count": null,
   "id": "38213ecd-f8d9-4d6d-acf7-47ffe9f5b24f",
   "metadata": {},
   "outputs": [],
   "source": []
  },
  {
   "cell_type": "markdown",
   "id": "aeccda97-e125-4855-b519-8dcad1549292",
   "metadata": {},
   "source": [
    "### Appreciation Exercice 8"
   ]
  },
  {
   "cell_type": "code",
   "execution_count": null,
   "id": "6ac97894-ff4b-4abf-88d1-ed7fdd5c5520",
   "metadata": {},
   "outputs": [],
   "source": [
    "f = float(input('Fonctionnement : 28pts'))\n",
    "m = float(input('Modularité du code: 5pts')) \n",
    "c = float(input('Commentaires: 3 pts'))\n",
    "l = float(input('Lisibilité : 2pts'))\n",
    "s = float(input('Simplicité: 2pts'))\n",
    "a = float(input('Appréciation du jury: 5pts'))"
   ]
  },
  {
   "cell_type": "markdown",
   "id": "0302a40e-cc98-486c-a451-0c3576ae1d06",
   "metadata": {},
   "source": [
    "## Exercice 9 (25 points): Chiffrement de César"
   ]
  },
  {
   "cell_type": "code",
   "execution_count": null,
   "id": "64deb123-bfd5-447d-be3a-fe5d6ea18764",
   "metadata": {},
   "outputs": [
    {
     "name": "stderr",
     "output_type": "stream",
     "text": [
      "<>:28: SyntaxWarning: \"is\" with a literal. Did you mean \"==\"?\n",
      "<>:28: SyntaxWarning: \"is\" with a literal. Did you mean \"==\"?\n",
      "<ipython-input-2-e2bda8a7218b>:28: SyntaxWarning: \"is\" with a literal. Did you mean \"==\"?\n",
      "  if car is ' ':\n"
     ]
    }
   ],
   "source": [
    "class Crypto:\n",
    "\t\"\"\"Cryptage utilisant le chiffrement de césar\n",
    "\tch = chaine, d = décalage\"\"\"\n",
    "\tdef __init__(self, ch, d):\n",
    "\t\tself.ch, self.d = ch, d\n",
    "\t\t#On initialise les dictionnaires. cryptage pour crypter, decryptage pour décrypter\n",
    "\t\tself.cryptage = {}\n",
    "\t\tself.decryptage = {}\n",
    "\t\t\n",
    "\t\t#On construit les listes. alpha = alphabet normal. ald = alphabet avec le décalage\n",
    "\t\tself.alpha = [chr(x) for x in range(97, 123)]\n",
    "\t\tself.ald = [self.alpha[(i+self.d)%26] for i in range(26)] #Utilisation du modulo pour éviter le OutOfRange\n",
    "\t\t#Construction de cryptage\n",
    "\t\tfor x in range(26):\n",
    "\t\t\tself.cryptage[self.alpha[x]] = self.ald[x]\n",
    "\t\t\n",
    "\tdef inverser_dico(self):\n",
    "\t\t\"\"\"Construction du dictionnaire decryptage en inversant la valeur de cryptage afin d'accéder à la traduction\"\"\"\n",
    "\t\tfor (k, v) in self.cryptage.items():\n",
    "\t\t\tself.decryptage[v] = k\n",
    "\t\treturn self.decryptage\n",
    "\n",
    "\tdef code(self, p):\n",
    "\t\t\"\"\"Coder et décoder le texte\"\"\"\n",
    "\t\tself.new_ch = []\n",
    "\t\tself.inverser_dico()\n",
    "\t\tfor car in self.ch:\n",
    "\t\t\tif car is ' ':\n",
    "\t\t\t\tself.new_ch.append(' ')\n",
    "\t\t\telse:\n",
    "\t\t\t\tif p is True:\n",
    "\t\t\t\t\tself.new_ch.append(self.cryptage[car])\n",
    "\t\t\t\telse: \n",
    "\t\t\t\t\tself.new_ch.append(self.decryptage[car])\n",
    "\n",
    "\t\treturn self.new_ch\n",
    "y = \"y\"\n",
    "if __name__ == \"__main__\":\n",
    "\twhile y:\n",
    "\t\tchx = input(\"Entrez C pour crypter ou D décrypter votre texte : \")\n",
    "\t\tif chx.upper() == 'C':\n",
    "\t\t\tx = True\n",
    "\t\telif chx.upper() == 'D':\n",
    "\t\t\tx = None\n",
    "\t\telse:\n",
    "\t\t\tprint (\"Mauvais choix !\")\n",
    "\t\t\tbreak\n",
    "\t\t\n",
    "\t\tdecalage = input(\"De combien de lettres voulez vous décaler votre code : \")\n",
    "\t\tif decalage.isdigit():\n",
    "\t\t\ttxt = input(\"Veuillez entrer votre texte :\\n\")\n",
    "\t\t\ta = Crypto(txt.lower(), int(decalage))\n",
    "\t\telse:\n",
    "\t\t\tprint (\"Vous devez entrer un nombre !\")\n",
    "\t\t\tbreak\n",
    "\t\t\n",
    "\t\ttry:\n",
    "\t\t\ta.code(x)\n",
    "\t\t\tprint (''.join(a.code(x)))\n",
    "\t\texcept:\n",
    "\t\t\tprint (\"Vous ne devez rentrer uniquement des lettres !\")\n",
    "\t\t\tbreak\n",
    "\t\t\t\t\n",
    "\t\tr = input(\"Autre texte à crypter ? ( y: Oui, Entrée: Non ) : \")\n",
    "\t\tif r == 'y':\n",
    "\t\t\tcontinue\n",
    "\t\telse:\n",
    "\t\t\tbreak"
   ]
  },
  {
   "cell_type": "markdown",
   "id": "367b3621-5f85-4a94-901b-9992180b8148",
   "metadata": {},
   "source": [
    "### Appreciation Exercice 9"
   ]
  },
  {
   "cell_type": "code",
   "execution_count": null,
   "id": "78fd2784-ce48-4677-bd72-7b46939e973b",
   "metadata": {},
   "outputs": [],
   "source": [
    "f = float(input('Fonctionnement : 15pts'))\n",
    "u = float(input('Utilisation d’une fonction encodage et une fonction décodage : 2pts')\n",
    "q = float(input('Qualité du code: 3pts'))\n",
    "a = float(input('Appréciation du jury: 5pts'))"
   ]
  }
 ],
 "metadata": {
  "kernelspec": {
   "display_name": "Python 3",
   "language": "python",
   "name": "python3"
  },
  "language_info": {
   "codemirror_mode": {
    "name": "ipython",
    "version": 3
   },
   "file_extension": ".py",
   "mimetype": "text/x-python",
   "name": "python",
   "nbconvert_exporter": "python",
   "pygments_lexer": "ipython3",
   "version": "3.8.10"
  }
 },
 "nbformat": 4,
 "nbformat_minor": 5
}
