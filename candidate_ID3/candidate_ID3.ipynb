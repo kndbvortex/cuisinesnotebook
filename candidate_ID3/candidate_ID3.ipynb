{
 "cells": [
  {
   "cell_type": "markdown",
   "id": "59e0d103-0441-44c4-926a-e86675f331a1",
   "metadata": {},
   "source": [
    "## Exercice 1(5 points): Culture générale "
   ]
  },
  {
   "cell_type": "code",
   "execution_count": null,
   "id": "cb277d17-ff70-468a-a8d2-881ca845d1d7",
   "metadata": {},
   "outputs": [],
   "source": []
  },
  {
   "cell_type": "markdown",
   "id": "3a022152-253a-43e5-a339-6c9568daffc6",
   "metadata": {},
   "source": [
    "### Appreciation Exercice 1"
   ]
  },
  {
   "cell_type": "code",
   "execution_count": 1,
   "id": "0f95d843-63b1-4272-ab1b-77118194be51",
   "metadata": {
    "collapsed": true,
    "jupyter": {
     "outputs_hidden": true
    },
    "tags": []
   },
   "outputs": [
    {
     "name": "stdin",
     "output_type": "stream",
     "text": [
      "Quelle note attriburiez-vous à cet exercice 23\n",
      "À combien notez-vous la qualité du code de cet exercice?  34\n",
      "À quel point ce code est-il efficient selon vous? 44\n"
     ]
    }
   ],
   "source": [
    "note = float(input(\"Quelle note attriburiez-vous à cet exercice\"))"
   ]
  },
  {
   "cell_type": "markdown",
   "id": "5adf1a03-498e-4d7d-9cbe-db31ab2c86f3",
   "metadata": {},
   "source": [
    "## Exercice 2 (7 points):"
   ]
  },
  {
   "cell_type": "markdown",
   "id": "3f541620-cfea-42d4-8f2e-00ab2b754fee",
   "metadata": {},
   "source": []
  },
  {
   "cell_type": "markdown",
   "id": "1441509a-a6c7-4b4f-a88c-b15aa116f4ea",
   "metadata": {},
   "source": [
    "### Appreciation Exercice 2"
   ]
  },
  {
   "cell_type": "code",
   "execution_count": null,
   "id": "68251fa1-3ae4-4c91-be3b-0faf196e067e",
   "metadata": {},
   "outputs": [],
   "source": [
    "note = float(input(\"Quelle note attriburiez-vous à cet exercice\"))"
   ]
  },
  {
   "cell_type": "markdown",
   "id": "d7f4aefd-959c-4e97-b1c2-fa2e8dc01c8f",
   "metadata": {
    "jupyter": {
     "source_hidden": true
    },
    "tags": []
   },
   "source": [
    "## Exercice 3 (7 points): Pierre-feuille-ciseau"
   ]
  },
  {
   "cell_type": "code",
   "execution_count": null,
   "id": "e15e1d32-c04d-46f2-8d31-48cd89675631",
   "metadata": {},
   "outputs": [],
   "source": [
    "#------------------------------ Module built-in ---------------------------------\n",
    "from random import choice\n",
    "#--------------------------------------------------------------------------------\n",
    "#------------------------------ Fonctions ---------------------------------------\n",
    "def controleurChoixJoueur(choix):\n",
    "    if choix == \"Pierre\":\n",
    "        tmp = 1\n",
    "    elif choix == \"Feuille\":\n",
    "        tmp = 2\n",
    "    elif choix == 'Ciseau':\n",
    "        tmp = 3\n",
    "    else:\n",
    "        tmp = 4\n",
    "    return tmp\n",
    "\n",
    "def controleurJeu(choix):\n",
    "    if choix == \"oui\":\n",
    "        tmp = 1\n",
    "    elif choix == \"non\":\n",
    "        tmp = 2  \n",
    "    else:\n",
    "        tmp = 3\n",
    "    return tmp \n",
    "#----------------------------------------------------------------------------------\n",
    "#------------------------------ Programme principal -------------------------------\n",
    "#---------------------- Variables -------------------------\n",
    "listeChoix = [\"Pierre\",\"Feuille\",\"Ciseau\"] \n",
    "score,tmp,partie = 0,0,0\n",
    "choixJoueur,choixSysteme = \"None\",'None'\n",
    "continuer = \"oui\"\n",
    "#-----------------------------------------------------------\n",
    "while continuer != 'non': #Boucle controlant si le joueur continue la partie ou pas\n",
    "    choixJoueur = input(\"Entrez votre choix (Pierre,Feuille ou Ciseau): \")\n",
    "    tmp = controleurChoixJoueur(choixJoueur)\n",
    "    while tmp == 4: #Boucle controlant que le joueur entre la bonne valeur\n",
    "        print(\"Votre choix doit etre soit 'Pierre', 'Feuille' ou 'Ciseau'\")\n",
    "        choixJoueur = input(\"Entrez votre choix (Pierre,Feuille ou Ciseau): \")\n",
    "        tmp = controleurChoixJoueur(choixJoueur)\n",
    "\n",
    "    choixSysteme = choice(listeChoix)\n",
    "    partie += 1 #Compteur de parties\n",
    "    print(f\" Partie {partie} \".center(50,\"=\"))\n",
    "    print(f\"Systeme: {choixSysteme}\")\n",
    "    print(f\"Joueur: {choixJoueur}\")\n",
    "    if choixJoueur==\"Pierre\" and choixSysteme == \"Ciseau\":\n",
    "        score += 1    \n",
    "    elif choixJoueur==\"Feuille\" and choixSysteme == \"Pierre\":\n",
    "        score += 1\n",
    "    elif choixJoueur==\"Ciseau\" and choixSysteme == \"Feuille\":\n",
    "        score += 1\n",
    "    else:\n",
    "        pass #Dans tout autre cas le joueur ne gagne pas de point\n",
    "\n",
    "    tmp = 0\n",
    "    continuer = input(\"Voulez vous continuer? (oui/non): \")\n",
    "    tmp = controleurJeu(continuer)\n",
    "    while tmp == 3: #Boucle controlant que le joueur entre la bonne valeur a propos continuer la partie ou pas\n",
    "        print(\"Votre choix doit etre 'oui' ou 'non'!\")\n",
    "        continuer = input(\"Voulez vous continuer? (oui/non): \")\n",
    "        tmp = controleurJeu(continuer)\n",
    "\n",
    "print(\" Score \".center(50,\"=\"))\n",
    "print(f\"Score: {score}\")"
   ]
  },
  {
   "cell_type": "markdown",
   "id": "41026062-09ce-4f7f-94f2-645a76226121",
   "metadata": {},
   "source": [
    "### Appreciation Exercice 3"
   ]
  },
  {
   "cell_type": "code",
   "execution_count": null,
   "id": "c66e1d37-f1f2-4f2f-8c47-fe64b1132db2",
   "metadata": {},
   "outputs": [],
   "source": [
    "f = float(input(\"Note du Fonctionnement (Sur 4pts)\"))\n",
    "q = float(input(\"Note sur la qualité du code (sur 1pt)\"))\n",
    "examinator_appreciation = float(input('Appréciation de l\\'examinateur (sur 2pts)'))\n",
    "print(f'Note : {f + q + examinator_appreciation}')"
   ]
  },
  {
   "cell_type": "markdown",
   "id": "7b222c34-7200-4ce9-836b-7e39f4ae57a0",
   "metadata": {},
   "source": [
    "## Exercice 4(8 points)"
   ]
  },
  {
   "cell_type": "code",
   "execution_count": null,
   "id": "1806e35b-3fe6-4b89-a2ce-da41b54edb8f",
   "metadata": {
    "tags": []
   },
   "outputs": [],
   "source": [
    "#------------------------------ Module built-in ---------------------------------\n",
    "from random import choice\n",
    "#--------------------------------------------------------------------------------\n",
    "#----------------------------------------- Fonctions ---------------------------------------------------#\n",
    "def Jouer(motTrouve, motMistere):  \n",
    "    while motTrouve != motMistere:\n",
    "        i = 0\n",
    "        motMistere = list(motMistere)\n",
    "        motTrouve = list(motTrouve)\n",
    "        print(\"Jeu du pendu\".center(70,\"-\"))\n",
    "        lettre = input(\"Entrez une lettre du mot a deviner: \")\n",
    "        while i < taille: \n",
    "            if motMistere[i] == lettre:\n",
    "                motTrouve[i] = lettre\n",
    "            else:  \n",
    "                pass\n",
    "            i = i + 1\n",
    "        motTrouve = ''.join(motTrouve)\n",
    "        motMistere = ''.join(motMistere)\n",
    "        print(motTrouve)\n",
    "        print(\"=\".center(70,\"-\"))\n",
    "        \n",
    "    print(f\"bravo!! Le mot a trouver etait {motMistere}\")\n",
    "#--------------------------------------------------------------------------------------------------------#\n",
    "# -------------------------- Lecture du dictionnaire --------------------------- # \n",
    "with open(\"sowpods.txt\",'r') as fichier: \n",
    "    dictionnaire = fichier.readlines()\n",
    "    dictionnaireTemporaire = []\n",
    "    for element in dictionnaire:\n",
    "        dictionnaireTemporaire.append(element.strip(\"\\n\"))\n",
    "    dictionnaire = dictionnaireTemporaire\n",
    "# ------------------------------------------------------------------------------- #\n",
    "motMistere = choice(dictionnaire) #Generation aleatoire d'un mot\n",
    "motTrouve = []\n",
    "for element in motMistere:\n",
    "    motTrouve.append(\"_\")\n",
    "motTrouve = ''.join(motTrouve)\n",
    "taille = len(motMistere)\n",
    "\n",
    "Jouer(motTrouve, motMistere)"
   ]
  },
  {
   "cell_type": "markdown",
   "id": "4acc4d1e-ec6b-4f44-88c1-872cce18f511",
   "metadata": {},
   "source": [
    "### Appreciation Exercice 4"
   ]
  },
  {
   "cell_type": "code",
   "execution_count": null,
   "id": "15944995-73e5-4f5a-bfd6-d3d930260297",
   "metadata": {
    "tags": []
   },
   "outputs": [],
   "source": [
    "f = float(input(\"Note du Fonctionnement (Sur 5pts)\"))\n",
    "q = float(input(\"Note sur la qualité du code (sur 1pt)\"))\n",
    "examinator_appreciation = float(input('Appréciation de l\\'examinateur (sur 2pts)'))\n",
    "print(f'Note : {f + q + examinator_appreciation}')"
   ]
  },
  {
   "cell_type": "markdown",
   "id": "4e6662f8-341f-4dd3-b3a5-2a0939a5da49",
   "metadata": {},
   "source": [
    "## Exercice 5 (40 points): Jeu du pendu "
   ]
  },
  {
   "cell_type": "code",
   "execution_count": null,
   "id": "e472fe74-b461-4113-95a7-90f9a1aaa8dc",
   "metadata": {},
   "outputs": [],
   "source": [
    "#------------------------------ Module built-in ---------------------------------\n",
    "from random import choice\n",
    "#--------------------------------------------------------------------------------\n",
    "#----------------------------------------- Fonctions ---------------------------------------------------#\n",
    "def Jouer(motTrouve,motMistere):\n",
    "    cpt = 6\n",
    "    print(\"Jeu du pendu\".center(70,\"-\"))\n",
    "    print(f\"Vous avez {cpt} tentatives\")\n",
    "    while motTrouve != motMistere and cpt > 0:\n",
    "        i = 0\n",
    "        motMistere = list(motMistere)\n",
    "        motTrouve = list(motTrouve)\n",
    "        lettre = input(\"Entrez une lettre du mot a deviner: \")\n",
    "        while i < taille: \n",
    "            if motMistere[i] == lettre:\n",
    "                motTrouve[i] = lettre\n",
    "            else:  \n",
    "                pass\n",
    "            i = i + 1\n",
    "        motTrouve = ''.join(motTrouve)\n",
    "        motMistere = ''.join(motMistere)\n",
    "        print(motTrouve)\n",
    "        print(\"=\".center(70,\"-\"))\n",
    "        if lettre in trace: \n",
    "            print(trace)\n",
    "            pass\n",
    "        else: \n",
    "            cpt = cpt - 1\n",
    "        trace.append(lettre)\n",
    "        print(f\"plus que {cpt}!\")\n",
    "\n",
    "    if motTrouve == motMistere:   \n",
    "        print(f\"bravo!! Le mot a trouver etait {motMistere}\")\n",
    "    else:  \n",
    "        print(f\"dommage:( Le mot a trouver etait {motMistere}\")\n",
    "#--------------------------------------------------------------------------------------------------------#\n",
    "# -------------------------- Lecture du dictionnaire --------------------------- #       \n",
    "with open(\"sowpods.txt\",'r') as fichier: \n",
    "    dictionnaire = fichier.readlines()\n",
    "    dictionnaireTemporaire = []\n",
    "    for element in dictionnaire:\n",
    "        dictionnaireTemporaire.append(element.strip(\"\\n\"))\n",
    "    dictionnaire = dictionnaireTemporaire\n",
    "# ------------------------------------------------------------------------------- #\n",
    "motMistere = choice(dictionnaire) #Generation aleatoire d'un mot\n",
    "motTrouve = []\n",
    "for element in motMistere:\n",
    "    motTrouve.append(\"_\")\n",
    "motTrouve = ''.join(motTrouve)\n",
    "taille = len(motMistere)\n",
    "trace = [] # Liste qui garde les entrees du joueur\n",
    "\n",
    "\n",
    "Jouer(motTrouve, motMistere)\n",
    "\n",
    "#choix = input(\"Jouer a nouveau?(oui/non):  \")\n",
    "# -------------------------- Menu facultatif --------------------------- # \n",
    "\"\"\"while choix != \"non\": \n",
    "    while choix != \"oui\":  \n",
    "        print(\"Votre choix doit etre soit 'oui' ou 'non': \")\n",
    "        choix = input(\"Jouer a nouveau?(oui/non):  \")\n",
    "    Jouer(motTrouve, motMistere)\n",
    "\"\"\"# ----------------------------------------------------------- # "
   ]
  },
  {
   "cell_type": "markdown",
   "id": "dd15fd91-b257-443b-b963-38ca38399108",
   "metadata": {},
   "source": [
    "### Appreciation Exercice 5"
   ]
  },
  {
   "cell_type": "code",
   "execution_count": null,
   "id": "b26838d4-7ef3-4513-b7f3-02265edd9da4",
   "metadata": {},
   "outputs": [],
   "source": [
    "p1 = float(input('Note partie 1: 5pts'))\n",
    "p2 = float(input('Note partie 2: 10pts'))\n",
    "p3 = float(input('Note partie 3: 15pts'))\n",
    "l = float(input('Note de la lisibilité du code : 2pts'))\n",
    "s = float(input('Note de la simplicité du code : 2pts'))\n",
    "c = float(input('Note des commantaires et nommage: 2pts'))\n",
    "u = float(input('Note sur l\\'utilisation des structures de données: 4pts'))\n",
    "print(f'Note : {p1+p2+p3+l+s+c+u}')"
   ]
  },
  {
   "cell_type": "markdown",
   "id": "6dbc4ab7-09d1-467c-b1ae-92de9e304f67",
   "metadata": {},
   "source": [
    "## Exercice 6 (20 points):"
   ]
  },
  {
   "cell_type": "code",
   "execution_count": null,
   "id": "b5fbc5ec-8190-443d-a5de-963b2d0c9ad0",
   "metadata": {},
   "outputs": [],
   "source": [
    "print(\"Entrez les valeurs a generer les listes \")\n",
    "A = int(input(\">>> Entrez A: \"))\n",
    "B = int(input(\">>> Entrez B: \"))\n",
    "C = int(input(\">>> Entrez C: \"))\n",
    "N = int(input(\">>> Entrez N: \"))\n",
    "\n",
    "listeGenerateur = [[a,b,c] for a in range(A+1) for b in range(B+1) for c in range(C+1) if a+b+c != N]\n",
    "print(\">>> \",listeGenerateur)"
   ]
  },
  {
   "cell_type": "markdown",
   "id": "79a7de40-9c8b-4314-8602-442cda4e9f4c",
   "metadata": {},
   "source": [
    "### Appreciation Exercice 6"
   ]
  },
  {
   "cell_type": "code",
   "execution_count": null,
   "id": "970fb14d-e847-4726-8e55-7be9156f6296",
   "metadata": {},
   "outputs": [],
   "source": [
    "p = float(input('Note sur le fonctionnemant : /15'))\n",
    "u = float(input('Note sur l\\'utilisation des compréhensions des listes : 5pts(s\\'il a utilisé il a 5 sinon 0)')) \n",
    "print(f'Note : {p + u}')"
   ]
  },
  {
   "cell_type": "markdown",
   "id": "e5510c21-cf02-495e-905b-5bd7c8573d71",
   "metadata": {},
   "source": [
    "## Exercice 7 (30 points):"
   ]
  },
  {
   "cell_type": "code",
   "execution_count": null,
   "id": "8507eb8d-94f3-4eb4-9521-edc54171faa5",
   "metadata": {},
   "outputs": [],
   "source": [
    "#--------------------------------------------- Decorateur -------------------------------------------------#\n",
    "def decorateur(fonction):\n",
    "    def ma_fonction(liste):\n",
    "        listeTemporaire = []\n",
    "        for element in liste: \n",
    "            element = list(element) \n",
    "            if element[0] == \"+\" and element[1] == \"2\" and element[2] == \"3\" and element[3] == \"7\":  \n",
    "                pass\n",
    "            else:  \n",
    "                if element[0] == \"2\" and element[1] == \"3\" and element[2] == \"7\":  \n",
    "                    element.insert(0,\"+\")\n",
    "                elif element[0] == \"6\" \"\"and len(element) == 9:\n",
    "                    element.insert(0,\"7\")\n",
    "                    element.insert(0,\"3\")\n",
    "                    element.insert(0,\"2\")\n",
    "                    element.insert(0,\"+\")\n",
    "                else:  \n",
    "                    element.insert(0,\"6\")\n",
    "                    element.insert(0,\"7\")\n",
    "                    element.insert(0,\"3\")\n",
    "                    element.insert(0,\"2\")\n",
    "                    element.insert(0,\"+\")\n",
    "            element = ''.join(element)\n",
    "            listeTemporaire.append(element)\n",
    "            liste = listeTemporaire\n",
    "            liste.sort()\n",
    "        print(liste)\n",
    "            \n",
    "    return ma_fonction\n",
    "#---------------------------------------------------------------------------------------------------------#\n",
    "@decorateur\n",
    "def trierContacts(liste): #Fonction\n",
    "    liste.sort() \n",
    "\n",
    "#--------------------------------------------- Lecture du fichier -------------------------------------------------#\n",
    "with open(\"data_exo_6.txt\",\"r\") as fichier:  \n",
    "    liste = fichier.readlines()\n",
    "    listeTemporaire = []\n",
    "    for element in liste:\n",
    "        listeTemporaire.append(element.strip(\"\\n\"))\n",
    "    liste = listeTemporaire\n",
    "    nombreContacts = liste[0]   \n",
    "    liste.remove(nombreContacts)\n",
    " \n",
    "\n",
    "trierContacts(liste)\n"
   ]
  },
  {
   "cell_type": "markdown",
   "id": "8d5e5a51-8ae8-485f-8e9b-3bfb38bdb7d6",
   "metadata": {},
   "source": [
    "### Appreciation Exercice 7"
   ]
  },
  {
   "cell_type": "code",
   "execution_count": null,
   "id": "9fc21cff-bb3a-4157-925b-0c28528280d4",
   "metadata": {},
   "outputs": [],
   "source": [
    "f = float(input('Note sur fonctionnement : 20pts'))\n",
    "m = float(input('Modularité du code: 3pts'))\n",
    "c = float(input('Commentaires: 2pts'))\n",
    "a = float(input('Appréciation du jury: 5pts'))\n",
    "print(f'Note : {f + m + c + a}')"
   ]
  },
  {
   "cell_type": "markdown",
   "id": "be92e02e-81f8-495e-9606-1b54b408206f",
   "metadata": {},
   "source": [
    "## Exercice 8 (45 points):"
   ]
  },
  {
   "cell_type": "code",
   "execution_count": null,
   "id": "38213ecd-f8d9-4d6d-acf7-47ffe9f5b24f",
   "metadata": {},
   "outputs": [],
   "source": []
  },
  {
   "cell_type": "markdown",
   "id": "aeccda97-e125-4855-b519-8dcad1549292",
   "metadata": {},
   "source": [
    "### Appreciation Exercice 8"
   ]
  },
  {
   "cell_type": "code",
   "execution_count": null,
   "id": "6ac97894-ff4b-4abf-88d1-ed7fdd5c5520",
   "metadata": {},
   "outputs": [],
   "source": [
    "f = float(input('Fonctionnement : 28pts'))\n",
    "m = float(input('Modularité du code: 5pts')) \n",
    "c = float(input('Commentaires: 3 pts'))\n",
    "l = float(input('Lisibilité : 2pts'))\n",
    "s = float(input('Simplicité: 2pts'))\n",
    "a = float(input('Appréciation du jury: 5pts'))\n",
    "print(f'Note : {f + m + c + l + s + a}')"
   ]
  },
  {
   "cell_type": "markdown",
   "id": "0302a40e-cc98-486c-a451-0c3576ae1d06",
   "metadata": {},
   "source": [
    "## Exercice 9 (25 points): Chiffrement de César"
   ]
  },
  {
   "cell_type": "code",
   "execution_count": null,
   "id": "64deb123-bfd5-447d-be3a-fe5d6ea18764",
   "metadata": {},
   "outputs": [],
   "source": [
    "#----------------------------------------- Fonctions ---------------------------------------------------#\n",
    "def encodage(texte,nombreDecalage):\n",
    "    taille = len(texte)\n",
    "    i = 0\n",
    "    while i < taille:\n",
    "        if texte[i] == \" \": \n",
    "            texte[i] = \" \"\n",
    "        else: \n",
    "            texte[i] = alphabet[alphabet.index(texte[i].lower()) - nombreDecalage]\n",
    "        i = i + 1\n",
    "    return texte\n",
    "\n",
    "def decodage(texte,nombreDecalage):\n",
    "    alphabet.reverse()\n",
    "    taille = len(texte)\n",
    "    i = 0\n",
    "    while i < taille:\n",
    "        if texte[i] == \" \": \n",
    "            texte[i] = \" \"\n",
    "        else: \n",
    "            texte[i] = alphabet[alphabet.index(texte[i].lower()) - nombreDecalage]\n",
    "        i = i + 1\n",
    "    alphabet.reverse()\n",
    "    return texte\n",
    "#--------------------------------------------------------------------------------------------------------#\n",
    "#------>>>>>>>>>  alphabet <<<<<<<<<-----#\n",
    "alphabet = ['a','b','c','d','e','f','g','h','i','j','k','l','m','n','o','p','q','r','s','t','u','v','w','x','y','z']\n",
    "#-------------------------------------------------------------------------------------------------------------------\n",
    "choix = 0\n",
    "while choix != 3: #Boucle controlant le menu\n",
    "    print(\"1. Encoder (decalage a gauche)\")\n",
    "    print(\"2. Decoder (decalage a droite)\")\n",
    "    print(\"3. Quitter\")\n",
    "    choix = int(input(\"Entrez votre choix: \"))\n",
    "    while choix < 1 or choix >3: #Boucle controlant le choix de l'utilisateur\n",
    "        print(\"Votre choix doit etre compris entre 1 et 3\")\n",
    "        choix = int(input(\"Entrez votre choix: \"))\n",
    "\n",
    "    if choix == 1: \n",
    "        nombreDecalage = int(input(\"Entrez le decalage: \"))\n",
    "        texte = input(\"Entrer un texte: \")\n",
    "        texte = list(texte)\n",
    "        print(\"+--+-------------------------------------------------+--+\")\n",
    "        print(\"Encodage: \",''.join(encodage(texte,nombreDecalage)))\n",
    "        print(\"+--+-------------------------------------------------+--+\")\n",
    "\n",
    "    elif choix == 2:\n",
    "        nombreDecalage = int(input(\"Entrez le decalage: \"))\n",
    "        texte = input(\"Entrer un texte: \")\n",
    "        texte = list(texte)\n",
    "        print(\"+--+-------------------------------------------------+--+\")\n",
    "        print(\"Decodage: \",''.join(decodage(texte,nombreDecalage)))\n",
    "        print(\"+--+-------------------------------------------------+--+\")\n",
    "\n",
    "    else: \n",
    "        pass\n",
    "#-------------------------------------------------------------------------------------------------------------------   "
   ]
  },
  {
   "cell_type": "markdown",
   "id": "367b3621-5f85-4a94-901b-9992180b8148",
   "metadata": {},
   "source": [
    "### Appreciation Exercice 9"
   ]
  },
  {
   "cell_type": "code",
   "execution_count": null,
   "id": "78fd2784-ce48-4677-bd72-7b46939e973b",
   "metadata": {},
   "outputs": [],
   "source": [
    "f = float(input('Fonctionnement : 15pts'))\n",
    "u = float(input('Utilisation d’une fonction encodage et une fonction décodage : 2pts')\n",
    "q = float(input('Qualité du code: 3pts'))\n",
    "a = float(input('Appréciation du jury: 5pts'))\n",
    "print(f'Note : {f + q + a + u}')"
   ]
  },
  {
   "cell_type": "markdown",
   "id": "fa0cb741-dbc4-4a54-9e91-d5f7201bac4b",
   "metadata": {},
   "source": [
    "# Remarques et conseils Pour l'amélioration de l'apprenant"
   ]
  },
  {
   "cell_type": "markdown",
   "id": "bbd725b8-4626-49d2-a6d8-38528ae1b52a",
   "metadata": {},
   "source": []
  }
 ],
 "metadata": {
  "kernelspec": {
   "display_name": "Python 3",
   "language": "python",
   "name": "python3"
  },
  "language_info": {
   "codemirror_mode": {
    "name": "ipython",
    "version": 3
   },
   "file_extension": ".py",
   "mimetype": "text/x-python",
   "name": "python",
   "nbconvert_exporter": "python",
   "pygments_lexer": "ipython3",
   "version": "3.8.10"
  }
 },
 "nbformat": 4,
 "nbformat_minor": 5
}
